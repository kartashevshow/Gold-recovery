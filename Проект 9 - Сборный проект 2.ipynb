{
 "cells": [
  {
   "cell_type": "markdown",
   "metadata": {
    "toc": true
   },
   "source": [
    "<h1>Содержание<span class=\"tocSkip\"></span></h1>\n",
    "<div class=\"toc\"><ul class=\"toc-item\"><li><span><a href=\"#Подготовка-данных\" data-toc-modified-id=\"Подготовка-данных-1\"><span class=\"toc-item-num\">1&nbsp;&nbsp;</span>Подготовка данных</a></span><ul class=\"toc-item\"><li><span><a href=\"#Проверим,-что-эффективность-обогащения-рассчитана-правильно.\" data-toc-modified-id=\"Проверим,-что-эффективность-обогащения-рассчитана-правильно.-1.1\"><span class=\"toc-item-num\">1.1&nbsp;&nbsp;</span>Проверим, что эффективность обогащения рассчитана правильно.</a></span></li><li><span><a href=\"#Вывод\" data-toc-modified-id=\"Вывод-1.2\"><span class=\"toc-item-num\">1.2&nbsp;&nbsp;</span>Вывод</a></span></li><li><span><a href=\"#Проверим,-какие-признаки-не-доступны-в-тестовой-выборке.\" data-toc-modified-id=\"Проверим,-какие-признаки-не-доступны-в-тестовой-выборке.-1.3\"><span class=\"toc-item-num\">1.3&nbsp;&nbsp;</span>Проверим, какие признаки не доступны в тестовой выборке.</a></span></li><li><span><a href=\"#Предобработка-данных\" data-toc-modified-id=\"Предобработка-данных-1.4\"><span class=\"toc-item-num\">1.4&nbsp;&nbsp;</span>Предобработка данных</a></span></li></ul></li><li><span><a href=\"#Анализ-данных\" data-toc-modified-id=\"Анализ-данных-2\"><span class=\"toc-item-num\">2&nbsp;&nbsp;</span>Анализ данных</a></span><ul class=\"toc-item\"><li><span><a href=\"#Определим-концентрацию-металлов-на-разных-этапах-очистки\" data-toc-modified-id=\"Определим-концентрацию-металлов-на-разных-этапах-очистки-2.1\"><span class=\"toc-item-num\">2.1&nbsp;&nbsp;</span>Определим концентрацию металлов на разных этапах очистки</a></span></li><li><span><a href=\"#Сравнение-размера-гранул-сырья-на-обучающей-и-тестовой-выборке\" data-toc-modified-id=\"Сравнение-размера-гранул-сырья-на-обучающей-и-тестовой-выборке-2.2\"><span class=\"toc-item-num\">2.2&nbsp;&nbsp;</span>Сравнение размера гранул сырья на обучающей и тестовой выборке</a></span></li><li><span><a href=\"#Исследование-суммарной-концентрации-всех-веществ-на-разных-стадиях\" data-toc-modified-id=\"Исследование-суммарной-концентрации-всех-веществ-на-разных-стадиях-2.3\"><span class=\"toc-item-num\">2.3&nbsp;&nbsp;</span>Исследование суммарной концентрации всех веществ на разных стадиях</a></span></li></ul></li><li><span><a href=\"#Модель\" data-toc-modified-id=\"Модель-3\"><span class=\"toc-item-num\">3&nbsp;&nbsp;</span>Модель</a></span><ul class=\"toc-item\"><li><span><a href=\"#Сравним-результаты-с-константной-моделью\" data-toc-modified-id=\"Сравним-результаты-с-константной-моделью-3.1\"><span class=\"toc-item-num\">3.1&nbsp;&nbsp;</span>Сравним результаты с константной моделью</a></span></li><li><span><a href=\"#Вывод\" data-toc-modified-id=\"Вывод-3.2\"><span class=\"toc-item-num\">3.2&nbsp;&nbsp;</span>Вывод</a></span></li></ul></li><li><span><a href=\"#Чек-лист-готовности-проекта\" data-toc-modified-id=\"Чек-лист-готовности-проекта-4\"><span class=\"toc-item-num\">4&nbsp;&nbsp;</span>Чек-лист готовности проекта</a></span></li></ul></div>"
   ]
  },
  {
   "cell_type": "markdown",
   "metadata": {},
   "source": [
    "# Восстановление золота из руды"
   ]
  },
  {
   "cell_type": "markdown",
   "metadata": {},
   "source": [
    "Необходимо подготовить прототип модели машинного обучения для «Цифры». Компания разрабатывает решения для эффективной работы промышленных предприятий.\n",
    "\n",
    "Модель должна предсказать коэффициент восстановления золота из золотосодержащей руды. Используйте данные с параметрами добычи и очистки. \n",
    "\n",
    "Модель поможет оптимизировать производство, чтобы не запускать предприятие с убыточными характеристиками.\n",
    "\n",
    "Вам нужно:\n",
    "\n",
    "1. Подготовить данные;\n",
    "2. Провести исследовательский анализ данных;\n",
    "3. Построить и обучить модель.\n",
    "\n",
    "Чтобы выполнить проект, обращайтесь к библиотекам *pandas*, *matplotlib* и *sklearn.* Вам поможет их документация."
   ]
  },
  {
   "cell_type": "markdown",
   "metadata": {},
   "source": [
    "## Подготовка данных"
   ]
  },
  {
   "cell_type": "code",
   "execution_count": 1,
   "metadata": {},
   "outputs": [],
   "source": [
    "import pandas as pd\n",
    "import numpy as np\n",
    "import seaborn as sns\n",
    "import matplotlib.pyplot as plt\n",
    "from itertools import chain #подглядел на stackowerflow хитрый способ \"распаковки\" списка списков\n",
    "from sklearn.metrics import (mean_absolute_error,\n",
    "                             make_scorer)\n",
    "from sklearn.tree import DecisionTreeRegressor\n",
    "from sklearn.ensemble import RandomForestRegressor\n",
    "from sklearn.preprocessing import StandardScaler\n",
    "from sklearn.model_selection import GridSearchCV\n",
    "from sklearn.dummy import DummyRegressor\n",
    "\n",
    "\n",
    "import warnings\n",
    "warnings.filterwarnings(\"ignore\")\n",
    "\n",
    "RANDOM = 42"
   ]
  },
  {
   "cell_type": "code",
   "execution_count": 2,
   "metadata": {},
   "outputs": [],
   "source": [
    "try:\n",
    "    gold_train = pd.read_csv('/datasets/gold_recovery_train_new.csv')\n",
    "    gold_test = pd.read_csv('/datasets/gold_recovery_test_new.csv')\n",
    "    gold_full = pd.read_csv('/datasets/gold_recovery_full_new.csv')\n",
    "except:\n",
    "    gold_train = pd.read_csv('gold_recovery_train_new.csv')\n",
    "    gold_test = pd.read_csv('gold_recovery_test_new.csv')\n",
    "    gold_full = pd.read_csv('gold_recovery_full_new.csv')"
   ]
  },
  {
   "cell_type": "code",
   "execution_count": 3,
   "metadata": {
    "scrolled": true
   },
   "outputs": [
    {
     "name": "stdout",
     "output_type": "stream",
     "text": [
      "Тренировочный набор данных:\n"
     ]
    },
    {
     "data": {
      "text/html": [
       "<div>\n",
       "<style scoped>\n",
       "    .dataframe tbody tr th:only-of-type {\n",
       "        vertical-align: middle;\n",
       "    }\n",
       "\n",
       "    .dataframe tbody tr th {\n",
       "        vertical-align: top;\n",
       "    }\n",
       "\n",
       "    .dataframe thead th {\n",
       "        text-align: right;\n",
       "    }\n",
       "</style>\n",
       "<table border=\"1\" class=\"dataframe\">\n",
       "  <thead>\n",
       "    <tr style=\"text-align: right;\">\n",
       "      <th></th>\n",
       "      <th>date</th>\n",
       "      <th>final.output.concentrate_ag</th>\n",
       "      <th>final.output.concentrate_pb</th>\n",
       "      <th>final.output.concentrate_sol</th>\n",
       "      <th>final.output.concentrate_au</th>\n",
       "      <th>final.output.recovery</th>\n",
       "      <th>final.output.tail_ag</th>\n",
       "      <th>final.output.tail_pb</th>\n",
       "      <th>final.output.tail_sol</th>\n",
       "      <th>final.output.tail_au</th>\n",
       "      <th>...</th>\n",
       "      <th>secondary_cleaner.state.floatbank4_a_air</th>\n",
       "      <th>secondary_cleaner.state.floatbank4_a_level</th>\n",
       "      <th>secondary_cleaner.state.floatbank4_b_air</th>\n",
       "      <th>secondary_cleaner.state.floatbank4_b_level</th>\n",
       "      <th>secondary_cleaner.state.floatbank5_a_air</th>\n",
       "      <th>secondary_cleaner.state.floatbank5_a_level</th>\n",
       "      <th>secondary_cleaner.state.floatbank5_b_air</th>\n",
       "      <th>secondary_cleaner.state.floatbank5_b_level</th>\n",
       "      <th>secondary_cleaner.state.floatbank6_a_air</th>\n",
       "      <th>secondary_cleaner.state.floatbank6_a_level</th>\n",
       "    </tr>\n",
       "  </thead>\n",
       "  <tbody>\n",
       "    <tr>\n",
       "      <th>0</th>\n",
       "      <td>2016-01-15 00:00:00</td>\n",
       "      <td>6.055403</td>\n",
       "      <td>9.889648</td>\n",
       "      <td>5.507324</td>\n",
       "      <td>42.192020</td>\n",
       "      <td>70.541216</td>\n",
       "      <td>10.411962</td>\n",
       "      <td>0.895447</td>\n",
       "      <td>16.904297</td>\n",
       "      <td>2.143149</td>\n",
       "      <td>...</td>\n",
       "      <td>14.016835</td>\n",
       "      <td>-502.488007</td>\n",
       "      <td>12.099931</td>\n",
       "      <td>-504.715942</td>\n",
       "      <td>9.925633</td>\n",
       "      <td>-498.310211</td>\n",
       "      <td>8.079666</td>\n",
       "      <td>-500.470978</td>\n",
       "      <td>14.151341</td>\n",
       "      <td>-605.841980</td>\n",
       "    </tr>\n",
       "    <tr>\n",
       "      <th>1</th>\n",
       "      <td>2016-01-15 01:00:00</td>\n",
       "      <td>6.029369</td>\n",
       "      <td>9.968944</td>\n",
       "      <td>5.257781</td>\n",
       "      <td>42.701629</td>\n",
       "      <td>69.266198</td>\n",
       "      <td>10.462676</td>\n",
       "      <td>0.927452</td>\n",
       "      <td>16.634514</td>\n",
       "      <td>2.224930</td>\n",
       "      <td>...</td>\n",
       "      <td>13.992281</td>\n",
       "      <td>-505.503262</td>\n",
       "      <td>11.950531</td>\n",
       "      <td>-501.331529</td>\n",
       "      <td>10.039245</td>\n",
       "      <td>-500.169983</td>\n",
       "      <td>7.984757</td>\n",
       "      <td>-500.582168</td>\n",
       "      <td>13.998353</td>\n",
       "      <td>-599.787184</td>\n",
       "    </tr>\n",
       "    <tr>\n",
       "      <th>2</th>\n",
       "      <td>2016-01-15 02:00:00</td>\n",
       "      <td>6.055926</td>\n",
       "      <td>10.213995</td>\n",
       "      <td>5.383759</td>\n",
       "      <td>42.657501</td>\n",
       "      <td>68.116445</td>\n",
       "      <td>10.507046</td>\n",
       "      <td>0.953716</td>\n",
       "      <td>16.208849</td>\n",
       "      <td>2.257889</td>\n",
       "      <td>...</td>\n",
       "      <td>14.015015</td>\n",
       "      <td>-502.520901</td>\n",
       "      <td>11.912783</td>\n",
       "      <td>-501.133383</td>\n",
       "      <td>10.070913</td>\n",
       "      <td>-500.129135</td>\n",
       "      <td>8.013877</td>\n",
       "      <td>-500.517572</td>\n",
       "      <td>14.028663</td>\n",
       "      <td>-601.427363</td>\n",
       "    </tr>\n",
       "    <tr>\n",
       "      <th>3</th>\n",
       "      <td>2016-01-15 03:00:00</td>\n",
       "      <td>6.047977</td>\n",
       "      <td>9.977019</td>\n",
       "      <td>4.858634</td>\n",
       "      <td>42.689819</td>\n",
       "      <td>68.347543</td>\n",
       "      <td>10.422762</td>\n",
       "      <td>0.883763</td>\n",
       "      <td>16.532835</td>\n",
       "      <td>2.146849</td>\n",
       "      <td>...</td>\n",
       "      <td>14.036510</td>\n",
       "      <td>-500.857308</td>\n",
       "      <td>11.999550</td>\n",
       "      <td>-501.193686</td>\n",
       "      <td>9.970366</td>\n",
       "      <td>-499.201640</td>\n",
       "      <td>7.977324</td>\n",
       "      <td>-500.255908</td>\n",
       "      <td>14.005551</td>\n",
       "      <td>-599.996129</td>\n",
       "    </tr>\n",
       "    <tr>\n",
       "      <th>4</th>\n",
       "      <td>2016-01-15 04:00:00</td>\n",
       "      <td>6.148599</td>\n",
       "      <td>10.142511</td>\n",
       "      <td>4.939416</td>\n",
       "      <td>42.774141</td>\n",
       "      <td>66.927016</td>\n",
       "      <td>10.360302</td>\n",
       "      <td>0.792826</td>\n",
       "      <td>16.525686</td>\n",
       "      <td>2.055292</td>\n",
       "      <td>...</td>\n",
       "      <td>14.027298</td>\n",
       "      <td>-499.838632</td>\n",
       "      <td>11.953070</td>\n",
       "      <td>-501.053894</td>\n",
       "      <td>9.925709</td>\n",
       "      <td>-501.686727</td>\n",
       "      <td>7.894242</td>\n",
       "      <td>-500.356035</td>\n",
       "      <td>13.996647</td>\n",
       "      <td>-601.496691</td>\n",
       "    </tr>\n",
       "  </tbody>\n",
       "</table>\n",
       "<p>5 rows × 87 columns</p>\n",
       "</div>"
      ],
      "text/plain": [
       "                  date  final.output.concentrate_ag  \\\n",
       "0  2016-01-15 00:00:00                     6.055403   \n",
       "1  2016-01-15 01:00:00                     6.029369   \n",
       "2  2016-01-15 02:00:00                     6.055926   \n",
       "3  2016-01-15 03:00:00                     6.047977   \n",
       "4  2016-01-15 04:00:00                     6.148599   \n",
       "\n",
       "   final.output.concentrate_pb  final.output.concentrate_sol  \\\n",
       "0                     9.889648                      5.507324   \n",
       "1                     9.968944                      5.257781   \n",
       "2                    10.213995                      5.383759   \n",
       "3                     9.977019                      4.858634   \n",
       "4                    10.142511                      4.939416   \n",
       "\n",
       "   final.output.concentrate_au  final.output.recovery  final.output.tail_ag  \\\n",
       "0                    42.192020              70.541216             10.411962   \n",
       "1                    42.701629              69.266198             10.462676   \n",
       "2                    42.657501              68.116445             10.507046   \n",
       "3                    42.689819              68.347543             10.422762   \n",
       "4                    42.774141              66.927016             10.360302   \n",
       "\n",
       "   final.output.tail_pb  final.output.tail_sol  final.output.tail_au  ...  \\\n",
       "0              0.895447              16.904297              2.143149  ...   \n",
       "1              0.927452              16.634514              2.224930  ...   \n",
       "2              0.953716              16.208849              2.257889  ...   \n",
       "3              0.883763              16.532835              2.146849  ...   \n",
       "4              0.792826              16.525686              2.055292  ...   \n",
       "\n",
       "   secondary_cleaner.state.floatbank4_a_air  \\\n",
       "0                                 14.016835   \n",
       "1                                 13.992281   \n",
       "2                                 14.015015   \n",
       "3                                 14.036510   \n",
       "4                                 14.027298   \n",
       "\n",
       "   secondary_cleaner.state.floatbank4_a_level  \\\n",
       "0                                 -502.488007   \n",
       "1                                 -505.503262   \n",
       "2                                 -502.520901   \n",
       "3                                 -500.857308   \n",
       "4                                 -499.838632   \n",
       "\n",
       "   secondary_cleaner.state.floatbank4_b_air  \\\n",
       "0                                 12.099931   \n",
       "1                                 11.950531   \n",
       "2                                 11.912783   \n",
       "3                                 11.999550   \n",
       "4                                 11.953070   \n",
       "\n",
       "   secondary_cleaner.state.floatbank4_b_level  \\\n",
       "0                                 -504.715942   \n",
       "1                                 -501.331529   \n",
       "2                                 -501.133383   \n",
       "3                                 -501.193686   \n",
       "4                                 -501.053894   \n",
       "\n",
       "   secondary_cleaner.state.floatbank5_a_air  \\\n",
       "0                                  9.925633   \n",
       "1                                 10.039245   \n",
       "2                                 10.070913   \n",
       "3                                  9.970366   \n",
       "4                                  9.925709   \n",
       "\n",
       "   secondary_cleaner.state.floatbank5_a_level  \\\n",
       "0                                 -498.310211   \n",
       "1                                 -500.169983   \n",
       "2                                 -500.129135   \n",
       "3                                 -499.201640   \n",
       "4                                 -501.686727   \n",
       "\n",
       "   secondary_cleaner.state.floatbank5_b_air  \\\n",
       "0                                  8.079666   \n",
       "1                                  7.984757   \n",
       "2                                  8.013877   \n",
       "3                                  7.977324   \n",
       "4                                  7.894242   \n",
       "\n",
       "   secondary_cleaner.state.floatbank5_b_level  \\\n",
       "0                                 -500.470978   \n",
       "1                                 -500.582168   \n",
       "2                                 -500.517572   \n",
       "3                                 -500.255908   \n",
       "4                                 -500.356035   \n",
       "\n",
       "   secondary_cleaner.state.floatbank6_a_air  \\\n",
       "0                                 14.151341   \n",
       "1                                 13.998353   \n",
       "2                                 14.028663   \n",
       "3                                 14.005551   \n",
       "4                                 13.996647   \n",
       "\n",
       "   secondary_cleaner.state.floatbank6_a_level  \n",
       "0                                 -605.841980  \n",
       "1                                 -599.787184  \n",
       "2                                 -601.427363  \n",
       "3                                 -599.996129  \n",
       "4                                 -601.496691  \n",
       "\n",
       "[5 rows x 87 columns]"
      ]
     },
     "metadata": {},
     "output_type": "display_data"
    },
    {
     "name": "stdout",
     "output_type": "stream",
     "text": [
      "Тестовый набор данных:\n"
     ]
    },
    {
     "data": {
      "text/html": [
       "<div>\n",
       "<style scoped>\n",
       "    .dataframe tbody tr th:only-of-type {\n",
       "        vertical-align: middle;\n",
       "    }\n",
       "\n",
       "    .dataframe tbody tr th {\n",
       "        vertical-align: top;\n",
       "    }\n",
       "\n",
       "    .dataframe thead th {\n",
       "        text-align: right;\n",
       "    }\n",
       "</style>\n",
       "<table border=\"1\" class=\"dataframe\">\n",
       "  <thead>\n",
       "    <tr style=\"text-align: right;\">\n",
       "      <th></th>\n",
       "      <th>date</th>\n",
       "      <th>primary_cleaner.input.sulfate</th>\n",
       "      <th>primary_cleaner.input.depressant</th>\n",
       "      <th>primary_cleaner.input.feed_size</th>\n",
       "      <th>primary_cleaner.input.xanthate</th>\n",
       "      <th>primary_cleaner.state.floatbank8_a_air</th>\n",
       "      <th>primary_cleaner.state.floatbank8_a_level</th>\n",
       "      <th>primary_cleaner.state.floatbank8_b_air</th>\n",
       "      <th>primary_cleaner.state.floatbank8_b_level</th>\n",
       "      <th>primary_cleaner.state.floatbank8_c_air</th>\n",
       "      <th>...</th>\n",
       "      <th>secondary_cleaner.state.floatbank4_a_air</th>\n",
       "      <th>secondary_cleaner.state.floatbank4_a_level</th>\n",
       "      <th>secondary_cleaner.state.floatbank4_b_air</th>\n",
       "      <th>secondary_cleaner.state.floatbank4_b_level</th>\n",
       "      <th>secondary_cleaner.state.floatbank5_a_air</th>\n",
       "      <th>secondary_cleaner.state.floatbank5_a_level</th>\n",
       "      <th>secondary_cleaner.state.floatbank5_b_air</th>\n",
       "      <th>secondary_cleaner.state.floatbank5_b_level</th>\n",
       "      <th>secondary_cleaner.state.floatbank6_a_air</th>\n",
       "      <th>secondary_cleaner.state.floatbank6_a_level</th>\n",
       "    </tr>\n",
       "  </thead>\n",
       "  <tbody>\n",
       "    <tr>\n",
       "      <th>0</th>\n",
       "      <td>2016-09-01 00:59:59</td>\n",
       "      <td>210.800909</td>\n",
       "      <td>14.993118</td>\n",
       "      <td>8.080000</td>\n",
       "      <td>1.005021</td>\n",
       "      <td>1398.981301</td>\n",
       "      <td>-500.225577</td>\n",
       "      <td>1399.144926</td>\n",
       "      <td>-499.919735</td>\n",
       "      <td>1400.102998</td>\n",
       "      <td>...</td>\n",
       "      <td>12.023554</td>\n",
       "      <td>-497.795834</td>\n",
       "      <td>8.016656</td>\n",
       "      <td>-501.289139</td>\n",
       "      <td>7.946562</td>\n",
       "      <td>-432.317850</td>\n",
       "      <td>4.872511</td>\n",
       "      <td>-500.037437</td>\n",
       "      <td>26.705889</td>\n",
       "      <td>-499.709414</td>\n",
       "    </tr>\n",
       "    <tr>\n",
       "      <th>1</th>\n",
       "      <td>2016-09-01 01:59:59</td>\n",
       "      <td>215.392455</td>\n",
       "      <td>14.987471</td>\n",
       "      <td>8.080000</td>\n",
       "      <td>0.990469</td>\n",
       "      <td>1398.777912</td>\n",
       "      <td>-500.057435</td>\n",
       "      <td>1398.055362</td>\n",
       "      <td>-499.778182</td>\n",
       "      <td>1396.151033</td>\n",
       "      <td>...</td>\n",
       "      <td>12.058140</td>\n",
       "      <td>-498.695773</td>\n",
       "      <td>8.130979</td>\n",
       "      <td>-499.634209</td>\n",
       "      <td>7.958270</td>\n",
       "      <td>-525.839648</td>\n",
       "      <td>4.878850</td>\n",
       "      <td>-500.162375</td>\n",
       "      <td>25.019940</td>\n",
       "      <td>-499.819438</td>\n",
       "    </tr>\n",
       "    <tr>\n",
       "      <th>2</th>\n",
       "      <td>2016-09-01 02:59:59</td>\n",
       "      <td>215.259946</td>\n",
       "      <td>12.884934</td>\n",
       "      <td>7.786667</td>\n",
       "      <td>0.996043</td>\n",
       "      <td>1398.493666</td>\n",
       "      <td>-500.868360</td>\n",
       "      <td>1398.860436</td>\n",
       "      <td>-499.764529</td>\n",
       "      <td>1398.075709</td>\n",
       "      <td>...</td>\n",
       "      <td>11.962366</td>\n",
       "      <td>-498.767484</td>\n",
       "      <td>8.096893</td>\n",
       "      <td>-500.827423</td>\n",
       "      <td>8.071056</td>\n",
       "      <td>-500.801673</td>\n",
       "      <td>4.905125</td>\n",
       "      <td>-499.828510</td>\n",
       "      <td>24.994862</td>\n",
       "      <td>-500.622559</td>\n",
       "    </tr>\n",
       "    <tr>\n",
       "      <th>3</th>\n",
       "      <td>2016-09-01 03:59:59</td>\n",
       "      <td>215.336236</td>\n",
       "      <td>12.006805</td>\n",
       "      <td>7.640000</td>\n",
       "      <td>0.863514</td>\n",
       "      <td>1399.618111</td>\n",
       "      <td>-498.863574</td>\n",
       "      <td>1397.440120</td>\n",
       "      <td>-499.211024</td>\n",
       "      <td>1400.129303</td>\n",
       "      <td>...</td>\n",
       "      <td>12.033091</td>\n",
       "      <td>-498.350935</td>\n",
       "      <td>8.074946</td>\n",
       "      <td>-499.474407</td>\n",
       "      <td>7.897085</td>\n",
       "      <td>-500.868509</td>\n",
       "      <td>4.931400</td>\n",
       "      <td>-499.963623</td>\n",
       "      <td>24.948919</td>\n",
       "      <td>-498.709987</td>\n",
       "    </tr>\n",
       "    <tr>\n",
       "      <th>4</th>\n",
       "      <td>2016-09-01 04:59:59</td>\n",
       "      <td>199.099327</td>\n",
       "      <td>10.682530</td>\n",
       "      <td>7.530000</td>\n",
       "      <td>0.805575</td>\n",
       "      <td>1401.268123</td>\n",
       "      <td>-500.808305</td>\n",
       "      <td>1398.128818</td>\n",
       "      <td>-499.504543</td>\n",
       "      <td>1402.172226</td>\n",
       "      <td>...</td>\n",
       "      <td>12.025367</td>\n",
       "      <td>-500.786497</td>\n",
       "      <td>8.054678</td>\n",
       "      <td>-500.397500</td>\n",
       "      <td>8.107890</td>\n",
       "      <td>-509.526725</td>\n",
       "      <td>4.957674</td>\n",
       "      <td>-500.360026</td>\n",
       "      <td>25.003331</td>\n",
       "      <td>-500.856333</td>\n",
       "    </tr>\n",
       "  </tbody>\n",
       "</table>\n",
       "<p>5 rows × 53 columns</p>\n",
       "</div>"
      ],
      "text/plain": [
       "                  date  primary_cleaner.input.sulfate  \\\n",
       "0  2016-09-01 00:59:59                     210.800909   \n",
       "1  2016-09-01 01:59:59                     215.392455   \n",
       "2  2016-09-01 02:59:59                     215.259946   \n",
       "3  2016-09-01 03:59:59                     215.336236   \n",
       "4  2016-09-01 04:59:59                     199.099327   \n",
       "\n",
       "   primary_cleaner.input.depressant  primary_cleaner.input.feed_size  \\\n",
       "0                         14.993118                         8.080000   \n",
       "1                         14.987471                         8.080000   \n",
       "2                         12.884934                         7.786667   \n",
       "3                         12.006805                         7.640000   \n",
       "4                         10.682530                         7.530000   \n",
       "\n",
       "   primary_cleaner.input.xanthate  primary_cleaner.state.floatbank8_a_air  \\\n",
       "0                        1.005021                             1398.981301   \n",
       "1                        0.990469                             1398.777912   \n",
       "2                        0.996043                             1398.493666   \n",
       "3                        0.863514                             1399.618111   \n",
       "4                        0.805575                             1401.268123   \n",
       "\n",
       "   primary_cleaner.state.floatbank8_a_level  \\\n",
       "0                               -500.225577   \n",
       "1                               -500.057435   \n",
       "2                               -500.868360   \n",
       "3                               -498.863574   \n",
       "4                               -500.808305   \n",
       "\n",
       "   primary_cleaner.state.floatbank8_b_air  \\\n",
       "0                             1399.144926   \n",
       "1                             1398.055362   \n",
       "2                             1398.860436   \n",
       "3                             1397.440120   \n",
       "4                             1398.128818   \n",
       "\n",
       "   primary_cleaner.state.floatbank8_b_level  \\\n",
       "0                               -499.919735   \n",
       "1                               -499.778182   \n",
       "2                               -499.764529   \n",
       "3                               -499.211024   \n",
       "4                               -499.504543   \n",
       "\n",
       "   primary_cleaner.state.floatbank8_c_air  ...  \\\n",
       "0                             1400.102998  ...   \n",
       "1                             1396.151033  ...   \n",
       "2                             1398.075709  ...   \n",
       "3                             1400.129303  ...   \n",
       "4                             1402.172226  ...   \n",
       "\n",
       "   secondary_cleaner.state.floatbank4_a_air  \\\n",
       "0                                 12.023554   \n",
       "1                                 12.058140   \n",
       "2                                 11.962366   \n",
       "3                                 12.033091   \n",
       "4                                 12.025367   \n",
       "\n",
       "   secondary_cleaner.state.floatbank4_a_level  \\\n",
       "0                                 -497.795834   \n",
       "1                                 -498.695773   \n",
       "2                                 -498.767484   \n",
       "3                                 -498.350935   \n",
       "4                                 -500.786497   \n",
       "\n",
       "   secondary_cleaner.state.floatbank4_b_air  \\\n",
       "0                                  8.016656   \n",
       "1                                  8.130979   \n",
       "2                                  8.096893   \n",
       "3                                  8.074946   \n",
       "4                                  8.054678   \n",
       "\n",
       "   secondary_cleaner.state.floatbank4_b_level  \\\n",
       "0                                 -501.289139   \n",
       "1                                 -499.634209   \n",
       "2                                 -500.827423   \n",
       "3                                 -499.474407   \n",
       "4                                 -500.397500   \n",
       "\n",
       "   secondary_cleaner.state.floatbank5_a_air  \\\n",
       "0                                  7.946562   \n",
       "1                                  7.958270   \n",
       "2                                  8.071056   \n",
       "3                                  7.897085   \n",
       "4                                  8.107890   \n",
       "\n",
       "   secondary_cleaner.state.floatbank5_a_level  \\\n",
       "0                                 -432.317850   \n",
       "1                                 -525.839648   \n",
       "2                                 -500.801673   \n",
       "3                                 -500.868509   \n",
       "4                                 -509.526725   \n",
       "\n",
       "   secondary_cleaner.state.floatbank5_b_air  \\\n",
       "0                                  4.872511   \n",
       "1                                  4.878850   \n",
       "2                                  4.905125   \n",
       "3                                  4.931400   \n",
       "4                                  4.957674   \n",
       "\n",
       "   secondary_cleaner.state.floatbank5_b_level  \\\n",
       "0                                 -500.037437   \n",
       "1                                 -500.162375   \n",
       "2                                 -499.828510   \n",
       "3                                 -499.963623   \n",
       "4                                 -500.360026   \n",
       "\n",
       "   secondary_cleaner.state.floatbank6_a_air  \\\n",
       "0                                 26.705889   \n",
       "1                                 25.019940   \n",
       "2                                 24.994862   \n",
       "3                                 24.948919   \n",
       "4                                 25.003331   \n",
       "\n",
       "   secondary_cleaner.state.floatbank6_a_level  \n",
       "0                                 -499.709414  \n",
       "1                                 -499.819438  \n",
       "2                                 -500.622559  \n",
       "3                                 -498.709987  \n",
       "4                                 -500.856333  \n",
       "\n",
       "[5 rows x 53 columns]"
      ]
     },
     "metadata": {},
     "output_type": "display_data"
    },
    {
     "name": "stdout",
     "output_type": "stream",
     "text": [
      "Полный набор данных:\n"
     ]
    },
    {
     "data": {
      "text/html": [
       "<div>\n",
       "<style scoped>\n",
       "    .dataframe tbody tr th:only-of-type {\n",
       "        vertical-align: middle;\n",
       "    }\n",
       "\n",
       "    .dataframe tbody tr th {\n",
       "        vertical-align: top;\n",
       "    }\n",
       "\n",
       "    .dataframe thead th {\n",
       "        text-align: right;\n",
       "    }\n",
       "</style>\n",
       "<table border=\"1\" class=\"dataframe\">\n",
       "  <thead>\n",
       "    <tr style=\"text-align: right;\">\n",
       "      <th></th>\n",
       "      <th>date</th>\n",
       "      <th>final.output.concentrate_ag</th>\n",
       "      <th>final.output.concentrate_pb</th>\n",
       "      <th>final.output.concentrate_sol</th>\n",
       "      <th>final.output.concentrate_au</th>\n",
       "      <th>final.output.recovery</th>\n",
       "      <th>final.output.tail_ag</th>\n",
       "      <th>final.output.tail_pb</th>\n",
       "      <th>final.output.tail_sol</th>\n",
       "      <th>final.output.tail_au</th>\n",
       "      <th>...</th>\n",
       "      <th>secondary_cleaner.state.floatbank4_a_air</th>\n",
       "      <th>secondary_cleaner.state.floatbank4_a_level</th>\n",
       "      <th>secondary_cleaner.state.floatbank4_b_air</th>\n",
       "      <th>secondary_cleaner.state.floatbank4_b_level</th>\n",
       "      <th>secondary_cleaner.state.floatbank5_a_air</th>\n",
       "      <th>secondary_cleaner.state.floatbank5_a_level</th>\n",
       "      <th>secondary_cleaner.state.floatbank5_b_air</th>\n",
       "      <th>secondary_cleaner.state.floatbank5_b_level</th>\n",
       "      <th>secondary_cleaner.state.floatbank6_a_air</th>\n",
       "      <th>secondary_cleaner.state.floatbank6_a_level</th>\n",
       "    </tr>\n",
       "  </thead>\n",
       "  <tbody>\n",
       "    <tr>\n",
       "      <th>0</th>\n",
       "      <td>2016-01-15 00:00:00</td>\n",
       "      <td>6.055403</td>\n",
       "      <td>9.889648</td>\n",
       "      <td>5.507324</td>\n",
       "      <td>42.192020</td>\n",
       "      <td>70.541216</td>\n",
       "      <td>10.411962</td>\n",
       "      <td>0.895447</td>\n",
       "      <td>16.904297</td>\n",
       "      <td>2.143149</td>\n",
       "      <td>...</td>\n",
       "      <td>14.016835</td>\n",
       "      <td>-502.488007</td>\n",
       "      <td>12.099931</td>\n",
       "      <td>-504.715942</td>\n",
       "      <td>9.925633</td>\n",
       "      <td>-498.310211</td>\n",
       "      <td>8.079666</td>\n",
       "      <td>-500.470978</td>\n",
       "      <td>14.151341</td>\n",
       "      <td>-605.841980</td>\n",
       "    </tr>\n",
       "    <tr>\n",
       "      <th>1</th>\n",
       "      <td>2016-01-15 01:00:00</td>\n",
       "      <td>6.029369</td>\n",
       "      <td>9.968944</td>\n",
       "      <td>5.257781</td>\n",
       "      <td>42.701629</td>\n",
       "      <td>69.266198</td>\n",
       "      <td>10.462676</td>\n",
       "      <td>0.927452</td>\n",
       "      <td>16.634514</td>\n",
       "      <td>2.224930</td>\n",
       "      <td>...</td>\n",
       "      <td>13.992281</td>\n",
       "      <td>-505.503262</td>\n",
       "      <td>11.950531</td>\n",
       "      <td>-501.331529</td>\n",
       "      <td>10.039245</td>\n",
       "      <td>-500.169983</td>\n",
       "      <td>7.984757</td>\n",
       "      <td>-500.582168</td>\n",
       "      <td>13.998353</td>\n",
       "      <td>-599.787184</td>\n",
       "    </tr>\n",
       "    <tr>\n",
       "      <th>2</th>\n",
       "      <td>2016-01-15 02:00:00</td>\n",
       "      <td>6.055926</td>\n",
       "      <td>10.213995</td>\n",
       "      <td>5.383759</td>\n",
       "      <td>42.657501</td>\n",
       "      <td>68.116445</td>\n",
       "      <td>10.507046</td>\n",
       "      <td>0.953716</td>\n",
       "      <td>16.208849</td>\n",
       "      <td>2.257889</td>\n",
       "      <td>...</td>\n",
       "      <td>14.015015</td>\n",
       "      <td>-502.520901</td>\n",
       "      <td>11.912783</td>\n",
       "      <td>-501.133383</td>\n",
       "      <td>10.070913</td>\n",
       "      <td>-500.129135</td>\n",
       "      <td>8.013877</td>\n",
       "      <td>-500.517572</td>\n",
       "      <td>14.028663</td>\n",
       "      <td>-601.427363</td>\n",
       "    </tr>\n",
       "    <tr>\n",
       "      <th>3</th>\n",
       "      <td>2016-01-15 03:00:00</td>\n",
       "      <td>6.047977</td>\n",
       "      <td>9.977019</td>\n",
       "      <td>4.858634</td>\n",
       "      <td>42.689819</td>\n",
       "      <td>68.347543</td>\n",
       "      <td>10.422762</td>\n",
       "      <td>0.883763</td>\n",
       "      <td>16.532835</td>\n",
       "      <td>2.146849</td>\n",
       "      <td>...</td>\n",
       "      <td>14.036510</td>\n",
       "      <td>-500.857308</td>\n",
       "      <td>11.999550</td>\n",
       "      <td>-501.193686</td>\n",
       "      <td>9.970366</td>\n",
       "      <td>-499.201640</td>\n",
       "      <td>7.977324</td>\n",
       "      <td>-500.255908</td>\n",
       "      <td>14.005551</td>\n",
       "      <td>-599.996129</td>\n",
       "    </tr>\n",
       "    <tr>\n",
       "      <th>4</th>\n",
       "      <td>2016-01-15 04:00:00</td>\n",
       "      <td>6.148599</td>\n",
       "      <td>10.142511</td>\n",
       "      <td>4.939416</td>\n",
       "      <td>42.774141</td>\n",
       "      <td>66.927016</td>\n",
       "      <td>10.360302</td>\n",
       "      <td>0.792826</td>\n",
       "      <td>16.525686</td>\n",
       "      <td>2.055292</td>\n",
       "      <td>...</td>\n",
       "      <td>14.027298</td>\n",
       "      <td>-499.838632</td>\n",
       "      <td>11.953070</td>\n",
       "      <td>-501.053894</td>\n",
       "      <td>9.925709</td>\n",
       "      <td>-501.686727</td>\n",
       "      <td>7.894242</td>\n",
       "      <td>-500.356035</td>\n",
       "      <td>13.996647</td>\n",
       "      <td>-601.496691</td>\n",
       "    </tr>\n",
       "  </tbody>\n",
       "</table>\n",
       "<p>5 rows × 87 columns</p>\n",
       "</div>"
      ],
      "text/plain": [
       "                  date  final.output.concentrate_ag  \\\n",
       "0  2016-01-15 00:00:00                     6.055403   \n",
       "1  2016-01-15 01:00:00                     6.029369   \n",
       "2  2016-01-15 02:00:00                     6.055926   \n",
       "3  2016-01-15 03:00:00                     6.047977   \n",
       "4  2016-01-15 04:00:00                     6.148599   \n",
       "\n",
       "   final.output.concentrate_pb  final.output.concentrate_sol  \\\n",
       "0                     9.889648                      5.507324   \n",
       "1                     9.968944                      5.257781   \n",
       "2                    10.213995                      5.383759   \n",
       "3                     9.977019                      4.858634   \n",
       "4                    10.142511                      4.939416   \n",
       "\n",
       "   final.output.concentrate_au  final.output.recovery  final.output.tail_ag  \\\n",
       "0                    42.192020              70.541216             10.411962   \n",
       "1                    42.701629              69.266198             10.462676   \n",
       "2                    42.657501              68.116445             10.507046   \n",
       "3                    42.689819              68.347543             10.422762   \n",
       "4                    42.774141              66.927016             10.360302   \n",
       "\n",
       "   final.output.tail_pb  final.output.tail_sol  final.output.tail_au  ...  \\\n",
       "0              0.895447              16.904297              2.143149  ...   \n",
       "1              0.927452              16.634514              2.224930  ...   \n",
       "2              0.953716              16.208849              2.257889  ...   \n",
       "3              0.883763              16.532835              2.146849  ...   \n",
       "4              0.792826              16.525686              2.055292  ...   \n",
       "\n",
       "   secondary_cleaner.state.floatbank4_a_air  \\\n",
       "0                                 14.016835   \n",
       "1                                 13.992281   \n",
       "2                                 14.015015   \n",
       "3                                 14.036510   \n",
       "4                                 14.027298   \n",
       "\n",
       "   secondary_cleaner.state.floatbank4_a_level  \\\n",
       "0                                 -502.488007   \n",
       "1                                 -505.503262   \n",
       "2                                 -502.520901   \n",
       "3                                 -500.857308   \n",
       "4                                 -499.838632   \n",
       "\n",
       "   secondary_cleaner.state.floatbank4_b_air  \\\n",
       "0                                 12.099931   \n",
       "1                                 11.950531   \n",
       "2                                 11.912783   \n",
       "3                                 11.999550   \n",
       "4                                 11.953070   \n",
       "\n",
       "   secondary_cleaner.state.floatbank4_b_level  \\\n",
       "0                                 -504.715942   \n",
       "1                                 -501.331529   \n",
       "2                                 -501.133383   \n",
       "3                                 -501.193686   \n",
       "4                                 -501.053894   \n",
       "\n",
       "   secondary_cleaner.state.floatbank5_a_air  \\\n",
       "0                                  9.925633   \n",
       "1                                 10.039245   \n",
       "2                                 10.070913   \n",
       "3                                  9.970366   \n",
       "4                                  9.925709   \n",
       "\n",
       "   secondary_cleaner.state.floatbank5_a_level  \\\n",
       "0                                 -498.310211   \n",
       "1                                 -500.169983   \n",
       "2                                 -500.129135   \n",
       "3                                 -499.201640   \n",
       "4                                 -501.686727   \n",
       "\n",
       "   secondary_cleaner.state.floatbank5_b_air  \\\n",
       "0                                  8.079666   \n",
       "1                                  7.984757   \n",
       "2                                  8.013877   \n",
       "3                                  7.977324   \n",
       "4                                  7.894242   \n",
       "\n",
       "   secondary_cleaner.state.floatbank5_b_level  \\\n",
       "0                                 -500.470978   \n",
       "1                                 -500.582168   \n",
       "2                                 -500.517572   \n",
       "3                                 -500.255908   \n",
       "4                                 -500.356035   \n",
       "\n",
       "   secondary_cleaner.state.floatbank6_a_air  \\\n",
       "0                                 14.151341   \n",
       "1                                 13.998353   \n",
       "2                                 14.028663   \n",
       "3                                 14.005551   \n",
       "4                                 13.996647   \n",
       "\n",
       "   secondary_cleaner.state.floatbank6_a_level  \n",
       "0                                 -605.841980  \n",
       "1                                 -599.787184  \n",
       "2                                 -601.427363  \n",
       "3                                 -599.996129  \n",
       "4                                 -601.496691  \n",
       "\n",
       "[5 rows x 87 columns]"
      ]
     },
     "metadata": {},
     "output_type": "display_data"
    }
   ],
   "source": [
    "print('Тренировочный набор данных:')\n",
    "display(gold_train.head())\n",
    "print('Тестовый набор данных:')\n",
    "display(gold_test.head())\n",
    "print('Полный набор данных:')\n",
    "display(gold_full.head())"
   ]
  },
  {
   "cell_type": "code",
   "execution_count": 4,
   "metadata": {},
   "outputs": [
    {
     "name": "stdout",
     "output_type": "stream",
     "text": [
      "Тренировочный набор данных:\n",
      "<class 'pandas.core.frame.DataFrame'>\n",
      "RangeIndex: 14149 entries, 0 to 14148\n",
      "Data columns (total 87 columns):\n",
      " #   Column                                              Non-Null Count  Dtype  \n",
      "---  ------                                              --------------  -----  \n",
      " 0   date                                                14149 non-null  object \n",
      " 1   final.output.concentrate_ag                         14148 non-null  float64\n",
      " 2   final.output.concentrate_pb                         14148 non-null  float64\n",
      " 3   final.output.concentrate_sol                        13938 non-null  float64\n",
      " 4   final.output.concentrate_au                         14149 non-null  float64\n",
      " 5   final.output.recovery                               14149 non-null  float64\n",
      " 6   final.output.tail_ag                                14149 non-null  float64\n",
      " 7   final.output.tail_pb                                14049 non-null  float64\n",
      " 8   final.output.tail_sol                               14144 non-null  float64\n",
      " 9   final.output.tail_au                                14149 non-null  float64\n",
      " 10  primary_cleaner.input.sulfate                       14129 non-null  float64\n",
      " 11  primary_cleaner.input.depressant                    14117 non-null  float64\n",
      " 12  primary_cleaner.input.feed_size                     14149 non-null  float64\n",
      " 13  primary_cleaner.input.xanthate                      14049 non-null  float64\n",
      " 14  primary_cleaner.output.concentrate_ag               14149 non-null  float64\n",
      " 15  primary_cleaner.output.concentrate_pb               14063 non-null  float64\n",
      " 16  primary_cleaner.output.concentrate_sol              13863 non-null  float64\n",
      " 17  primary_cleaner.output.concentrate_au               14149 non-null  float64\n",
      " 18  primary_cleaner.output.tail_ag                      14148 non-null  float64\n",
      " 19  primary_cleaner.output.tail_pb                      14134 non-null  float64\n",
      " 20  primary_cleaner.output.tail_sol                     14103 non-null  float64\n",
      " 21  primary_cleaner.output.tail_au                      14149 non-null  float64\n",
      " 22  primary_cleaner.state.floatbank8_a_air              14145 non-null  float64\n",
      " 23  primary_cleaner.state.floatbank8_a_level            14148 non-null  float64\n",
      " 24  primary_cleaner.state.floatbank8_b_air              14145 non-null  float64\n",
      " 25  primary_cleaner.state.floatbank8_b_level            14148 non-null  float64\n",
      " 26  primary_cleaner.state.floatbank8_c_air              14147 non-null  float64\n",
      " 27  primary_cleaner.state.floatbank8_c_level            14148 non-null  float64\n",
      " 28  primary_cleaner.state.floatbank8_d_air              14146 non-null  float64\n",
      " 29  primary_cleaner.state.floatbank8_d_level            14148 non-null  float64\n",
      " 30  rougher.calculation.sulfate_to_au_concentrate       14148 non-null  float64\n",
      " 31  rougher.calculation.floatbank10_sulfate_to_au_feed  14148 non-null  float64\n",
      " 32  rougher.calculation.floatbank11_sulfate_to_au_feed  14148 non-null  float64\n",
      " 33  rougher.calculation.au_pb_ratio                     14149 non-null  float64\n",
      " 34  rougher.input.feed_ag                               14149 non-null  float64\n",
      " 35  rougher.input.feed_pb                               14049 non-null  float64\n",
      " 36  rougher.input.feed_rate                             14141 non-null  float64\n",
      " 37  rougher.input.feed_size                             14005 non-null  float64\n",
      " 38  rougher.input.feed_sol                              14071 non-null  float64\n",
      " 39  rougher.input.feed_au                               14149 non-null  float64\n",
      " 40  rougher.input.floatbank10_sulfate                   14120 non-null  float64\n",
      " 41  rougher.input.floatbank10_xanthate                  14141 non-null  float64\n",
      " 42  rougher.input.floatbank11_sulfate                   14113 non-null  float64\n",
      " 43  rougher.input.floatbank11_xanthate                  13721 non-null  float64\n",
      " 44  rougher.output.concentrate_ag                       14149 non-null  float64\n",
      " 45  rougher.output.concentrate_pb                       14149 non-null  float64\n",
      " 46  rougher.output.concentrate_sol                      14127 non-null  float64\n",
      " 47  rougher.output.concentrate_au                       14149 non-null  float64\n",
      " 48  rougher.output.recovery                             14149 non-null  float64\n",
      " 49  rougher.output.tail_ag                              14148 non-null  float64\n",
      " 50  rougher.output.tail_pb                              14149 non-null  float64\n",
      " 51  rougher.output.tail_sol                             14149 non-null  float64\n",
      " 52  rougher.output.tail_au                              14149 non-null  float64\n",
      " 53  rougher.state.floatbank10_a_air                     14148 non-null  float64\n",
      " 54  rougher.state.floatbank10_a_level                   14148 non-null  float64\n",
      " 55  rougher.state.floatbank10_b_air                     14148 non-null  float64\n",
      " 56  rougher.state.floatbank10_b_level                   14148 non-null  float64\n",
      " 57  rougher.state.floatbank10_c_air                     14148 non-null  float64\n",
      " 58  rougher.state.floatbank10_c_level                   14148 non-null  float64\n",
      " 59  rougher.state.floatbank10_d_air                     14149 non-null  float64\n",
      " 60  rougher.state.floatbank10_d_level                   14149 non-null  float64\n",
      " 61  rougher.state.floatbank10_e_air                     13713 non-null  float64\n",
      " 62  rougher.state.floatbank10_e_level                   14149 non-null  float64\n",
      " 63  rougher.state.floatbank10_f_air                     14149 non-null  float64\n",
      " 64  rougher.state.floatbank10_f_level                   14149 non-null  float64\n",
      " 65  secondary_cleaner.output.tail_ag                    14147 non-null  float64\n",
      " 66  secondary_cleaner.output.tail_pb                    14139 non-null  float64\n",
      " 67  secondary_cleaner.output.tail_sol                   12544 non-null  float64\n",
      " 68  secondary_cleaner.output.tail_au                    14149 non-null  float64\n",
      " 69  secondary_cleaner.state.floatbank2_a_air            13932 non-null  float64\n",
      " 70  secondary_cleaner.state.floatbank2_a_level          14148 non-null  float64\n",
      " 71  secondary_cleaner.state.floatbank2_b_air            14128 non-null  float64\n",
      " 72  secondary_cleaner.state.floatbank2_b_level          14148 non-null  float64\n",
      " 73  secondary_cleaner.state.floatbank3_a_air            14145 non-null  float64\n",
      " 74  secondary_cleaner.state.floatbank3_a_level          14148 non-null  float64\n",
      " 75  secondary_cleaner.state.floatbank3_b_air            14148 non-null  float64\n",
      " 76  secondary_cleaner.state.floatbank3_b_level          14148 non-null  float64\n",
      " 77  secondary_cleaner.state.floatbank4_a_air            14143 non-null  float64\n",
      " 78  secondary_cleaner.state.floatbank4_a_level          14148 non-null  float64\n",
      " 79  secondary_cleaner.state.floatbank4_b_air            14148 non-null  float64\n",
      " 80  secondary_cleaner.state.floatbank4_b_level          14148 non-null  float64\n",
      " 81  secondary_cleaner.state.floatbank5_a_air            14148 non-null  float64\n",
      " 82  secondary_cleaner.state.floatbank5_a_level          14148 non-null  float64\n",
      " 83  secondary_cleaner.state.floatbank5_b_air            14148 non-null  float64\n",
      " 84  secondary_cleaner.state.floatbank5_b_level          14148 non-null  float64\n",
      " 85  secondary_cleaner.state.floatbank6_a_air            14147 non-null  float64\n",
      " 86  secondary_cleaner.state.floatbank6_a_level          14148 non-null  float64\n",
      "dtypes: float64(86), object(1)\n",
      "memory usage: 9.4+ MB\n"
     ]
    },
    {
     "data": {
      "text/plain": [
       "None"
      ]
     },
     "metadata": {},
     "output_type": "display_data"
    },
    {
     "name": "stdout",
     "output_type": "stream",
     "text": [
      "Тестовый набор данных:\n",
      "<class 'pandas.core.frame.DataFrame'>\n",
      "RangeIndex: 5290 entries, 0 to 5289\n",
      "Data columns (total 53 columns):\n",
      " #   Column                                      Non-Null Count  Dtype  \n",
      "---  ------                                      --------------  -----  \n",
      " 0   date                                        5290 non-null   object \n",
      " 1   primary_cleaner.input.sulfate               5286 non-null   float64\n",
      " 2   primary_cleaner.input.depressant            5285 non-null   float64\n",
      " 3   primary_cleaner.input.feed_size             5290 non-null   float64\n",
      " 4   primary_cleaner.input.xanthate              5286 non-null   float64\n",
      " 5   primary_cleaner.state.floatbank8_a_air      5290 non-null   float64\n",
      " 6   primary_cleaner.state.floatbank8_a_level    5290 non-null   float64\n",
      " 7   primary_cleaner.state.floatbank8_b_air      5290 non-null   float64\n",
      " 8   primary_cleaner.state.floatbank8_b_level    5290 non-null   float64\n",
      " 9   primary_cleaner.state.floatbank8_c_air      5290 non-null   float64\n",
      " 10  primary_cleaner.state.floatbank8_c_level    5290 non-null   float64\n",
      " 11  primary_cleaner.state.floatbank8_d_air      5290 non-null   float64\n",
      " 12  primary_cleaner.state.floatbank8_d_level    5290 non-null   float64\n",
      " 13  rougher.input.feed_ag                       5290 non-null   float64\n",
      " 14  rougher.input.feed_pb                       5290 non-null   float64\n",
      " 15  rougher.input.feed_rate                     5287 non-null   float64\n",
      " 16  rougher.input.feed_size                     5289 non-null   float64\n",
      " 17  rougher.input.feed_sol                      5269 non-null   float64\n",
      " 18  rougher.input.feed_au                       5290 non-null   float64\n",
      " 19  rougher.input.floatbank10_sulfate           5285 non-null   float64\n",
      " 20  rougher.input.floatbank10_xanthate          5290 non-null   float64\n",
      " 21  rougher.input.floatbank11_sulfate           5282 non-null   float64\n",
      " 22  rougher.input.floatbank11_xanthate          5265 non-null   float64\n",
      " 23  rougher.state.floatbank10_a_air             5290 non-null   float64\n",
      " 24  rougher.state.floatbank10_a_level           5290 non-null   float64\n",
      " 25  rougher.state.floatbank10_b_air             5290 non-null   float64\n",
      " 26  rougher.state.floatbank10_b_level           5290 non-null   float64\n",
      " 27  rougher.state.floatbank10_c_air             5290 non-null   float64\n",
      " 28  rougher.state.floatbank10_c_level           5290 non-null   float64\n",
      " 29  rougher.state.floatbank10_d_air             5290 non-null   float64\n",
      " 30  rougher.state.floatbank10_d_level           5290 non-null   float64\n",
      " 31  rougher.state.floatbank10_e_air             5290 non-null   float64\n",
      " 32  rougher.state.floatbank10_e_level           5290 non-null   float64\n",
      " 33  rougher.state.floatbank10_f_air             5290 non-null   float64\n",
      " 34  rougher.state.floatbank10_f_level           5290 non-null   float64\n",
      " 35  secondary_cleaner.state.floatbank2_a_air    5287 non-null   float64\n",
      " 36  secondary_cleaner.state.floatbank2_a_level  5290 non-null   float64\n",
      " 37  secondary_cleaner.state.floatbank2_b_air    5288 non-null   float64\n",
      " 38  secondary_cleaner.state.floatbank2_b_level  5290 non-null   float64\n",
      " 39  secondary_cleaner.state.floatbank3_a_air    5281 non-null   float64\n",
      " 40  secondary_cleaner.state.floatbank3_a_level  5290 non-null   float64\n",
      " 41  secondary_cleaner.state.floatbank3_b_air    5290 non-null   float64\n",
      " 42  secondary_cleaner.state.floatbank3_b_level  5290 non-null   float64\n",
      " 43  secondary_cleaner.state.floatbank4_a_air    5290 non-null   float64\n",
      " 44  secondary_cleaner.state.floatbank4_a_level  5290 non-null   float64\n",
      " 45  secondary_cleaner.state.floatbank4_b_air    5290 non-null   float64\n",
      " 46  secondary_cleaner.state.floatbank4_b_level  5290 non-null   float64\n",
      " 47  secondary_cleaner.state.floatbank5_a_air    5290 non-null   float64\n",
      " 48  secondary_cleaner.state.floatbank5_a_level  5290 non-null   float64\n",
      " 49  secondary_cleaner.state.floatbank5_b_air    5290 non-null   float64\n",
      " 50  secondary_cleaner.state.floatbank5_b_level  5290 non-null   float64\n",
      " 51  secondary_cleaner.state.floatbank6_a_air    5290 non-null   float64\n",
      " 52  secondary_cleaner.state.floatbank6_a_level  5290 non-null   float64\n",
      "dtypes: float64(52), object(1)\n",
      "memory usage: 2.1+ MB\n"
     ]
    },
    {
     "data": {
      "text/plain": [
       "None"
      ]
     },
     "metadata": {},
     "output_type": "display_data"
    },
    {
     "name": "stdout",
     "output_type": "stream",
     "text": [
      "Полный набор данных:\n",
      "<class 'pandas.core.frame.DataFrame'>\n",
      "RangeIndex: 19439 entries, 0 to 19438\n",
      "Data columns (total 87 columns):\n",
      " #   Column                                              Non-Null Count  Dtype  \n",
      "---  ------                                              --------------  -----  \n",
      " 0   date                                                19439 non-null  object \n",
      " 1   final.output.concentrate_ag                         19438 non-null  float64\n",
      " 2   final.output.concentrate_pb                         19438 non-null  float64\n",
      " 3   final.output.concentrate_sol                        19228 non-null  float64\n",
      " 4   final.output.concentrate_au                         19439 non-null  float64\n",
      " 5   final.output.recovery                               19439 non-null  float64\n",
      " 6   final.output.tail_ag                                19438 non-null  float64\n",
      " 7   final.output.tail_pb                                19338 non-null  float64\n",
      " 8   final.output.tail_sol                               19433 non-null  float64\n",
      " 9   final.output.tail_au                                19439 non-null  float64\n",
      " 10  primary_cleaner.input.sulfate                       19415 non-null  float64\n",
      " 11  primary_cleaner.input.depressant                    19402 non-null  float64\n",
      " 12  primary_cleaner.input.feed_size                     19439 non-null  float64\n",
      " 13  primary_cleaner.input.xanthate                      19335 non-null  float64\n",
      " 14  primary_cleaner.output.concentrate_ag               19439 non-null  float64\n",
      " 15  primary_cleaner.output.concentrate_pb               19323 non-null  float64\n",
      " 16  primary_cleaner.output.concentrate_sol              19069 non-null  float64\n",
      " 17  primary_cleaner.output.concentrate_au               19439 non-null  float64\n",
      " 18  primary_cleaner.output.tail_ag                      19435 non-null  float64\n",
      " 19  primary_cleaner.output.tail_pb                      19418 non-null  float64\n",
      " 20  primary_cleaner.output.tail_sol                     19377 non-null  float64\n",
      " 21  primary_cleaner.output.tail_au                      19439 non-null  float64\n",
      " 22  primary_cleaner.state.floatbank8_a_air              19435 non-null  float64\n",
      " 23  primary_cleaner.state.floatbank8_a_level            19438 non-null  float64\n",
      " 24  primary_cleaner.state.floatbank8_b_air              19435 non-null  float64\n",
      " 25  primary_cleaner.state.floatbank8_b_level            19438 non-null  float64\n",
      " 26  primary_cleaner.state.floatbank8_c_air              19437 non-null  float64\n",
      " 27  primary_cleaner.state.floatbank8_c_level            19438 non-null  float64\n",
      " 28  primary_cleaner.state.floatbank8_d_air              19436 non-null  float64\n",
      " 29  primary_cleaner.state.floatbank8_d_level            19438 non-null  float64\n",
      " 30  rougher.calculation.sulfate_to_au_concentrate       19437 non-null  float64\n",
      " 31  rougher.calculation.floatbank10_sulfate_to_au_feed  19437 non-null  float64\n",
      " 32  rougher.calculation.floatbank11_sulfate_to_au_feed  19437 non-null  float64\n",
      " 33  rougher.calculation.au_pb_ratio                     19439 non-null  float64\n",
      " 34  rougher.input.feed_ag                               19439 non-null  float64\n",
      " 35  rougher.input.feed_pb                               19339 non-null  float64\n",
      " 36  rougher.input.feed_rate                             19428 non-null  float64\n",
      " 37  rougher.input.feed_size                             19294 non-null  float64\n",
      " 38  rougher.input.feed_sol                              19340 non-null  float64\n",
      " 39  rougher.input.feed_au                               19439 non-null  float64\n",
      " 40  rougher.input.floatbank10_sulfate                   19405 non-null  float64\n",
      " 41  rougher.input.floatbank10_xanthate                  19431 non-null  float64\n",
      " 42  rougher.input.floatbank11_sulfate                   19395 non-null  float64\n",
      " 43  rougher.input.floatbank11_xanthate                  18986 non-null  float64\n",
      " 44  rougher.output.concentrate_ag                       19439 non-null  float64\n",
      " 45  rougher.output.concentrate_pb                       19439 non-null  float64\n",
      " 46  rougher.output.concentrate_sol                      19416 non-null  float64\n",
      " 47  rougher.output.concentrate_au                       19439 non-null  float64\n",
      " 48  rougher.output.recovery                             19439 non-null  float64\n",
      " 49  rougher.output.tail_ag                              19438 non-null  float64\n",
      " 50  rougher.output.tail_pb                              19439 non-null  float64\n",
      " 51  rougher.output.tail_sol                             19439 non-null  float64\n",
      " 52  rougher.output.tail_au                              19439 non-null  float64\n",
      " 53  rougher.state.floatbank10_a_air                     19438 non-null  float64\n",
      " 54  rougher.state.floatbank10_a_level                   19438 non-null  float64\n",
      " 55  rougher.state.floatbank10_b_air                     19438 non-null  float64\n",
      " 56  rougher.state.floatbank10_b_level                   19438 non-null  float64\n",
      " 57  rougher.state.floatbank10_c_air                     19438 non-null  float64\n",
      " 58  rougher.state.floatbank10_c_level                   19438 non-null  float64\n",
      " 59  rougher.state.floatbank10_d_air                     19439 non-null  float64\n",
      " 60  rougher.state.floatbank10_d_level                   19439 non-null  float64\n",
      " 61  rougher.state.floatbank10_e_air                     19003 non-null  float64\n",
      " 62  rougher.state.floatbank10_e_level                   19439 non-null  float64\n",
      " 63  rougher.state.floatbank10_f_air                     19439 non-null  float64\n",
      " 64  rougher.state.floatbank10_f_level                   19439 non-null  float64\n",
      " 65  secondary_cleaner.output.tail_ag                    19437 non-null  float64\n",
      " 66  secondary_cleaner.output.tail_pb                    19427 non-null  float64\n",
      " 67  secondary_cleaner.output.tail_sol                   17691 non-null  float64\n",
      " 68  secondary_cleaner.output.tail_au                    19439 non-null  float64\n",
      " 69  secondary_cleaner.state.floatbank2_a_air            19219 non-null  float64\n",
      " 70  secondary_cleaner.state.floatbank2_a_level          19438 non-null  float64\n",
      " 71  secondary_cleaner.state.floatbank2_b_air            19416 non-null  float64\n",
      " 72  secondary_cleaner.state.floatbank2_b_level          19438 non-null  float64\n",
      " 73  secondary_cleaner.state.floatbank3_a_air            19426 non-null  float64\n",
      " 74  secondary_cleaner.state.floatbank3_a_level          19438 non-null  float64\n",
      " 75  secondary_cleaner.state.floatbank3_b_air            19438 non-null  float64\n",
      " 76  secondary_cleaner.state.floatbank3_b_level          19438 non-null  float64\n",
      " 77  secondary_cleaner.state.floatbank4_a_air            19433 non-null  float64\n",
      " 78  secondary_cleaner.state.floatbank4_a_level          19438 non-null  float64\n",
      " 79  secondary_cleaner.state.floatbank4_b_air            19438 non-null  float64\n",
      " 80  secondary_cleaner.state.floatbank4_b_level          19438 non-null  float64\n",
      " 81  secondary_cleaner.state.floatbank5_a_air            19438 non-null  float64\n",
      " 82  secondary_cleaner.state.floatbank5_a_level          19438 non-null  float64\n",
      " 83  secondary_cleaner.state.floatbank5_b_air            19438 non-null  float64\n",
      " 84  secondary_cleaner.state.floatbank5_b_level          19438 non-null  float64\n",
      " 85  secondary_cleaner.state.floatbank6_a_air            19437 non-null  float64\n",
      " 86  secondary_cleaner.state.floatbank6_a_level          19438 non-null  float64\n",
      "dtypes: float64(86), object(1)\n",
      "memory usage: 12.9+ MB\n"
     ]
    },
    {
     "data": {
      "text/plain": [
       "None"
      ]
     },
     "metadata": {},
     "output_type": "display_data"
    }
   ],
   "source": [
    "print('Тренировочный набор данных:')\n",
    "display(gold_train.info())\n",
    "print('Тестовый набор данных:')\n",
    "display(gold_test.info())\n",
    "print('Полный набор данных:')\n",
    "display(gold_full.info())\n",
    "#Достаточно объемный наборы данных. Видно, что формат столбца date не соответствует содержанию. Нужно будет поправить."
   ]
  },
  {
   "cell_type": "code",
   "execution_count": 5,
   "metadata": {
    "scrolled": true
   },
   "outputs": [
    {
     "name": "stdout",
     "output_type": "stream",
     "text": [
      "Тренировочный набор данных:\n"
     ]
    },
    {
     "data": {
      "text/plain": [
       "secondary_cleaner.output.tail_sol           11.343558\n",
       "rougher.state.floatbank10_e_air              3.081490\n",
       "rougher.input.floatbank11_xanthate           3.024949\n",
       "primary_cleaner.output.concentrate_sol       2.021344\n",
       "secondary_cleaner.state.floatbank2_a_air     1.533677\n",
       "                                              ...    \n",
       "rougher.output.concentrate_pb                0.000000\n",
       "rougher.output.concentrate_au                0.000000\n",
       "rougher.output.recovery                      0.000000\n",
       "rougher.output.tail_pb                       0.000000\n",
       "date                                         0.000000\n",
       "Length: 87, dtype: float64"
      ]
     },
     "metadata": {},
     "output_type": "display_data"
    },
    {
     "name": "stdout",
     "output_type": "stream",
     "text": [
      "Тестовый набор данных:\n"
     ]
    },
    {
     "data": {
      "text/plain": [
       "rougher.input.floatbank11_xanthate            0.472590\n",
       "rougher.input.feed_sol                        0.396975\n",
       "secondary_cleaner.state.floatbank3_a_air      0.170132\n",
       "rougher.input.floatbank11_sulfate             0.151229\n",
       "primary_cleaner.input.depressant              0.094518\n",
       "rougher.input.floatbank10_sulfate             0.094518\n",
       "primary_cleaner.input.xanthate                0.075614\n",
       "primary_cleaner.input.sulfate                 0.075614\n",
       "rougher.input.feed_rate                       0.056711\n",
       "secondary_cleaner.state.floatbank2_a_air      0.056711\n",
       "secondary_cleaner.state.floatbank2_b_air      0.037807\n",
       "rougher.input.feed_size                       0.018904\n",
       "secondary_cleaner.state.floatbank2_b_level    0.000000\n",
       "rougher.state.floatbank10_f_level             0.000000\n",
       "rougher.state.floatbank10_f_air               0.000000\n",
       "secondary_cleaner.state.floatbank3_a_level    0.000000\n",
       "secondary_cleaner.state.floatbank2_a_level    0.000000\n",
       "date                                          0.000000\n",
       "rougher.state.floatbank10_e_air               0.000000\n",
       "secondary_cleaner.state.floatbank3_b_air      0.000000\n",
       "secondary_cleaner.state.floatbank3_b_level    0.000000\n",
       "secondary_cleaner.state.floatbank4_a_air      0.000000\n",
       "secondary_cleaner.state.floatbank4_a_level    0.000000\n",
       "secondary_cleaner.state.floatbank4_b_air      0.000000\n",
       "secondary_cleaner.state.floatbank4_b_level    0.000000\n",
       "secondary_cleaner.state.floatbank5_a_air      0.000000\n",
       "secondary_cleaner.state.floatbank5_a_level    0.000000\n",
       "secondary_cleaner.state.floatbank5_b_air      0.000000\n",
       "secondary_cleaner.state.floatbank5_b_level    0.000000\n",
       "secondary_cleaner.state.floatbank6_a_air      0.000000\n",
       "rougher.state.floatbank10_e_level             0.000000\n",
       "rougher.state.floatbank10_b_level             0.000000\n",
       "rougher.state.floatbank10_d_level             0.000000\n",
       "primary_cleaner.state.floatbank8_d_level      0.000000\n",
       "primary_cleaner.input.feed_size               0.000000\n",
       "primary_cleaner.state.floatbank8_a_air        0.000000\n",
       "primary_cleaner.state.floatbank8_a_level      0.000000\n",
       "primary_cleaner.state.floatbank8_b_air        0.000000\n",
       "primary_cleaner.state.floatbank8_b_level      0.000000\n",
       "primary_cleaner.state.floatbank8_c_air        0.000000\n",
       "primary_cleaner.state.floatbank8_c_level      0.000000\n",
       "primary_cleaner.state.floatbank8_d_air        0.000000\n",
       "rougher.input.feed_ag                         0.000000\n",
       "rougher.state.floatbank10_d_air               0.000000\n",
       "rougher.input.feed_pb                         0.000000\n",
       "rougher.input.feed_au                         0.000000\n",
       "rougher.input.floatbank10_xanthate            0.000000\n",
       "rougher.state.floatbank10_a_air               0.000000\n",
       "rougher.state.floatbank10_a_level             0.000000\n",
       "rougher.state.floatbank10_b_air               0.000000\n",
       "rougher.state.floatbank10_c_air               0.000000\n",
       "rougher.state.floatbank10_c_level             0.000000\n",
       "secondary_cleaner.state.floatbank6_a_level    0.000000\n",
       "dtype: float64"
      ]
     },
     "metadata": {},
     "output_type": "display_data"
    },
    {
     "name": "stdout",
     "output_type": "stream",
     "text": [
      "Полный набор данных:\n"
     ]
    },
    {
     "data": {
      "text/plain": [
       "secondary_cleaner.output.tail_sol           8.992232\n",
       "rougher.input.floatbank11_xanthate          2.330367\n",
       "rougher.state.floatbank10_e_air             2.242914\n",
       "primary_cleaner.output.concentrate_sol      1.903390\n",
       "secondary_cleaner.state.floatbank2_a_air    1.131745\n",
       "                                              ...   \n",
       "rougher.state.floatbank10_d_level           0.000000\n",
       "rougher.state.floatbank10_d_air             0.000000\n",
       "rougher.output.tail_pb                      0.000000\n",
       "rougher.output.tail_sol                     0.000000\n",
       "date                                        0.000000\n",
       "Length: 87, dtype: float64"
      ]
     },
     "metadata": {},
     "output_type": "display_data"
    }
   ],
   "source": [
    "print('Тренировочный набор данных:')\n",
    "display(gold_train\n",
    "            .isna()\n",
    "            .mean()\n",
    "            .sort_values(ascending = False)*100)\n",
    "print('Тестовый набор данных:')\n",
    "display(gold_test\n",
    "            .isna()\n",
    "            .mean()\n",
    "            .sort_values(ascending = False)*100)\n",
    "print('Полный набор данных:')\n",
    "display(gold_full\n",
    "            .isna()\n",
    "            .mean()\n",
    "            .sort_values(ascending = False)*100)\n",
    "#В данных есть пропуски. Не много, но есть. Подумаем потом, что с ними делать."
   ]
  },
  {
   "cell_type": "markdown",
   "metadata": {},
   "source": [
    "### Проверим, что эффективность обогащения рассчитана правильно."
   ]
  },
  {
   "cell_type": "markdown",
   "metadata": {},
   "source": [
    "Формула для расчета Recovery: \n",
    " \n",
    "$$ \\cfrac{C*(F-T)}{F*(C-T)} * 100% $$\n",
    " \n",
    "где:\n",
    "\n",
    "C — доля золота в концентрате после флотации/очистки \n",
    "\n",
    "F — доля золота в сырье/концентрате до флотации/очистки \n",
    "\n",
    "T — доля золота в отвальных хвостах после флотации/очистки "
   ]
  },
  {
   "cell_type": "code",
   "execution_count": 6,
   "metadata": {},
   "outputs": [],
   "source": [
    "С = gold_train['rougher.output.concentrate_au']\n",
    "F = gold_train['rougher.input.feed_au']\n",
    "T = gold_train['rougher.output.tail_au']"
   ]
  },
  {
   "cell_type": "code",
   "execution_count": 7,
   "metadata": {},
   "outputs": [
    {
     "data": {
      "text/plain": [
       "82.70450164550293"
      ]
     },
     "execution_count": 7,
     "metadata": {},
     "output_type": "execute_result"
    }
   ],
   "source": [
    "recovery_calc = (С * (F - T))/(F * (С - T)) * 100\n",
    "recovery_calc.mean()"
   ]
  },
  {
   "cell_type": "code",
   "execution_count": 8,
   "metadata": {},
   "outputs": [
    {
     "data": {
      "text/plain": [
       "82.70450164550293"
      ]
     },
     "execution_count": 8,
     "metadata": {},
     "output_type": "execute_result"
    }
   ],
   "source": [
    "gold_train['rougher.output.recovery'].mean()\n",
    "#Расчет правильный. Расчитаем MAE"
   ]
  },
  {
   "cell_type": "code",
   "execution_count": 9,
   "metadata": {},
   "outputs": [
    {
     "data": {
      "text/plain": [
       "9.73512347450521e-15"
      ]
     },
     "execution_count": 9,
     "metadata": {},
     "output_type": "execute_result"
    }
   ],
   "source": [
    "MAE = mean_absolute_error(gold_train['rougher.output.recovery'], recovery_calc)\n",
    "MAE\n",
    "#Значение MAE очень мало. Значит эффективность обогащения расчитана верно."
   ]
  },
  {
   "cell_type": "markdown",
   "metadata": {},
   "source": [
    "### Вывод\n",
    "MAE очень мало (10^-15). Это значит, что эффективность обогащения расчитана правильно."
   ]
  },
  {
   "cell_type": "markdown",
   "metadata": {},
   "source": [
    "### Проверим, какие признаки не доступны в тестовой выборке."
   ]
  },
  {
   "cell_type": "code",
   "execution_count": 10,
   "metadata": {
    "scrolled": true
   },
   "outputs": [
    {
     "data": {
      "text/plain": [
       "['final.output.concentrate_ag',\n",
       " 'final.output.concentrate_au',\n",
       " 'final.output.concentrate_pb',\n",
       " 'final.output.concentrate_sol',\n",
       " 'final.output.recovery',\n",
       " 'final.output.tail_ag',\n",
       " 'final.output.tail_au',\n",
       " 'final.output.tail_pb',\n",
       " 'final.output.tail_sol',\n",
       " 'primary_cleaner.output.concentrate_ag',\n",
       " 'primary_cleaner.output.concentrate_au',\n",
       " 'primary_cleaner.output.concentrate_pb',\n",
       " 'primary_cleaner.output.concentrate_sol',\n",
       " 'primary_cleaner.output.tail_ag',\n",
       " 'primary_cleaner.output.tail_au',\n",
       " 'primary_cleaner.output.tail_pb',\n",
       " 'primary_cleaner.output.tail_sol',\n",
       " 'rougher.calculation.au_pb_ratio',\n",
       " 'rougher.calculation.floatbank10_sulfate_to_au_feed',\n",
       " 'rougher.calculation.floatbank11_sulfate_to_au_feed',\n",
       " 'rougher.calculation.sulfate_to_au_concentrate',\n",
       " 'rougher.output.concentrate_ag',\n",
       " 'rougher.output.concentrate_au',\n",
       " 'rougher.output.concentrate_pb',\n",
       " 'rougher.output.concentrate_sol',\n",
       " 'rougher.output.recovery',\n",
       " 'rougher.output.tail_ag',\n",
       " 'rougher.output.tail_au',\n",
       " 'rougher.output.tail_pb',\n",
       " 'rougher.output.tail_sol',\n",
       " 'secondary_cleaner.output.tail_ag',\n",
       " 'secondary_cleaner.output.tail_au',\n",
       " 'secondary_cleaner.output.tail_pb',\n",
       " 'secondary_cleaner.output.tail_sol']"
      ]
     },
     "execution_count": 10,
     "metadata": {},
     "output_type": "execute_result"
    }
   ],
   "source": [
    "#Поулчим список столбцов, отсутствующих в тестовом наборе\n",
    "difference = sorted(gold_train.columns.difference(gold_test.columns))\n",
    "difference"
   ]
  },
  {
   "cell_type": "markdown",
   "metadata": {},
   "source": [
    "В тестовом наборе данных отсутствуют данные, касающиеся параметров продукта на всех стадиях получения золота. Также стоит заметить, что в тестовом наборе отсутствуют целевые переменные.\n",
    "Взглянем подробнее."
   ]
  },
  {
   "cell_type": "code",
   "execution_count": 11,
   "metadata": {
    "scrolled": true
   },
   "outputs": [
    {
     "data": {
      "text/plain": [
       "output                            30\n",
       "rougher                           13\n",
       "final                              9\n",
       "primary_cleaner                    8\n",
       "tail_pb                            4\n",
       "secondary_cleaner                  4\n",
       "calculation                        4\n",
       "tail_ag                            4\n",
       "tail_au                            4\n",
       "tail_sol                           4\n",
       "concentrate_sol                    3\n",
       "concentrate_ag                     3\n",
       "concentrate_pb                     3\n",
       "concentrate_au                     3\n",
       "recovery                           2\n",
       "au_pb_ratio                        1\n",
       "floatbank10_sulfate_to_au_feed     1\n",
       "sulfate_to_au_concentrate          1\n",
       "floatbank11_sulfate_to_au_feed     1\n",
       "dtype: int64"
      ]
     },
     "execution_count": 11,
     "metadata": {},
     "output_type": "execute_result"
    }
   ],
   "source": [
    "#Разобьем название каждого столбца на отдельные слова по разделителю \".\"\n",
    "diff = [i.split('.') for i in difference]\n",
    "#Переделаем в Series, чтобы использовать value_counts() и посчитаем уникальные элементы\n",
    "pd.Series(list(chain(*diff))).value_counts()"
   ]
  },
  {
   "cell_type": "markdown",
   "metadata": {},
   "source": [
    "* 13 отсутствующих признаков касаются процесса флотации\n",
    "* 8 признаков касаются первичной очистки\n",
    "* 4 признака качаются вторично очистки\n",
    "* 9 признаков касаются финальных характеристик\n"
   ]
  },
  {
   "cell_type": "markdown",
   "metadata": {},
   "source": [
    "### Предобработка данных"
   ]
  },
  {
   "cell_type": "code",
   "execution_count": 12,
   "metadata": {},
   "outputs": [],
   "source": [
    "#Изменим формат столбца date\n",
    "gold_train['date'] = pd.to_datetime(gold_train['date'], format='%Y-%m-%d %H:%M:%S')\n",
    "gold_test['date'] = pd.to_datetime(gold_test['date'], format='%Y-%m-%d %H:%M:%S')\n",
    "gold_full['date'] = pd.to_datetime(gold_full['date'], format='%Y-%m-%d %H:%M:%S')"
   ]
  },
  {
   "cell_type": "code",
   "execution_count": 13,
   "metadata": {},
   "outputs": [],
   "source": [
    "#Так как в условиях задачи сказано, что соседние по времени параметры часто похожи, \n",
    "#то заменим пропуски предыдущим значением в столбце. Пропусков не так много, на результат это повлиять не должно\n",
    "gold_train = gold_train.fillna(method='ffill')\n",
    "gold_test = gold_test.fillna(method='ffill')\n",
    "gold_full = gold_full.fillna(method='ffill')"
   ]
  },
  {
   "cell_type": "code",
   "execution_count": 14,
   "metadata": {
    "scrolled": true
   },
   "outputs": [
    {
     "name": "stdout",
     "output_type": "stream",
     "text": [
      "Тренировочный набор данных:\n"
     ]
    },
    {
     "data": {
      "text/plain": [
       "date                                          0.0\n",
       "rougher.state.floatbank10_b_air               0.0\n",
       "rougher.state.floatbank10_f_air               0.0\n",
       "rougher.state.floatbank10_e_level             0.0\n",
       "rougher.state.floatbank10_e_air               0.0\n",
       "                                             ... \n",
       "primary_cleaner.state.floatbank8_c_level      0.0\n",
       "primary_cleaner.state.floatbank8_c_air        0.0\n",
       "primary_cleaner.state.floatbank8_b_level      0.0\n",
       "primary_cleaner.state.floatbank8_b_air        0.0\n",
       "secondary_cleaner.state.floatbank6_a_level    0.0\n",
       "Length: 87, dtype: float64"
      ]
     },
     "metadata": {},
     "output_type": "display_data"
    },
    {
     "name": "stdout",
     "output_type": "stream",
     "text": [
      "Тестовый набор данных:\n"
     ]
    },
    {
     "data": {
      "text/plain": [
       "date                                          0.0\n",
       "rougher.state.floatbank10_c_air               0.0\n",
       "rougher.state.floatbank10_d_air               0.0\n",
       "rougher.state.floatbank10_d_level             0.0\n",
       "rougher.state.floatbank10_e_air               0.0\n",
       "rougher.state.floatbank10_e_level             0.0\n",
       "rougher.state.floatbank10_f_air               0.0\n",
       "rougher.state.floatbank10_f_level             0.0\n",
       "secondary_cleaner.state.floatbank2_a_air      0.0\n",
       "secondary_cleaner.state.floatbank2_a_level    0.0\n",
       "secondary_cleaner.state.floatbank2_b_air      0.0\n",
       "secondary_cleaner.state.floatbank2_b_level    0.0\n",
       "secondary_cleaner.state.floatbank3_a_air      0.0\n",
       "secondary_cleaner.state.floatbank3_a_level    0.0\n",
       "secondary_cleaner.state.floatbank3_b_air      0.0\n",
       "secondary_cleaner.state.floatbank3_b_level    0.0\n",
       "secondary_cleaner.state.floatbank4_a_air      0.0\n",
       "secondary_cleaner.state.floatbank4_a_level    0.0\n",
       "secondary_cleaner.state.floatbank4_b_air      0.0\n",
       "secondary_cleaner.state.floatbank4_b_level    0.0\n",
       "secondary_cleaner.state.floatbank5_a_air      0.0\n",
       "secondary_cleaner.state.floatbank5_a_level    0.0\n",
       "secondary_cleaner.state.floatbank5_b_air      0.0\n",
       "secondary_cleaner.state.floatbank5_b_level    0.0\n",
       "secondary_cleaner.state.floatbank6_a_air      0.0\n",
       "rougher.state.floatbank10_c_level             0.0\n",
       "rougher.state.floatbank10_b_level             0.0\n",
       "primary_cleaner.input.sulfate                 0.0\n",
       "rougher.state.floatbank10_b_air               0.0\n",
       "primary_cleaner.input.depressant              0.0\n",
       "primary_cleaner.input.feed_size               0.0\n",
       "primary_cleaner.input.xanthate                0.0\n",
       "primary_cleaner.state.floatbank8_a_air        0.0\n",
       "primary_cleaner.state.floatbank8_a_level      0.0\n",
       "primary_cleaner.state.floatbank8_b_air        0.0\n",
       "primary_cleaner.state.floatbank8_b_level      0.0\n",
       "primary_cleaner.state.floatbank8_c_air        0.0\n",
       "primary_cleaner.state.floatbank8_c_level      0.0\n",
       "primary_cleaner.state.floatbank8_d_air        0.0\n",
       "primary_cleaner.state.floatbank8_d_level      0.0\n",
       "rougher.input.feed_ag                         0.0\n",
       "rougher.input.feed_pb                         0.0\n",
       "rougher.input.feed_rate                       0.0\n",
       "rougher.input.feed_size                       0.0\n",
       "rougher.input.feed_sol                        0.0\n",
       "rougher.input.feed_au                         0.0\n",
       "rougher.input.floatbank10_sulfate             0.0\n",
       "rougher.input.floatbank10_xanthate            0.0\n",
       "rougher.input.floatbank11_sulfate             0.0\n",
       "rougher.input.floatbank11_xanthate            0.0\n",
       "rougher.state.floatbank10_a_air               0.0\n",
       "rougher.state.floatbank10_a_level             0.0\n",
       "secondary_cleaner.state.floatbank6_a_level    0.0\n",
       "dtype: float64"
      ]
     },
     "metadata": {},
     "output_type": "display_data"
    },
    {
     "name": "stdout",
     "output_type": "stream",
     "text": [
      "Полный набор данных:\n"
     ]
    },
    {
     "data": {
      "text/plain": [
       "date                                          0.0\n",
       "rougher.state.floatbank10_b_air               0.0\n",
       "rougher.state.floatbank10_f_air               0.0\n",
       "rougher.state.floatbank10_e_level             0.0\n",
       "rougher.state.floatbank10_e_air               0.0\n",
       "                                             ... \n",
       "primary_cleaner.state.floatbank8_c_level      0.0\n",
       "primary_cleaner.state.floatbank8_c_air        0.0\n",
       "primary_cleaner.state.floatbank8_b_level      0.0\n",
       "primary_cleaner.state.floatbank8_b_air        0.0\n",
       "secondary_cleaner.state.floatbank6_a_level    0.0\n",
       "Length: 87, dtype: float64"
      ]
     },
     "metadata": {},
     "output_type": "display_data"
    }
   ],
   "source": [
    "#Проверка\n",
    "print('Тренировочный набор данных:')\n",
    "display(gold_train\n",
    "            .isna()\n",
    "            .mean()\n",
    "            .sort_values(ascending = False)*100)\n",
    "print('Тестовый набор данных:')\n",
    "display(gold_test\n",
    "            .isna()\n",
    "            .mean()\n",
    "            .sort_values(ascending = False)*100)\n",
    "print('Полный набор данных:')\n",
    "display(gold_full\n",
    "            .isna()\n",
    "            .mean()\n",
    "            .sort_values(ascending = False)*100)\n",
    "#Ура!"
   ]
  },
  {
   "cell_type": "code",
   "execution_count": 15,
   "metadata": {
    "scrolled": true
   },
   "outputs": [
    {
     "data": {
      "text/plain": [
       "date                                          0\n",
       "primary_cleaner.input.sulfate                 0\n",
       "primary_cleaner.input.depressant              0\n",
       "primary_cleaner.input.feed_size               0\n",
       "primary_cleaner.input.xanthate                0\n",
       "primary_cleaner.state.floatbank8_a_air        0\n",
       "primary_cleaner.state.floatbank8_a_level      0\n",
       "primary_cleaner.state.floatbank8_b_air        0\n",
       "primary_cleaner.state.floatbank8_b_level      0\n",
       "primary_cleaner.state.floatbank8_c_air        0\n",
       "primary_cleaner.state.floatbank8_c_level      0\n",
       "primary_cleaner.state.floatbank8_d_air        0\n",
       "primary_cleaner.state.floatbank8_d_level      0\n",
       "rougher.input.feed_ag                         0\n",
       "rougher.input.feed_pb                         0\n",
       "rougher.input.feed_rate                       0\n",
       "rougher.input.feed_size                       0\n",
       "rougher.input.feed_sol                        0\n",
       "rougher.input.feed_au                         0\n",
       "rougher.input.floatbank10_sulfate             0\n",
       "rougher.input.floatbank10_xanthate            0\n",
       "rougher.input.floatbank11_sulfate             0\n",
       "rougher.input.floatbank11_xanthate            0\n",
       "rougher.state.floatbank10_a_air               0\n",
       "rougher.state.floatbank10_a_level             0\n",
       "rougher.state.floatbank10_b_air               0\n",
       "rougher.state.floatbank10_b_level             0\n",
       "rougher.state.floatbank10_c_air               0\n",
       "rougher.state.floatbank10_c_level             0\n",
       "rougher.state.floatbank10_d_air               0\n",
       "rougher.state.floatbank10_d_level             0\n",
       "rougher.state.floatbank10_e_air               0\n",
       "rougher.state.floatbank10_e_level             0\n",
       "rougher.state.floatbank10_f_air               0\n",
       "rougher.state.floatbank10_f_level             0\n",
       "secondary_cleaner.state.floatbank2_a_air      0\n",
       "secondary_cleaner.state.floatbank2_a_level    0\n",
       "secondary_cleaner.state.floatbank2_b_air      0\n",
       "secondary_cleaner.state.floatbank2_b_level    0\n",
       "secondary_cleaner.state.floatbank3_a_air      0\n",
       "secondary_cleaner.state.floatbank3_a_level    0\n",
       "secondary_cleaner.state.floatbank3_b_air      0\n",
       "secondary_cleaner.state.floatbank3_b_level    0\n",
       "secondary_cleaner.state.floatbank4_a_air      0\n",
       "secondary_cleaner.state.floatbank4_a_level    0\n",
       "secondary_cleaner.state.floatbank4_b_air      0\n",
       "secondary_cleaner.state.floatbank4_b_level    0\n",
       "secondary_cleaner.state.floatbank5_a_air      0\n",
       "secondary_cleaner.state.floatbank5_a_level    0\n",
       "secondary_cleaner.state.floatbank5_b_air      0\n",
       "secondary_cleaner.state.floatbank5_b_level    0\n",
       "secondary_cleaner.state.floatbank6_a_air      0\n",
       "secondary_cleaner.state.floatbank6_a_level    0\n",
       "rougher.output.recovery                       0\n",
       "final.output.recovery                         0\n",
       "dtype: int64"
      ]
     },
     "execution_count": 15,
     "metadata": {},
     "output_type": "execute_result"
    }
   ],
   "source": [
    "#В тестовом наборе данных отсутствуют целевые переменные. Попробуем вытащить их по переменной Date\n",
    "test_target = gold_test.merge(gold_full.loc[:,['date',\"rougher.output.recovery\",\"final.output.recovery\"]],on = 'date')\n",
    "#Проверим есть ли пропуски в том, что присоединили\n",
    "test_target.isna().sum()"
   ]
  },
  {
   "cell_type": "markdown",
   "metadata": {},
   "source": [
    "## Анализ данных"
   ]
  },
  {
   "cell_type": "markdown",
   "metadata": {},
   "source": [
    "### Определим концентрацию металлов на разных этапах очистки"
   ]
  },
  {
   "cell_type": "code",
   "execution_count": 16,
   "metadata": {},
   "outputs": [],
   "source": [
    "def get_diagramm(metal):\n",
    "    fig, ax = plt.subplots(3, 1, figsize=(20, 20))\n",
    "    for i in range(0, len(metal)):\n",
    "        if metal[i] == 'au':\n",
    "            pa_russki = 'золота'\n",
    "        elif metal[i] == 'ag':\n",
    "            pa_russki = 'серебра'\n",
    "        else:\n",
    "            pa_russki = 'свинца'\n",
    "        for process in ['rougher.input.feed_', 'rougher.output.concentrate_', \n",
    "                    'primary_cleaner.output.concentrate_', 'final.output.concentrate_']:\n",
    "            col = process + metal[i]\n",
    "            gold_full[col].plot(\n",
    "                title = f'Изменение концентрации {pa_russki} на разных этапах очистки.',\n",
    "                kind='hist', \n",
    "                bins=200,\n",
    "                ax=ax[i],\n",
    "                grid=True, \n",
    "                legend=True,\n",
    "                alpha=0.5).set(xlabel='Концентрация')"
   ]
  },
  {
   "cell_type": "code",
   "execution_count": 17,
   "metadata": {},
   "outputs": [
    {
     "data": {
      "image/png": "[encoded data removed]",
      "text/plain": [
       "<Figure size 1440x1440 with 3 Axes>"
      ]
     },
     "metadata": {
      "needs_background": "light"
     },
     "output_type": "display_data"
    }
   ],
   "source": [
    "get_diagramm(['au', 'ag', 'pb'])"
   ]
  },
  {
   "cell_type": "markdown",
   "metadata": {},
   "source": [
    "* На графиках видно, что концентрация золота значительно увеличивается от процесса к процессу.\n",
    "* Концентрация серебра возрастает после флотации, но после вторичной очистки заметно снижается.\n",
    "* Концентрация свинца возрастает в течение всего процесса, и не меняется после первичной очистки.\n",
    "\n",
    "* Также видны аномально низкие значения в районе 0. Позже их отбросим."
   ]
  },
  {
   "cell_type": "code",
   "execution_count": 18,
   "metadata": {},
   "outputs": [
    {
     "name": "stdout",
     "output_type": "stream",
     "text": [
      "Исходная концентрация металлов:\n",
      "Золото: 8.27%, Серебро: 8.79%, Свинец: 3.59%\n",
      "---------------------\n",
      "Концентрация металлов после флотации:\n",
      "Золото: 19.77%, Серебро: 11.99%, Свинец: 7.61%\n",
      "---------------------\n",
      "Концентрация металлов после первичной очистки:\n",
      "Золото: 32.12%, Серебро: 8.44%, Свинец: 9.81%\n",
      "---------------------\n",
      "Концентрация металлов после вторичной очистки:\n",
      "Золото: 44.08%, Серебро: 5.17%, Свинец: 9.98%\n",
      "---------------------\n"
     ]
    }
   ],
   "source": [
    "#Определим среднюю концентрацию металлов после каждого их этапов очистки:\n",
    "for process in ['rougher.input.feed_', 'rougher.output.concentrate_', \n",
    "                    'primary_cleaner.output.concentrate_', 'final.output.concentrate_']:\n",
    "    if process == 'rougher.input.feed_':\n",
    "        title = 'Исходная концентрация металлов:'\n",
    "    elif process == 'rougher.output.concentrate_':\n",
    "        title = 'Концентрация металлов после флотации:'\n",
    "    elif 'primary' in process:\n",
    "        title = 'Концентрация металлов после первичной очистки:'\n",
    "    else:\n",
    "        title = 'Концентрация металлов после вторичной очистки:'\n",
    "    au = round(gold_full[process + 'au'].mean(), 2)\n",
    "    ag = round(gold_full[process + 'ag'].mean(), 2)\n",
    "    pb = round(gold_full[process + 'pb'].mean(), 2)\n",
    "    print(title)\n",
    "    print(f'Золото: {au}%, Серебро: {ag}%, Свинец: {pb}%')\n",
    "    print('---------------------')\n",
    "    "
   ]
  },
  {
   "cell_type": "markdown",
   "metadata": {},
   "source": [
    "### Сравнение размера гранул сырья на обучающей и тестовой выборке"
   ]
  },
  {
   "cell_type": "code",
   "execution_count": 19,
   "metadata": {},
   "outputs": [
    {
     "name": "stderr",
     "output_type": "stream",
     "text": [
      "No handles with labels found to put in legend.\n"
     ]
    },
    {
     "data": {
      "text/plain": [
       "Text(0.5, 1.0, 'Сравнение размера гранул в выборках')"
      ]
     },
     "execution_count": 19,
     "metadata": {},
     "output_type": "execute_result"
    },
    {
     "data": {
      "image/png": "[encoded data removed]",
      "text/plain": [
       "<Figure size 1440x720 with 2 Axes>"
      ]
     },
     "metadata": {
      "needs_background": "light"
     },
     "output_type": "display_data"
    }
   ],
   "source": [
    "#'primary_cleaner.input.feed_size'\n",
    "#'rougher.input.feed_size'\n",
    "fig, ax = plt.subplots(2, 1,  figsize=(20, 10))\n",
    "sns.distplot(gold_train['rougher.input.feed_size'], ax = ax[0], \n",
    "                 label = 'train')\n",
    "sns.distplot(gold_test['rougher.input.feed_size'], ax = ax[0],  \n",
    "                 label = 'test')\n",
    "plt.legend()\n",
    "plt.title('Сравнение размера гранул в выборках')\n",
    "\n",
    "sns.distplot(gold_train['primary_cleaner.input.feed_size'], ax = ax[1],  \n",
    "                 label = 'train')\n",
    "sns.distplot(gold_test['primary_cleaner.input.feed_size'], ax = ax[1],  \n",
    "                 label = 'test')\n",
    "plt.legend()\n",
    "plt.title('Сравнение размера гранул в выборках')"
   ]
  },
  {
   "cell_type": "markdown",
   "metadata": {},
   "source": [
    "* Размеры гранул в треноровочной и тестовой выборке практически не отличаются. Это хорошо, тк модели будет проще обучаться."
   ]
  },
  {
   "cell_type": "markdown",
   "metadata": {},
   "source": [
    "### Исследование суммарной концентрации всех веществ на разных стадиях"
   ]
  },
  {
   "cell_type": "code",
   "execution_count": 20,
   "metadata": {},
   "outputs": [],
   "source": [
    "gold_full['rougher.input.feed_sum'] = gold_full['rougher.input.feed_au'] + gold_full['rougher.input.feed_ag'] + gold_full['rougher.input.feed_pb']\n",
    "gold_full['rougher.output.concentrate_sum'] = gold_full['rougher.output.concentrate_au'] + gold_full['rougher.output.concentrate_ag'] + gold_full['rougher.output.concentrate_pb']\n",
    "gold_full['primary_cleaner.output.concentrate_sum'] = gold_full['primary_cleaner.output.concentrate_au'] + gold_full['primary_cleaner.output.concentrate_ag'] + gold_full['primary_cleaner.output.concentrate_pb']\n",
    "gold_full['final.output.concentrate_sum'] = gold_full['final.output.concentrate_au'] + gold_full['final.output.concentrate_ag'] + gold_full['final.output.concentrate_pb']"
   ]
  },
  {
   "cell_type": "code",
   "execution_count": 21,
   "metadata": {},
   "outputs": [
    {
     "data": {
      "image/png": "[encoded data removed]",
      "text/plain": [
       "<Figure size 1440x1440 with 4 Axes>"
      ]
     },
     "metadata": {
      "needs_background": "light"
     },
     "output_type": "display_data"
    }
   ],
   "source": [
    "fig, ax = plt.subplots(4, 1, figsize=(20, 20))\n",
    "i=0\n",
    "for col in ['rougher.input.feed_sum', 'rougher.output.concentrate_sum', \n",
    "          'primary_cleaner.output.concentrate_sum', 'final.output.concentrate_sum']:\n",
    "    if col == 'rougher.input.feed_sum':\n",
    "        process = 'на начальном этапе'\n",
    "    elif col == 'rougher.output.concentrate_sum':\n",
    "        process = 'на этапе флотации'\n",
    "    elif col == 'primary_cleaner.output.concentrate_sum':\n",
    "        process = 'после первичной очистки'\n",
    "    else:\n",
    "        process = 'после вторичной очистки'\n",
    "    gold_full[col].plot(\n",
    "        title = f'Изменение суммарной концентрации веществ {process}.',\n",
    "        kind='hist', \n",
    "        bins=200,\n",
    "        ax=ax[i],\n",
    "        grid=True, \n",
    "        legend=True,\n",
    "        alpha=0.5).set(xlabel='Концентрация')\n",
    "    i = i+1"
   ]
  },
  {
   "cell_type": "code",
   "execution_count": 22,
   "metadata": {},
   "outputs": [],
   "source": [
    "#Напишем функцию, чтобы отбросить аномальные значения в тестовом наборе данных и обуччающей выборке\n",
    "def get_clean_data(data, col):\n",
    "    q1 = data[col].quantile(0.25)\n",
    "    q3 = data[col].quantile(0.75)\n",
    "    iqr = q3 - q1\n",
    "    clean = data.loc[(data[col]  < q3 + 1.5*iqr) & (data[col]  > q1 - 1.5*iqr)]\n",
    "    return clean"
   ]
  },
  {
   "cell_type": "code",
   "execution_count": 67,
   "metadata": {},
   "outputs": [],
   "source": [
    "for col in ['rougher.input.feed_ag', 'rougher.input.feed_au', 'rougher.input.feed_pb', \n",
    "          'rougher.output.concentrate_ag', 'rougher.output.concentrate_au', 'rougher.output.concentrate_pb', \n",
    "          'primary_cleaner.output.concentrate_ag', 'primary_cleaner.output.concentrate_au', 'primary_cleaner.output.concentrate_pb',\n",
    "          'final.output.concentrate_ag', 'final.output.concentrate_au', 'final.output.concentrate_pb']:\n",
    "    if col in gold_test.columns:\n",
    "        test_target = get_clean_data(test_target, col)\n",
    "    else:\n",
    "        continue\n",
    "    \n",
    "for col in ['rougher.input.feed_ag', 'rougher.input.feed_au', 'rougher.input.feed_pb', \n",
    "          'rougher.output.concentrate_ag', 'rougher.output.concentrate_au', 'rougher.output.concentrate_pb', \n",
    "          'primary_cleaner.output.concentrate_ag', 'primary_cleaner.output.concentrate_au', 'primary_cleaner.output.concentrate_pb',\n",
    "          'final.output.concentrate_ag', 'final.output.concentrate_au', 'final.output.concentrate_pb']:\n",
    "    if col in gold_train.columns:\n",
    "        gold_train = get_clean_data(gold_train, col)\n",
    "    else:\n",
    "        continue\n",
    "    "
   ]
  },
  {
   "cell_type": "markdown",
   "metadata": {},
   "source": [
    "## Модель"
   ]
  },
  {
   "cell_type": "code",
   "execution_count": 24,
   "metadata": {},
   "outputs": [],
   "source": [
    "#Формула расчета sMAPE\n",
    "def sMAPE(true, predict):\n",
    "    a = (abs(true - predict)/((abs(true) + abs(predict))*0.5))*100\n",
    "    return a.mean()"
   ]
  },
  {
   "cell_type": "code",
   "execution_count": 25,
   "metadata": {},
   "outputs": [],
   "source": [
    "def final_smape(smape_rougher, smape_final):\n",
    "    final_smape = 0.25*smape_rougher + 0.75*smape_final\n",
    "    return final_smape"
   ]
  },
  {
   "cell_type": "code",
   "execution_count": 26,
   "metadata": {},
   "outputs": [],
   "source": [
    "#Так как метрикой качества является sMAPE, то зададим scorer для GridSearch\n",
    "smape_score =  make_scorer(sMAPE, greater_is_better=False)"
   ]
  },
  {
   "cell_type": "code",
   "execution_count": 27,
   "metadata": {},
   "outputs": [],
   "source": [
    "#Отбросим колонку с датой. Не думаю, что она пригодится далее.\n",
    "features_train = gold_train.drop(['date', 'rougher.output.recovery', 'final.output.recovery'], axis = 1)\n",
    "target_train = gold_train[['rougher.output.recovery', 'final.output.recovery']]"
   ]
  },
  {
   "cell_type": "code",
   "execution_count": 28,
   "metadata": {},
   "outputs": [],
   "source": [
    "#Отбросим колонки в features, которых нет в тестовом наборе\n",
    "difference_1 = sorted(features_train.columns.difference(gold_test.columns))\n",
    "features_train = features_train.drop(difference_1, axis='columns')"
   ]
  },
  {
   "cell_type": "markdown",
   "metadata": {},
   "source": [
    "Ячейки ниже тоже пришлось отключить, тк вместо масштабированного датафрейма, scaler.transform возвращал np.array"
   ]
  },
  {
   "cell_type": "code",
   "execution_count": 29,
   "metadata": {},
   "outputs": [],
   "source": [
    "#Приведем численные признаки ки одному масштабу. Обучим scaler на тренировочном наборе\n",
    "#numeric = features_train.columns\n",
    "#scaler.fit(features_train[numeric])\n",
    "#scaler.transform(features_train[numeric])"
   ]
  },
  {
   "cell_type": "code",
   "execution_count": 30,
   "metadata": {},
   "outputs": [],
   "source": [
    "#Проверим модели случайного леса и дерева решений\n",
    "dt = DecisionTreeRegressor()\n",
    "rf = RandomForestRegressor()"
   ]
  },
  {
   "cell_type": "code",
   "execution_count": 31,
   "metadata": {},
   "outputs": [],
   "source": [
    "dt_params = { 'max_depth': range (1, 50, 2)}\n",
    "\n",
    "rf_params = { 'n_estimators': range (1, 10, 2),\n",
    "              'max_depth': range (1,10, 2) }"
   ]
  },
  {
   "cell_type": "code",
   "execution_count": 32,
   "metadata": {},
   "outputs": [
    {
     "name": "stdout",
     "output_type": "stream",
     "text": [
      "Fitting 5 folds for each of 25 candidates, totalling 125 fits\n",
      "[CV 1/5; 1/25] START max_depth=1................................................\n",
      "[CV 1/5; 1/25] END ..............................max_depth=1; total time=   0.2s\n",
      "[CV 2/5; 1/25] START max_depth=1................................................\n",
      "[CV 2/5; 1/25] END ..............................max_depth=1; total time=   0.1s\n",
      "[CV 3/5; 1/25] START max_depth=1................................................\n",
      "[CV 3/5; 1/25] END ..............................max_depth=1; total time=   0.1s\n",
      "[CV 4/5; 1/25] START max_depth=1................................................\n",
      "[CV 4/5; 1/25] END ..............................max_depth=1; total time=   0.1s\n",
      "[CV 5/5; 1/25] START max_depth=1................................................\n",
      "[CV 5/5; 1/25] END ..............................max_depth=1; total time=   0.1s\n",
      "[CV 1/5; 2/25] START max_depth=3................................................\n",
      "[CV 1/5; 2/25] END ..............................max_depth=3; total time=   0.1s\n",
      "[CV 2/5; 2/25] START max_depth=3................................................\n",
      "[CV 2/5; 2/25] END ..............................max_depth=3; total time=   0.1s\n",
      "[CV 3/5; 2/25] START max_depth=3................................................\n",
      "[CV 3/5; 2/25] END ..............................max_depth=3; total time=   0.1s\n",
      "[CV 4/5; 2/25] START max_depth=3................................................\n",
      "[CV 4/5; 2/25] END ..............................max_depth=3; total time=   0.1s\n",
      "[CV 5/5; 2/25] START max_depth=3................................................\n",
      "[CV 5/5; 2/25] END ..............................max_depth=3; total time=   0.1s\n",
      "[CV 1/5; 3/25] START max_depth=5................................................\n",
      "[CV 1/5; 3/25] END ..............................max_depth=5; total time=   0.2s\n",
      "[CV 2/5; 3/25] START max_depth=5................................................\n",
      "[CV 2/5; 3/25] END ..............................max_depth=5; total time=   0.2s\n",
      "[CV 3/5; 3/25] START max_depth=5................................................\n",
      "[CV 3/5; 3/25] END ..............................max_depth=5; total time=   0.2s\n",
      "[CV 4/5; 3/25] START max_depth=5................................................\n",
      "[CV 4/5; 3/25] END ..............................max_depth=5; total time=   0.2s\n",
      "[CV 5/5; 3/25] START max_depth=5................................................\n",
      "[CV 5/5; 3/25] END ..............................max_depth=5; total time=   0.2s\n",
      "[CV 1/5; 4/25] START max_depth=7................................................\n",
      "[CV 1/5; 4/25] END ..............................max_depth=7; total time=   0.3s\n",
      "[CV 2/5; 4/25] START max_depth=7................................................\n",
      "[CV 2/5; 4/25] END ..............................max_depth=7; total time=   0.3s\n",
      "[CV 3/5; 4/25] START max_depth=7................................................\n",
      "[CV 3/5; 4/25] END ..............................max_depth=7; total time=   0.3s\n",
      "[CV 4/5; 4/25] START max_depth=7................................................\n",
      "[CV 4/5; 4/25] END ..............................max_depth=7; total time=   0.3s\n",
      "[CV 5/5; 4/25] START max_depth=7................................................\n",
      "[CV 5/5; 4/25] END ..............................max_depth=7; total time=   0.3s\n",
      "[CV 1/5; 5/25] START max_depth=9................................................\n",
      "[CV 1/5; 5/25] END ..............................max_depth=9; total time=   0.4s\n",
      "[CV 2/5; 5/25] START max_depth=9................................................\n",
      "[CV 2/5; 5/25] END ..............................max_depth=9; total time=   0.4s\n",
      "[CV 3/5; 5/25] START max_depth=9................................................\n",
      "[CV 3/5; 5/25] END ..............................max_depth=9; total time=   0.3s\n",
      "[CV 4/5; 5/25] START max_depth=9................................................\n",
      "[CV 4/5; 5/25] END ..............................max_depth=9; total time=   0.3s\n",
      "[CV 5/5; 5/25] START max_depth=9................................................\n",
      "[CV 5/5; 5/25] END ..............................max_depth=9; total time=   0.3s\n",
      "[CV 1/5; 6/25] START max_depth=11...............................................\n",
      "[CV 1/5; 6/25] END .............................max_depth=11; total time=   0.4s\n",
      "[CV 2/5; 6/25] START max_depth=11...............................................\n",
      "[CV 2/5; 6/25] END .............................max_depth=11; total time=   0.4s\n",
      "[CV 3/5; 6/25] START max_depth=11...............................................\n",
      "[CV 3/5; 6/25] END .............................max_depth=11; total time=   0.4s\n",
      "[CV 4/5; 6/25] START max_depth=11...............................................\n",
      "[CV 4/5; 6/25] END .............................max_depth=11; total time=   0.4s\n",
      "[CV 5/5; 6/25] START max_depth=11...............................................\n",
      "[CV 5/5; 6/25] END .............................max_depth=11; total time=   0.4s\n",
      "[CV 1/5; 7/25] START max_depth=13...............................................\n",
      "[CV 1/5; 7/25] END .............................max_depth=13; total time=   0.4s\n",
      "[CV 2/5; 7/25] START max_depth=13...............................................\n",
      "[CV 2/5; 7/25] END .............................max_depth=13; total time=   0.4s\n",
      "[CV 3/5; 7/25] START max_depth=13...............................................\n",
      "[CV 3/5; 7/25] END .............................max_depth=13; total time=   0.4s\n",
      "[CV 4/5; 7/25] START max_depth=13...............................................\n",
      "[CV 4/5; 7/25] END .............................max_depth=13; total time=   0.4s\n",
      "[CV 5/5; 7/25] START max_depth=13...............................................\n",
      "[CV 5/5; 7/25] END .............................max_depth=13; total time=   0.4s\n",
      "[CV 1/5; 8/25] START max_depth=15...............................................\n",
      "[CV 1/5; 8/25] END .............................max_depth=15; total time=   0.5s\n",
      "[CV 2/5; 8/25] START max_depth=15...............................................\n",
      "[CV 2/5; 8/25] END .............................max_depth=15; total time=   0.5s\n",
      "[CV 3/5; 8/25] START max_depth=15...............................................\n",
      "[CV 3/5; 8/25] END .............................max_depth=15; total time=   0.4s\n",
      "[CV 4/5; 8/25] START max_depth=15...............................................\n",
      "[CV 4/5; 8/25] END .............................max_depth=15; total time=   0.4s\n",
      "[CV 5/5; 8/25] START max_depth=15...............................................\n",
      "[CV 5/5; 8/25] END .............................max_depth=15; total time=   0.5s\n",
      "[CV 1/5; 9/25] START max_depth=17...............................................\n",
      "[CV 1/5; 9/25] END .............................max_depth=17; total time=   0.5s\n",
      "[CV 2/5; 9/25] START max_depth=17...............................................\n",
      "[CV 2/5; 9/25] END .............................max_depth=17; total time=   0.5s\n",
      "[CV 3/5; 9/25] START max_depth=17...............................................\n",
      "[CV 3/5; 9/25] END .............................max_depth=17; total time=   0.5s\n",
      "[CV 4/5; 9/25] START max_depth=17...............................................\n",
      "[CV 4/5; 9/25] END .............................max_depth=17; total time=   0.5s\n",
      "[CV 5/5; 9/25] START max_depth=17...............................................\n",
      "[CV 5/5; 9/25] END .............................max_depth=17; total time=   0.5s\n",
      "[CV 1/5; 10/25] START max_depth=19..............................................\n",
      "[CV 1/5; 10/25] END ............................max_depth=19; total time=   0.5s\n",
      "[CV 2/5; 10/25] START max_depth=19..............................................\n",
      "[CV 2/5; 10/25] END ............................max_depth=19; total time=   0.5s\n",
      "[CV 3/5; 10/25] START max_depth=19..............................................\n",
      "[CV 3/5; 10/25] END ............................max_depth=19; total time=   0.5s\n",
      "[CV 4/5; 10/25] START max_depth=19..............................................\n",
      "[CV 4/5; 10/25] END ............................max_depth=19; total time=   0.5s\n",
      "[CV 5/5; 10/25] START max_depth=19..............................................\n",
      "[CV 5/5; 10/25] END ............................max_depth=19; total time=   0.5s\n",
      "[CV 1/5; 11/25] START max_depth=21..............................................\n",
      "[CV 1/5; 11/25] END ............................max_depth=21; total time=   0.5s\n",
      "[CV 2/5; 11/25] START max_depth=21..............................................\n",
      "[CV 2/5; 11/25] END ............................max_depth=21; total time=   0.6s\n",
      "[CV 3/5; 11/25] START max_depth=21..............................................\n",
      "[CV 3/5; 11/25] END ............................max_depth=21; total time=   0.5s\n",
      "[CV 4/5; 11/25] START max_depth=21..............................................\n",
      "[CV 4/5; 11/25] END ............................max_depth=21; total time=   0.5s\n",
      "[CV 5/5; 11/25] START max_depth=21..............................................\n",
      "[CV 5/5; 11/25] END ............................max_depth=21; total time=   0.5s\n",
      "[CV 1/5; 12/25] START max_depth=23..............................................\n",
      "[CV 1/5; 12/25] END ............................max_depth=23; total time=   0.6s\n",
      "[CV 2/5; 12/25] START max_depth=23..............................................\n",
      "[CV 2/5; 12/25] END ............................max_depth=23; total time=   0.6s\n",
      "[CV 3/5; 12/25] START max_depth=23..............................................\n",
      "[CV 3/5; 12/25] END ............................max_depth=23; total time=   0.5s\n",
      "[CV 4/5; 12/25] START max_depth=23..............................................\n",
      "[CV 4/5; 12/25] END ............................max_depth=23; total time=   0.5s\n",
      "[CV 5/5; 12/25] START max_depth=23..............................................\n",
      "[CV 5/5; 12/25] END ............................max_depth=23; total time=   0.5s\n",
      "[CV 1/5; 13/25] START max_depth=25..............................................\n",
      "[CV 1/5; 13/25] END ............................max_depth=25; total time=   0.5s\n",
      "[CV 2/5; 13/25] START max_depth=25..............................................\n",
      "[CV 2/5; 13/25] END ............................max_depth=25; total time=   0.6s\n",
      "[CV 3/5; 13/25] START max_depth=25..............................................\n",
      "[CV 3/5; 13/25] END ............................max_depth=25; total time=   0.5s\n",
      "[CV 4/5; 13/25] START max_depth=25..............................................\n",
      "[CV 4/5; 13/25] END ............................max_depth=25; total time=   0.5s\n",
      "[CV 5/5; 13/25] START max_depth=25..............................................\n",
      "[CV 5/5; 13/25] END ............................max_depth=25; total time=   0.6s\n",
      "[CV 1/5; 14/25] START max_depth=27..............................................\n",
      "[CV 1/5; 14/25] END ............................max_depth=27; total time=   0.5s\n",
      "[CV 2/5; 14/25] START max_depth=27..............................................\n",
      "[CV 2/5; 14/25] END ............................max_depth=27; total time=   0.6s\n",
      "[CV 3/5; 14/25] START max_depth=27..............................................\n",
      "[CV 3/5; 14/25] END ............................max_depth=27; total time=   0.5s\n",
      "[CV 4/5; 14/25] START max_depth=27..............................................\n",
      "[CV 4/5; 14/25] END ............................max_depth=27; total time=   0.5s\n",
      "[CV 5/5; 14/25] START max_depth=27..............................................\n",
      "[CV 5/5; 14/25] END ............................max_depth=27; total time=   0.5s\n",
      "[CV 1/5; 15/25] START max_depth=29..............................................\n",
      "[CV 1/5; 15/25] END ............................max_depth=29; total time=   0.6s\n",
      "[CV 2/5; 15/25] START max_depth=29..............................................\n",
      "[CV 2/5; 15/25] END ............................max_depth=29; total time=   0.6s\n",
      "[CV 3/5; 15/25] START max_depth=29..............................................\n",
      "[CV 3/5; 15/25] END ............................max_depth=29; total time=   0.5s\n",
      "[CV 4/5; 15/25] START max_depth=29..............................................\n",
      "[CV 4/5; 15/25] END ............................max_depth=29; total time=   0.5s\n",
      "[CV 5/5; 15/25] START max_depth=29..............................................\n",
      "[CV 5/5; 15/25] END ............................max_depth=29; total time=   0.6s\n",
      "[CV 1/5; 16/25] START max_depth=31..............................................\n",
      "[CV 1/5; 16/25] END ............................max_depth=31; total time=   0.6s\n",
      "[CV 2/5; 16/25] START max_depth=31..............................................\n",
      "[CV 2/5; 16/25] END ............................max_depth=31; total time=   0.6s\n",
      "[CV 3/5; 16/25] START max_depth=31..............................................\n",
      "[CV 3/5; 16/25] END ............................max_depth=31; total time=   0.5s\n",
      "[CV 4/5; 16/25] START max_depth=31..............................................\n",
      "[CV 4/5; 16/25] END ............................max_depth=31; total time=   0.5s\n",
      "[CV 5/5; 16/25] START max_depth=31..............................................\n",
      "[CV 5/5; 16/25] END ............................max_depth=31; total time=   0.6s\n",
      "[CV 1/5; 17/25] START max_depth=33..............................................\n",
      "[CV 1/5; 17/25] END ............................max_depth=33; total time=   0.5s\n",
      "[CV 2/5; 17/25] START max_depth=33..............................................\n",
      "[CV 2/5; 17/25] END ............................max_depth=33; total time=   0.6s\n",
      "[CV 3/5; 17/25] START max_depth=33..............................................\n",
      "[CV 3/5; 17/25] END ............................max_depth=33; total time=   0.5s\n",
      "[CV 4/5; 17/25] START max_depth=33..............................................\n",
      "[CV 4/5; 17/25] END ............................max_depth=33; total time=   0.5s\n",
      "[CV 5/5; 17/25] START max_depth=33..............................................\n",
      "[CV 5/5; 17/25] END ............................max_depth=33; total time=   0.6s\n",
      "[CV 1/5; 18/25] START max_depth=35..............................................\n",
      "[CV 1/5; 18/25] END ............................max_depth=35; total time=   0.5s\n",
      "[CV 2/5; 18/25] START max_depth=35..............................................\n",
      "[CV 2/5; 18/25] END ............................max_depth=35; total time=   0.6s\n",
      "[CV 3/5; 18/25] START max_depth=35..............................................\n",
      "[CV 3/5; 18/25] END ............................max_depth=35; total time=   0.5s\n",
      "[CV 4/5; 18/25] START max_depth=35..............................................\n",
      "[CV 4/5; 18/25] END ............................max_depth=35; total time=   0.5s\n",
      "[CV 5/5; 18/25] START max_depth=35..............................................\n",
      "[CV 5/5; 18/25] END ............................max_depth=35; total time=   0.6s\n",
      "[CV 1/5; 19/25] START max_depth=37..............................................\n",
      "[CV 1/5; 19/25] END ............................max_depth=37; total time=   0.5s\n",
      "[CV 2/5; 19/25] START max_depth=37..............................................\n",
      "[CV 2/5; 19/25] END ............................max_depth=37; total time=   0.6s\n",
      "[CV 3/5; 19/25] START max_depth=37..............................................\n",
      "[CV 3/5; 19/25] END ............................max_depth=37; total time=   0.6s\n",
      "[CV 4/5; 19/25] START max_depth=37..............................................\n",
      "[CV 4/5; 19/25] END ............................max_depth=37; total time=   0.5s\n",
      "[CV 5/5; 19/25] START max_depth=37..............................................\n",
      "[CV 5/5; 19/25] END ............................max_depth=37; total time=   0.6s\n",
      "[CV 1/5; 20/25] START max_depth=39..............................................\n",
      "[CV 1/5; 20/25] END ............................max_depth=39; total time=   0.5s\n",
      "[CV 2/5; 20/25] START max_depth=39..............................................\n",
      "[CV 2/5; 20/25] END ............................max_depth=39; total time=   0.6s\n",
      "[CV 3/5; 20/25] START max_depth=39..............................................\n",
      "[CV 3/5; 20/25] END ............................max_depth=39; total time=   0.5s\n",
      "[CV 4/5; 20/25] START max_depth=39..............................................\n",
      "[CV 4/5; 20/25] END ............................max_depth=39; total time=   0.5s\n",
      "[CV 5/5; 20/25] START max_depth=39..............................................\n",
      "[CV 5/5; 20/25] END ............................max_depth=39; total time=   0.6s\n",
      "[CV 1/5; 21/25] START max_depth=41..............................................\n",
      "[CV 1/5; 21/25] END ............................max_depth=41; total time=   0.5s\n",
      "[CV 2/5; 21/25] START max_depth=41..............................................\n",
      "[CV 2/5; 21/25] END ............................max_depth=41; total time=   0.6s\n",
      "[CV 3/5; 21/25] START max_depth=41..............................................\n",
      "[CV 3/5; 21/25] END ............................max_depth=41; total time=   0.5s\n",
      "[CV 4/5; 21/25] START max_depth=41..............................................\n",
      "[CV 4/5; 21/25] END ............................max_depth=41; total time=   0.5s\n",
      "[CV 5/5; 21/25] START max_depth=41..............................................\n",
      "[CV 5/5; 21/25] END ............................max_depth=41; total time=   0.6s\n",
      "[CV 1/5; 22/25] START max_depth=43..............................................\n",
      "[CV 1/5; 22/25] END ............................max_depth=43; total time=   0.5s\n",
      "[CV 2/5; 22/25] START max_depth=43..............................................\n",
      "[CV 2/5; 22/25] END ............................max_depth=43; total time=   0.6s\n",
      "[CV 3/5; 22/25] START max_depth=43..............................................\n",
      "[CV 3/5; 22/25] END ............................max_depth=43; total time=   0.5s\n",
      "[CV 4/5; 22/25] START max_depth=43..............................................\n",
      "[CV 4/5; 22/25] END ............................max_depth=43; total time=   0.5s\n",
      "[CV 5/5; 22/25] START max_depth=43..............................................\n",
      "[CV 5/5; 22/25] END ............................max_depth=43; total time=   0.6s\n",
      "[CV 1/5; 23/25] START max_depth=45..............................................\n",
      "[CV 1/5; 23/25] END ............................max_depth=45; total time=   0.6s\n",
      "[CV 2/5; 23/25] START max_depth=45..............................................\n",
      "[CV 2/5; 23/25] END ............................max_depth=45; total time=   0.6s\n",
      "[CV 3/5; 23/25] START max_depth=45..............................................\n",
      "[CV 3/5; 23/25] END ............................max_depth=45; total time=   0.6s\n",
      "[CV 4/5; 23/25] START max_depth=45..............................................\n",
      "[CV 4/5; 23/25] END ............................max_depth=45; total time=   0.5s\n",
      "[CV 5/5; 23/25] START max_depth=45..............................................\n",
      "[CV 5/5; 23/25] END ............................max_depth=45; total time=   0.6s\n",
      "[CV 1/5; 24/25] START max_depth=47..............................................\n",
      "[CV 1/5; 24/25] END ............................max_depth=47; total time=   0.6s\n",
      "[CV 2/5; 24/25] START max_depth=47..............................................\n",
      "[CV 2/5; 24/25] END ............................max_depth=47; total time=   0.6s\n",
      "[CV 3/5; 24/25] START max_depth=47..............................................\n",
      "[CV 3/5; 24/25] END ............................max_depth=47; total time=   0.5s\n",
      "[CV 4/5; 24/25] START max_depth=47..............................................\n",
      "[CV 4/5; 24/25] END ............................max_depth=47; total time=   0.5s\n",
      "[CV 5/5; 24/25] START max_depth=47..............................................\n",
      "[CV 5/5; 24/25] END ............................max_depth=47; total time=   0.6s\n",
      "[CV 1/5; 25/25] START max_depth=49..............................................\n",
      "[CV 1/5; 25/25] END ............................max_depth=49; total time=   0.6s\n",
      "[CV 2/5; 25/25] START max_depth=49..............................................\n",
      "[CV 2/5; 25/25] END ............................max_depth=49; total time=   0.6s\n",
      "[CV 3/5; 25/25] START max_depth=49..............................................\n",
      "[CV 3/5; 25/25] END ............................max_depth=49; total time=   0.5s\n",
      "[CV 4/5; 25/25] START max_depth=49..............................................\n",
      "[CV 4/5; 25/25] END ............................max_depth=49; total time=   0.5s\n",
      "[CV 5/5; 25/25] START max_depth=49..............................................\n",
      "[CV 5/5; 25/25] END ............................max_depth=49; total time=   0.6s\n"
     ]
    },
    {
     "data": {
      "text/plain": [
       "{'max_depth': 7}"
      ]
     },
     "metadata": {},
     "output_type": "display_data"
    },
    {
     "name": "stdout",
     "output_type": "stream",
     "text": [
      "Fitting 5 folds for each of 25 candidates, totalling 125 fits\n",
      "[CV 1/5; 1/25] START max_depth=1................................................\n",
      "[CV 1/5; 1/25] END ..............................max_depth=1; total time=   0.1s\n",
      "[CV 2/5; 1/25] START max_depth=1................................................\n",
      "[CV 2/5; 1/25] END ..............................max_depth=1; total time=   0.0s\n",
      "[CV 3/5; 1/25] START max_depth=1................................................\n",
      "[CV 3/5; 1/25] END ..............................max_depth=1; total time=   0.1s\n",
      "[CV 4/5; 1/25] START max_depth=1................................................\n",
      "[CV 4/5; 1/25] END ..............................max_depth=1; total time=   0.1s\n",
      "[CV 5/5; 1/25] START max_depth=1................................................\n",
      "[CV 5/5; 1/25] END ..............................max_depth=1; total time=   0.1s\n",
      "[CV 1/5; 2/25] START max_depth=3................................................\n",
      "[CV 1/5; 2/25] END ..............................max_depth=3; total time=   0.2s\n",
      "[CV 2/5; 2/25] START max_depth=3................................................\n",
      "[CV 2/5; 2/25] END ..............................max_depth=3; total time=   0.2s\n",
      "[CV 3/5; 2/25] START max_depth=3................................................\n",
      "[CV 3/5; 2/25] END ..............................max_depth=3; total time=   0.2s\n",
      "[CV 4/5; 2/25] START max_depth=3................................................\n",
      "[CV 4/5; 2/25] END ..............................max_depth=3; total time=   0.2s\n",
      "[CV 5/5; 2/25] START max_depth=3................................................\n",
      "[CV 5/5; 2/25] END ..............................max_depth=3; total time=   0.2s\n",
      "[CV 1/5; 3/25] START max_depth=5................................................\n",
      "[CV 1/5; 3/25] END ..............................max_depth=5; total time=   0.2s\n",
      "[CV 2/5; 3/25] START max_depth=5................................................\n",
      "[CV 2/5; 3/25] END ..............................max_depth=5; total time=   0.3s\n",
      "[CV 3/5; 3/25] START max_depth=5................................................\n",
      "[CV 3/5; 3/25] END ..............................max_depth=5; total time=   0.2s\n",
      "[CV 4/5; 3/25] START max_depth=5................................................\n",
      "[CV 4/5; 3/25] END ..............................max_depth=5; total time=   0.2s\n",
      "[CV 5/5; 3/25] START max_depth=5................................................\n",
      "[CV 5/5; 3/25] END ..............................max_depth=5; total time=   0.2s\n",
      "[CV 1/5; 4/25] START max_depth=7................................................\n",
      "[CV 1/5; 4/25] END ..............................max_depth=7; total time=   0.3s\n",
      "[CV 2/5; 4/25] START max_depth=7................................................\n",
      "[CV 2/5; 4/25] END ..............................max_depth=7; total time=   0.3s\n",
      "[CV 3/5; 4/25] START max_depth=7................................................\n",
      "[CV 3/5; 4/25] END ..............................max_depth=7; total time=   0.3s\n",
      "[CV 4/5; 4/25] START max_depth=7................................................\n",
      "[CV 4/5; 4/25] END ..............................max_depth=7; total time=   0.3s\n",
      "[CV 5/5; 4/25] START max_depth=7................................................\n",
      "[CV 5/5; 4/25] END ..............................max_depth=7; total time=   0.3s\n",
      "[CV 1/5; 5/25] START max_depth=9................................................\n",
      "[CV 1/5; 5/25] END ..............................max_depth=9; total time=   0.4s\n",
      "[CV 2/5; 5/25] START max_depth=9................................................\n",
      "[CV 2/5; 5/25] END ..............................max_depth=9; total time=   0.3s\n",
      "[CV 3/5; 5/25] START max_depth=9................................................\n",
      "[CV 3/5; 5/25] END ..............................max_depth=9; total time=   0.3s\n",
      "[CV 4/5; 5/25] START max_depth=9................................................\n",
      "[CV 4/5; 5/25] END ..............................max_depth=9; total time=   0.4s\n",
      "[CV 5/5; 5/25] START max_depth=9................................................\n",
      "[CV 5/5; 5/25] END ..............................max_depth=9; total time=   0.4s\n",
      "[CV 1/5; 6/25] START max_depth=11...............................................\n",
      "[CV 1/5; 6/25] END .............................max_depth=11; total time=   0.4s\n",
      "[CV 2/5; 6/25] START max_depth=11...............................................\n",
      "[CV 2/5; 6/25] END .............................max_depth=11; total time=   0.4s\n",
      "[CV 3/5; 6/25] START max_depth=11...............................................\n",
      "[CV 3/5; 6/25] END .............................max_depth=11; total time=   0.4s\n",
      "[CV 4/5; 6/25] START max_depth=11...............................................\n",
      "[CV 4/5; 6/25] END .............................max_depth=11; total time=   0.4s\n",
      "[CV 5/5; 6/25] START max_depth=11...............................................\n",
      "[CV 5/5; 6/25] END .............................max_depth=11; total time=   0.4s\n",
      "[CV 1/5; 7/25] START max_depth=13...............................................\n",
      "[CV 1/5; 7/25] END .............................max_depth=13; total time=   0.4s\n",
      "[CV 2/5; 7/25] START max_depth=13...............................................\n",
      "[CV 2/5; 7/25] END .............................max_depth=13; total time=   0.4s\n",
      "[CV 3/5; 7/25] START max_depth=13...............................................\n",
      "[CV 3/5; 7/25] END .............................max_depth=13; total time=   0.4s\n",
      "[CV 4/5; 7/25] START max_depth=13...............................................\n",
      "[CV 4/5; 7/25] END .............................max_depth=13; total time=   0.4s\n",
      "[CV 5/5; 7/25] START max_depth=13...............................................\n",
      "[CV 5/5; 7/25] END .............................max_depth=13; total time=   0.4s\n",
      "[CV 1/5; 8/25] START max_depth=15...............................................\n",
      "[CV 1/5; 8/25] END .............................max_depth=15; total time=   0.5s\n",
      "[CV 2/5; 8/25] START max_depth=15...............................................\n",
      "[CV 2/5; 8/25] END .............................max_depth=15; total time=   0.5s\n",
      "[CV 3/5; 8/25] START max_depth=15...............................................\n",
      "[CV 3/5; 8/25] END .............................max_depth=15; total time=   0.5s\n",
      "[CV 4/5; 8/25] START max_depth=15...............................................\n",
      "[CV 4/5; 8/25] END .............................max_depth=15; total time=   0.5s\n",
      "[CV 5/5; 8/25] START max_depth=15...............................................\n",
      "[CV 5/5; 8/25] END .............................max_depth=15; total time=   0.5s\n",
      "[CV 1/5; 9/25] START max_depth=17...............................................\n",
      "[CV 1/5; 9/25] END .............................max_depth=17; total time=   0.5s\n",
      "[CV 2/5; 9/25] START max_depth=17...............................................\n",
      "[CV 2/5; 9/25] END .............................max_depth=17; total time=   0.5s\n",
      "[CV 3/5; 9/25] START max_depth=17...............................................\n",
      "[CV 3/5; 9/25] END .............................max_depth=17; total time=   0.5s\n",
      "[CV 4/5; 9/25] START max_depth=17...............................................\n",
      "[CV 4/5; 9/25] END .............................max_depth=17; total time=   0.5s\n",
      "[CV 5/5; 9/25] START max_depth=17...............................................\n",
      "[CV 5/5; 9/25] END .............................max_depth=17; total time=   0.5s\n",
      "[CV 1/5; 10/25] START max_depth=19..............................................\n",
      "[CV 1/5; 10/25] END ............................max_depth=19; total time=   0.5s\n",
      "[CV 2/5; 10/25] START max_depth=19..............................................\n",
      "[CV 2/5; 10/25] END ............................max_depth=19; total time=   0.5s\n",
      "[CV 3/5; 10/25] START max_depth=19..............................................\n",
      "[CV 3/5; 10/25] END ............................max_depth=19; total time=   0.5s\n",
      "[CV 4/5; 10/25] START max_depth=19..............................................\n",
      "[CV 4/5; 10/25] END ............................max_depth=19; total time=   0.5s\n",
      "[CV 5/5; 10/25] START max_depth=19..............................................\n",
      "[CV 5/5; 10/25] END ............................max_depth=19; total time=   0.5s\n",
      "[CV 1/5; 11/25] START max_depth=21..............................................\n",
      "[CV 1/5; 11/25] END ............................max_depth=21; total time=   0.6s\n",
      "[CV 2/5; 11/25] START max_depth=21..............................................\n",
      "[CV 2/5; 11/25] END ............................max_depth=21; total time=   0.6s\n",
      "[CV 3/5; 11/25] START max_depth=21..............................................\n",
      "[CV 3/5; 11/25] END ............................max_depth=21; total time=   0.5s\n",
      "[CV 4/5; 11/25] START max_depth=21..............................................\n",
      "[CV 4/5; 11/25] END ............................max_depth=21; total time=   0.6s\n",
      "[CV 5/5; 11/25] START max_depth=21..............................................\n",
      "[CV 5/5; 11/25] END ............................max_depth=21; total time=   0.6s\n",
      "[CV 1/5; 12/25] START max_depth=23..............................................\n",
      "[CV 1/5; 12/25] END ............................max_depth=23; total time=   0.6s\n",
      "[CV 2/5; 12/25] START max_depth=23..............................................\n",
      "[CV 2/5; 12/25] END ............................max_depth=23; total time=   0.6s\n",
      "[CV 3/5; 12/25] START max_depth=23..............................................\n",
      "[CV 3/5; 12/25] END ............................max_depth=23; total time=   0.5s\n",
      "[CV 4/5; 12/25] START max_depth=23..............................................\n",
      "[CV 4/5; 12/25] END ............................max_depth=23; total time=   0.6s\n",
      "[CV 5/5; 12/25] START max_depth=23..............................................\n",
      "[CV 5/5; 12/25] END ............................max_depth=23; total time=   0.6s\n",
      "[CV 1/5; 13/25] START max_depth=25..............................................\n",
      "[CV 1/5; 13/25] END ............................max_depth=25; total time=   0.6s\n",
      "[CV 2/5; 13/25] START max_depth=25..............................................\n",
      "[CV 2/5; 13/25] END ............................max_depth=25; total time=   0.6s\n",
      "[CV 3/5; 13/25] START max_depth=25..............................................\n",
      "[CV 3/5; 13/25] END ............................max_depth=25; total time=   0.6s\n",
      "[CV 4/5; 13/25] START max_depth=25..............................................\n",
      "[CV 4/5; 13/25] END ............................max_depth=25; total time=   0.6s\n",
      "[CV 5/5; 13/25] START max_depth=25..............................................\n",
      "[CV 5/5; 13/25] END ............................max_depth=25; total time=   0.6s\n",
      "[CV 1/5; 14/25] START max_depth=27..............................................\n",
      "[CV 1/5; 14/25] END ............................max_depth=27; total time=   0.6s\n",
      "[CV 2/5; 14/25] START max_depth=27..............................................\n",
      "[CV 2/5; 14/25] END ............................max_depth=27; total time=   0.6s\n",
      "[CV 3/5; 14/25] START max_depth=27..............................................\n",
      "[CV 3/5; 14/25] END ............................max_depth=27; total time=   0.6s\n",
      "[CV 4/5; 14/25] START max_depth=27..............................................\n",
      "[CV 4/5; 14/25] END ............................max_depth=27; total time=   0.6s\n",
      "[CV 5/5; 14/25] START max_depth=27..............................................\n",
      "[CV 5/5; 14/25] END ............................max_depth=27; total time=   0.6s\n",
      "[CV 1/5; 15/25] START max_depth=29..............................................\n",
      "[CV 1/5; 15/25] END ............................max_depth=29; total time=   0.6s\n",
      "[CV 2/5; 15/25] START max_depth=29..............................................\n",
      "[CV 2/5; 15/25] END ............................max_depth=29; total time=   0.6s\n",
      "[CV 3/5; 15/25] START max_depth=29..............................................\n",
      "[CV 3/5; 15/25] END ............................max_depth=29; total time=   0.6s\n",
      "[CV 4/5; 15/25] START max_depth=29..............................................\n",
      "[CV 4/5; 15/25] END ............................max_depth=29; total time=   0.6s\n",
      "[CV 5/5; 15/25] START max_depth=29..............................................\n",
      "[CV 5/5; 15/25] END ............................max_depth=29; total time=   0.6s\n",
      "[CV 1/5; 16/25] START max_depth=31..............................................\n",
      "[CV 1/5; 16/25] END ............................max_depth=31; total time=   0.7s\n",
      "[CV 2/5; 16/25] START max_depth=31..............................................\n",
      "[CV 2/5; 16/25] END ............................max_depth=31; total time=   0.6s\n",
      "[CV 3/5; 16/25] START max_depth=31..............................................\n",
      "[CV 3/5; 16/25] END ............................max_depth=31; total time=   0.6s\n",
      "[CV 4/5; 16/25] START max_depth=31..............................................\n",
      "[CV 4/5; 16/25] END ............................max_depth=31; total time=   0.6s\n",
      "[CV 5/5; 16/25] START max_depth=31..............................................\n",
      "[CV 5/5; 16/25] END ............................max_depth=31; total time=   0.6s\n",
      "[CV 1/5; 17/25] START max_depth=33..............................................\n",
      "[CV 1/5; 17/25] END ............................max_depth=33; total time=   0.6s\n",
      "[CV 2/5; 17/25] START max_depth=33..............................................\n",
      "[CV 2/5; 17/25] END ............................max_depth=33; total time=   0.6s\n",
      "[CV 3/5; 17/25] START max_depth=33..............................................\n",
      "[CV 3/5; 17/25] END ............................max_depth=33; total time=   0.6s\n",
      "[CV 4/5; 17/25] START max_depth=33..............................................\n",
      "[CV 4/5; 17/25] END ............................max_depth=33; total time=   0.6s\n",
      "[CV 5/5; 17/25] START max_depth=33..............................................\n",
      "[CV 5/5; 17/25] END ............................max_depth=33; total time=   0.6s\n",
      "[CV 1/5; 18/25] START max_depth=35..............................................\n",
      "[CV 1/5; 18/25] END ............................max_depth=35; total time=   0.6s\n",
      "[CV 2/5; 18/25] START max_depth=35..............................................\n",
      "[CV 2/5; 18/25] END ............................max_depth=35; total time=   0.6s\n",
      "[CV 3/5; 18/25] START max_depth=35..............................................\n",
      "[CV 3/5; 18/25] END ............................max_depth=35; total time=   0.6s\n",
      "[CV 4/5; 18/25] START max_depth=35..............................................\n",
      "[CV 4/5; 18/25] END ............................max_depth=35; total time=   0.6s\n",
      "[CV 5/5; 18/25] START max_depth=35..............................................\n",
      "[CV 5/5; 18/25] END ............................max_depth=35; total time=   0.6s\n",
      "[CV 1/5; 19/25] START max_depth=37..............................................\n",
      "[CV 1/5; 19/25] END ............................max_depth=37; total time=   0.6s\n",
      "[CV 2/5; 19/25] START max_depth=37..............................................\n",
      "[CV 2/5; 19/25] END ............................max_depth=37; total time=   0.7s\n",
      "[CV 3/5; 19/25] START max_depth=37..............................................\n",
      "[CV 3/5; 19/25] END ............................max_depth=37; total time=   0.6s\n",
      "[CV 4/5; 19/25] START max_depth=37..............................................\n",
      "[CV 4/5; 19/25] END ............................max_depth=37; total time=   0.6s\n",
      "[CV 5/5; 19/25] START max_depth=37..............................................\n",
      "[CV 5/5; 19/25] END ............................max_depth=37; total time=   0.7s\n",
      "[CV 1/5; 20/25] START max_depth=39..............................................\n",
      "[CV 1/5; 20/25] END ............................max_depth=39; total time=   0.6s\n",
      "[CV 2/5; 20/25] START max_depth=39..............................................\n",
      "[CV 2/5; 20/25] END ............................max_depth=39; total time=   0.6s\n",
      "[CV 3/5; 20/25] START max_depth=39..............................................\n",
      "[CV 3/5; 20/25] END ............................max_depth=39; total time=   0.6s\n",
      "[CV 4/5; 20/25] START max_depth=39..............................................\n",
      "[CV 4/5; 20/25] END ............................max_depth=39; total time=   0.6s\n",
      "[CV 5/5; 20/25] START max_depth=39..............................................\n",
      "[CV 5/5; 20/25] END ............................max_depth=39; total time=   0.6s\n",
      "[CV 1/5; 21/25] START max_depth=41..............................................\n",
      "[CV 1/5; 21/25] END ............................max_depth=41; total time=   0.6s\n",
      "[CV 2/5; 21/25] START max_depth=41..............................................\n",
      "[CV 2/5; 21/25] END ............................max_depth=41; total time=   0.6s\n",
      "[CV 3/5; 21/25] START max_depth=41..............................................\n",
      "[CV 3/5; 21/25] END ............................max_depth=41; total time=   0.6s\n",
      "[CV 4/5; 21/25] START max_depth=41..............................................\n",
      "[CV 4/5; 21/25] END ............................max_depth=41; total time=   0.7s\n",
      "[CV 5/5; 21/25] START max_depth=41..............................................\n",
      "[CV 5/5; 21/25] END ............................max_depth=41; total time=   0.6s\n",
      "[CV 1/5; 22/25] START max_depth=43..............................................\n",
      "[CV 1/5; 22/25] END ............................max_depth=43; total time=   0.6s\n",
      "[CV 2/5; 22/25] START max_depth=43..............................................\n",
      "[CV 2/5; 22/25] END ............................max_depth=43; total time=   0.7s\n",
      "[CV 3/5; 22/25] START max_depth=43..............................................\n",
      "[CV 3/5; 22/25] END ............................max_depth=43; total time=   0.6s\n",
      "[CV 4/5; 22/25] START max_depth=43..............................................\n",
      "[CV 4/5; 22/25] END ............................max_depth=43; total time=   0.6s\n",
      "[CV 5/5; 22/25] START max_depth=43..............................................\n",
      "[CV 5/5; 22/25] END ............................max_depth=43; total time=   0.6s\n",
      "[CV 1/5; 23/25] START max_depth=45..............................................\n",
      "[CV 1/5; 23/25] END ............................max_depth=45; total time=   0.6s\n",
      "[CV 2/5; 23/25] START max_depth=45..............................................\n",
      "[CV 2/5; 23/25] END ............................max_depth=45; total time=   0.7s\n",
      "[CV 3/5; 23/25] START max_depth=45..............................................\n",
      "[CV 3/5; 23/25] END ............................max_depth=45; total time=   0.6s\n",
      "[CV 4/5; 23/25] START max_depth=45..............................................\n",
      "[CV 4/5; 23/25] END ............................max_depth=45; total time=   0.6s\n",
      "[CV 5/5; 23/25] START max_depth=45..............................................\n",
      "[CV 5/5; 23/25] END ............................max_depth=45; total time=   0.6s\n",
      "[CV 1/5; 24/25] START max_depth=47..............................................\n",
      "[CV 1/5; 24/25] END ............................max_depth=47; total time=   0.6s\n",
      "[CV 2/5; 24/25] START max_depth=47..............................................\n",
      "[CV 2/5; 24/25] END ............................max_depth=47; total time=   0.6s\n",
      "[CV 3/5; 24/25] START max_depth=47..............................................\n",
      "[CV 3/5; 24/25] END ............................max_depth=47; total time=   0.6s\n",
      "[CV 4/5; 24/25] START max_depth=47..............................................\n",
      "[CV 4/5; 24/25] END ............................max_depth=47; total time=   0.6s\n",
      "[CV 5/5; 24/25] START max_depth=47..............................................\n",
      "[CV 5/5; 24/25] END ............................max_depth=47; total time=   0.7s\n",
      "[CV 1/5; 25/25] START max_depth=49..............................................\n",
      "[CV 1/5; 25/25] END ............................max_depth=49; total time=   0.7s\n",
      "[CV 2/5; 25/25] START max_depth=49..............................................\n",
      "[CV 2/5; 25/25] END ............................max_depth=49; total time=   0.8s\n",
      "[CV 3/5; 25/25] START max_depth=49..............................................\n",
      "[CV 3/5; 25/25] END ............................max_depth=49; total time=   0.7s\n",
      "[CV 4/5; 25/25] START max_depth=49..............................................\n",
      "[CV 4/5; 25/25] END ............................max_depth=49; total time=   0.7s\n",
      "[CV 5/5; 25/25] START max_depth=49..............................................\n",
      "[CV 5/5; 25/25] END ............................max_depth=49; total time=   0.6s\n"
     ]
    },
    {
     "data": {
      "text/plain": [
       "{'max_depth': 1}"
      ]
     },
     "metadata": {},
     "output_type": "display_data"
    }
   ],
   "source": [
    "#решающее дерево\n",
    "dt_grid_rougher = GridSearchCV(dt, dt_params, scoring = smape_score, verbose=10  )\n",
    "dt_grid_rougher.fit(features_train, target_train['rougher.output.recovery'])\n",
    "display(dt_grid_rougher.best_params_)\n",
    "\n",
    "dt_grid_final = GridSearchCV(dt, dt_params, scoring = smape_score, verbose=10  )\n",
    "dt_grid_final.fit(features_train, target_train['final.output.recovery'])\n",
    "display(dt_grid_final.best_params_)"
   ]
  },
  {
   "cell_type": "code",
   "execution_count": 33,
   "metadata": {},
   "outputs": [
    {
     "name": "stdout",
     "output_type": "stream",
     "text": [
      "Fitting 5 folds for each of 25 candidates, totalling 125 fits\n",
      "[CV 1/5; 1/25] START max_depth=1, n_estimators=1................................\n",
      "[CV 1/5; 1/25] END ..............max_depth=1, n_estimators=1; total time=   0.1s\n",
      "[CV 2/5; 1/25] START max_depth=1, n_estimators=1................................\n",
      "[CV 2/5; 1/25] END ..............max_depth=1, n_estimators=1; total time=   0.1s\n",
      "[CV 3/5; 1/25] START max_depth=1, n_estimators=1................................\n",
      "[CV 3/5; 1/25] END ..............max_depth=1, n_estimators=1; total time=   0.1s\n",
      "[CV 4/5; 1/25] START max_depth=1, n_estimators=1................................\n",
      "[CV 4/5; 1/25] END ..............max_depth=1, n_estimators=1; total time=   0.0s\n",
      "[CV 5/5; 1/25] START max_depth=1, n_estimators=1................................\n",
      "[CV 5/5; 1/25] END ..............max_depth=1, n_estimators=1; total time=   0.0s\n",
      "[CV 1/5; 2/25] START max_depth=1, n_estimators=3................................\n",
      "[CV 1/5; 2/25] END ..............max_depth=1, n_estimators=3; total time=   0.1s\n",
      "[CV 2/5; 2/25] START max_depth=1, n_estimators=3................................\n",
      "[CV 2/5; 2/25] END ..............max_depth=1, n_estimators=3; total time=   0.1s\n",
      "[CV 3/5; 2/25] START max_depth=1, n_estimators=3................................\n",
      "[CV 3/5; 2/25] END ..............max_depth=1, n_estimators=3; total time=   0.1s\n",
      "[CV 4/5; 2/25] START max_depth=1, n_estimators=3................................\n",
      "[CV 4/5; 2/25] END ..............max_depth=1, n_estimators=3; total time=   0.1s\n",
      "[CV 5/5; 2/25] START max_depth=1, n_estimators=3................................\n",
      "[CV 5/5; 2/25] END ..............max_depth=1, n_estimators=3; total time=   0.1s\n",
      "[CV 1/5; 3/25] START max_depth=1, n_estimators=5................................\n",
      "[CV 1/5; 3/25] END ..............max_depth=1, n_estimators=5; total time=   0.2s\n",
      "[CV 2/5; 3/25] START max_depth=1, n_estimators=5................................\n",
      "[CV 2/5; 3/25] END ..............max_depth=1, n_estimators=5; total time=   0.2s\n",
      "[CV 3/5; 3/25] START max_depth=1, n_estimators=5................................\n",
      "[CV 3/5; 3/25] END ..............max_depth=1, n_estimators=5; total time=   0.2s\n",
      "[CV 4/5; 3/25] START max_depth=1, n_estimators=5................................\n",
      "[CV 4/5; 3/25] END ..............max_depth=1, n_estimators=5; total time=   0.2s\n",
      "[CV 5/5; 3/25] START max_depth=1, n_estimators=5................................\n",
      "[CV 5/5; 3/25] END ..............max_depth=1, n_estimators=5; total time=   0.2s\n",
      "[CV 1/5; 4/25] START max_depth=1, n_estimators=7................................\n",
      "[CV 1/5; 4/25] END ..............max_depth=1, n_estimators=7; total time=   0.2s\n",
      "[CV 2/5; 4/25] START max_depth=1, n_estimators=7................................\n",
      "[CV 2/5; 4/25] END ..............max_depth=1, n_estimators=7; total time=   0.2s\n",
      "[CV 3/5; 4/25] START max_depth=1, n_estimators=7................................\n",
      "[CV 3/5; 4/25] END ..............max_depth=1, n_estimators=7; total time=   0.2s\n",
      "[CV 4/5; 4/25] START max_depth=1, n_estimators=7................................\n",
      "[CV 4/5; 4/25] END ..............max_depth=1, n_estimators=7; total time=   0.2s\n",
      "[CV 5/5; 4/25] START max_depth=1, n_estimators=7................................\n",
      "[CV 5/5; 4/25] END ..............max_depth=1, n_estimators=7; total time=   0.2s\n",
      "[CV 1/5; 5/25] START max_depth=1, n_estimators=9................................\n",
      "[CV 1/5; 5/25] END ..............max_depth=1, n_estimators=9; total time=   0.3s\n",
      "[CV 2/5; 5/25] START max_depth=1, n_estimators=9................................\n",
      "[CV 2/5; 5/25] END ..............max_depth=1, n_estimators=9; total time=   0.3s\n",
      "[CV 3/5; 5/25] START max_depth=1, n_estimators=9................................\n",
      "[CV 3/5; 5/25] END ..............max_depth=1, n_estimators=9; total time=   0.3s\n",
      "[CV 4/5; 5/25] START max_depth=1, n_estimators=9................................\n",
      "[CV 4/5; 5/25] END ..............max_depth=1, n_estimators=9; total time=   0.3s\n",
      "[CV 5/5; 5/25] START max_depth=1, n_estimators=9................................\n",
      "[CV 5/5; 5/25] END ..............max_depth=1, n_estimators=9; total time=   0.3s\n",
      "[CV 1/5; 6/25] START max_depth=3, n_estimators=1................................\n",
      "[CV 1/5; 6/25] END ..............max_depth=3, n_estimators=1; total time=   0.1s\n",
      "[CV 2/5; 6/25] START max_depth=3, n_estimators=1................................\n",
      "[CV 2/5; 6/25] END ..............max_depth=3, n_estimators=1; total time=   0.1s\n",
      "[CV 3/5; 6/25] START max_depth=3, n_estimators=1................................\n",
      "[CV 3/5; 6/25] END ..............max_depth=3, n_estimators=1; total time=   0.1s\n",
      "[CV 4/5; 6/25] START max_depth=3, n_estimators=1................................\n",
      "[CV 4/5; 6/25] END ..............max_depth=3, n_estimators=1; total time=   0.1s\n",
      "[CV 5/5; 6/25] START max_depth=3, n_estimators=1................................\n",
      "[CV 5/5; 6/25] END ..............max_depth=3, n_estimators=1; total time=   0.1s\n",
      "[CV 1/5; 7/25] START max_depth=3, n_estimators=3................................\n",
      "[CV 1/5; 7/25] END ..............max_depth=3, n_estimators=3; total time=   0.3s\n",
      "[CV 2/5; 7/25] START max_depth=3, n_estimators=3................................\n",
      "[CV 2/5; 7/25] END ..............max_depth=3, n_estimators=3; total time=   0.3s\n",
      "[CV 3/5; 7/25] START max_depth=3, n_estimators=3................................\n",
      "[CV 3/5; 7/25] END ..............max_depth=3, n_estimators=3; total time=   0.3s\n",
      "[CV 4/5; 7/25] START max_depth=3, n_estimators=3................................\n",
      "[CV 4/5; 7/25] END ..............max_depth=3, n_estimators=3; total time=   0.3s\n",
      "[CV 5/5; 7/25] START max_depth=3, n_estimators=3................................\n",
      "[CV 5/5; 7/25] END ..............max_depth=3, n_estimators=3; total time=   0.3s\n",
      "[CV 1/5; 8/25] START max_depth=3, n_estimators=5................................\n",
      "[CV 1/5; 8/25] END ..............max_depth=3, n_estimators=5; total time=   0.4s\n",
      "[CV 2/5; 8/25] START max_depth=3, n_estimators=5................................\n",
      "[CV 2/5; 8/25] END ..............max_depth=3, n_estimators=5; total time=   0.4s\n",
      "[CV 3/5; 8/25] START max_depth=3, n_estimators=5................................\n",
      "[CV 3/5; 8/25] END ..............max_depth=3, n_estimators=5; total time=   0.4s\n",
      "[CV 4/5; 8/25] START max_depth=3, n_estimators=5................................\n",
      "[CV 4/5; 8/25] END ..............max_depth=3, n_estimators=5; total time=   0.4s\n",
      "[CV 5/5; 8/25] START max_depth=3, n_estimators=5................................\n",
      "[CV 5/5; 8/25] END ..............max_depth=3, n_estimators=5; total time=   0.4s\n",
      "[CV 1/5; 9/25] START max_depth=3, n_estimators=7................................\n",
      "[CV 1/5; 9/25] END ..............max_depth=3, n_estimators=7; total time=   0.6s\n",
      "[CV 2/5; 9/25] START max_depth=3, n_estimators=7................................\n",
      "[CV 2/5; 9/25] END ..............max_depth=3, n_estimators=7; total time=   0.5s\n",
      "[CV 3/5; 9/25] START max_depth=3, n_estimators=7................................\n",
      "[CV 3/5; 9/25] END ..............max_depth=3, n_estimators=7; total time=   0.5s\n",
      "[CV 4/5; 9/25] START max_depth=3, n_estimators=7................................\n",
      "[CV 4/5; 9/25] END ..............max_depth=3, n_estimators=7; total time=   0.5s\n",
      "[CV 5/5; 9/25] START max_depth=3, n_estimators=7................................\n",
      "[CV 5/5; 9/25] END ..............max_depth=3, n_estimators=7; total time=   0.5s\n",
      "[CV 1/5; 10/25] START max_depth=3, n_estimators=9...............................\n",
      "[CV 1/5; 10/25] END .............max_depth=3, n_estimators=9; total time=   0.7s\n",
      "[CV 2/5; 10/25] START max_depth=3, n_estimators=9...............................\n",
      "[CV 2/5; 10/25] END .............max_depth=3, n_estimators=9; total time=   0.7s\n",
      "[CV 3/5; 10/25] START max_depth=3, n_estimators=9...............................\n",
      "[CV 3/5; 10/25] END .............max_depth=3, n_estimators=9; total time=   0.7s\n",
      "[CV 4/5; 10/25] START max_depth=3, n_estimators=9...............................\n",
      "[CV 4/5; 10/25] END .............max_depth=3, n_estimators=9; total time=   0.7s\n",
      "[CV 5/5; 10/25] START max_depth=3, n_estimators=9...............................\n",
      "[CV 5/5; 10/25] END .............max_depth=3, n_estimators=9; total time=   0.7s\n",
      "[CV 1/5; 11/25] START max_depth=5, n_estimators=1...............................\n",
      "[CV 1/5; 11/25] END .............max_depth=5, n_estimators=1; total time=   0.1s\n",
      "[CV 2/5; 11/25] START max_depth=5, n_estimators=1...............................\n",
      "[CV 2/5; 11/25] END .............max_depth=5, n_estimators=1; total time=   0.1s\n",
      "[CV 3/5; 11/25] START max_depth=5, n_estimators=1...............................\n",
      "[CV 3/5; 11/25] END .............max_depth=5, n_estimators=1; total time=   0.1s\n",
      "[CV 4/5; 11/25] START max_depth=5, n_estimators=1...............................\n",
      "[CV 4/5; 11/25] END .............max_depth=5, n_estimators=1; total time=   0.1s\n",
      "[CV 5/5; 11/25] START max_depth=5, n_estimators=1...............................\n",
      "[CV 5/5; 11/25] END .............max_depth=5, n_estimators=1; total time=   0.1s\n",
      "[CV 1/5; 12/25] START max_depth=5, n_estimators=3...............................\n",
      "[CV 1/5; 12/25] END .............max_depth=5, n_estimators=3; total time=   0.4s\n",
      "[CV 2/5; 12/25] START max_depth=5, n_estimators=3...............................\n",
      "[CV 2/5; 12/25] END .............max_depth=5, n_estimators=3; total time=   0.4s\n",
      "[CV 3/5; 12/25] START max_depth=5, n_estimators=3...............................\n",
      "[CV 3/5; 12/25] END .............max_depth=5, n_estimators=3; total time=   0.4s\n",
      "[CV 4/5; 12/25] START max_depth=5, n_estimators=3...............................\n",
      "[CV 4/5; 12/25] END .............max_depth=5, n_estimators=3; total time=   0.4s\n",
      "[CV 5/5; 12/25] START max_depth=5, n_estimators=3...............................\n",
      "[CV 5/5; 12/25] END .............max_depth=5, n_estimators=3; total time=   0.4s\n",
      "[CV 1/5; 13/25] START max_depth=5, n_estimators=5...............................\n",
      "[CV 1/5; 13/25] END .............max_depth=5, n_estimators=5; total time=   0.6s\n",
      "[CV 2/5; 13/25] START max_depth=5, n_estimators=5...............................\n",
      "[CV 2/5; 13/25] END .............max_depth=5, n_estimators=5; total time=   0.6s\n",
      "[CV 3/5; 13/25] START max_depth=5, n_estimators=5...............................\n",
      "[CV 3/5; 13/25] END .............max_depth=5, n_estimators=5; total time=   0.7s\n",
      "[CV 4/5; 13/25] START max_depth=5, n_estimators=5...............................\n",
      "[CV 4/5; 13/25] END .............max_depth=5, n_estimators=5; total time=   0.6s\n",
      "[CV 5/5; 13/25] START max_depth=5, n_estimators=5...............................\n",
      "[CV 5/5; 13/25] END .............max_depth=5, n_estimators=5; total time=   0.6s\n",
      "[CV 1/5; 14/25] START max_depth=5, n_estimators=7...............................\n",
      "[CV 1/5; 14/25] END .............max_depth=5, n_estimators=7; total time=   0.8s\n",
      "[CV 2/5; 14/25] START max_depth=5, n_estimators=7...............................\n",
      "[CV 2/5; 14/25] END .............max_depth=5, n_estimators=7; total time=   0.9s\n",
      "[CV 3/5; 14/25] START max_depth=5, n_estimators=7...............................\n",
      "[CV 3/5; 14/25] END .............max_depth=5, n_estimators=7; total time=   0.8s\n",
      "[CV 4/5; 14/25] START max_depth=5, n_estimators=7...............................\n",
      "[CV 4/5; 14/25] END .............max_depth=5, n_estimators=7; total time=   0.8s\n",
      "[CV 5/5; 14/25] START max_depth=5, n_estimators=7...............................\n",
      "[CV 5/5; 14/25] END .............max_depth=5, n_estimators=7; total time=   0.8s\n",
      "[CV 1/5; 15/25] START max_depth=5, n_estimators=9...............................\n",
      "[CV 1/5; 15/25] END .............max_depth=5, n_estimators=9; total time=   1.1s\n",
      "[CV 2/5; 15/25] START max_depth=5, n_estimators=9...............................\n",
      "[CV 2/5; 15/25] END .............max_depth=5, n_estimators=9; total time=   1.1s\n",
      "[CV 3/5; 15/25] START max_depth=5, n_estimators=9...............................\n",
      "[CV 3/5; 15/25] END .............max_depth=5, n_estimators=9; total time=   1.1s\n",
      "[CV 4/5; 15/25] START max_depth=5, n_estimators=9...............................\n",
      "[CV 4/5; 15/25] END .............max_depth=5, n_estimators=9; total time=   1.1s\n",
      "[CV 5/5; 15/25] START max_depth=5, n_estimators=9...............................\n",
      "[CV 5/5; 15/25] END .............max_depth=5, n_estimators=9; total time=   1.1s\n",
      "[CV 1/5; 16/25] START max_depth=7, n_estimators=1...............................\n",
      "[CV 1/5; 16/25] END .............max_depth=7, n_estimators=1; total time=   0.2s\n",
      "[CV 2/5; 16/25] START max_depth=7, n_estimators=1...............................\n",
      "[CV 2/5; 16/25] END .............max_depth=7, n_estimators=1; total time=   0.2s\n",
      "[CV 3/5; 16/25] START max_depth=7, n_estimators=1...............................\n",
      "[CV 3/5; 16/25] END .............max_depth=7, n_estimators=1; total time=   0.2s\n",
      "[CV 4/5; 16/25] START max_depth=7, n_estimators=1...............................\n",
      "[CV 4/5; 16/25] END .............max_depth=7, n_estimators=1; total time=   0.2s\n",
      "[CV 5/5; 16/25] START max_depth=7, n_estimators=1...............................\n",
      "[CV 5/5; 16/25] END .............max_depth=7, n_estimators=1; total time=   0.2s\n",
      "[CV 1/5; 17/25] START max_depth=7, n_estimators=3...............................\n",
      "[CV 1/5; 17/25] END .............max_depth=7, n_estimators=3; total time=   0.5s\n",
      "[CV 2/5; 17/25] START max_depth=7, n_estimators=3...............................\n",
      "[CV 2/5; 17/25] END .............max_depth=7, n_estimators=3; total time=   0.5s\n",
      "[CV 3/5; 17/25] START max_depth=7, n_estimators=3...............................\n",
      "[CV 3/5; 17/25] END .............max_depth=7, n_estimators=3; total time=   0.5s\n",
      "[CV 4/5; 17/25] START max_depth=7, n_estimators=3...............................\n",
      "[CV 4/5; 17/25] END .............max_depth=7, n_estimators=3; total time=   0.5s\n",
      "[CV 5/5; 17/25] START max_depth=7, n_estimators=3...............................\n",
      "[CV 5/5; 17/25] END .............max_depth=7, n_estimators=3; total time=   0.5s\n",
      "[CV 1/5; 18/25] START max_depth=7, n_estimators=5...............................\n",
      "[CV 1/5; 18/25] END .............max_depth=7, n_estimators=5; total time=   0.8s\n",
      "[CV 2/5; 18/25] START max_depth=7, n_estimators=5...............................\n",
      "[CV 2/5; 18/25] END .............max_depth=7, n_estimators=5; total time=   0.8s\n",
      "[CV 3/5; 18/25] START max_depth=7, n_estimators=5...............................\n",
      "[CV 3/5; 18/25] END .............max_depth=7, n_estimators=5; total time=   0.8s\n",
      "[CV 4/5; 18/25] START max_depth=7, n_estimators=5...............................\n",
      "[CV 4/5; 18/25] END .............max_depth=7, n_estimators=5; total time=   0.8s\n",
      "[CV 5/5; 18/25] START max_depth=7, n_estimators=5...............................\n",
      "[CV 5/5; 18/25] END .............max_depth=7, n_estimators=5; total time=   0.8s\n",
      "[CV 1/5; 19/25] START max_depth=7, n_estimators=7...............................\n",
      "[CV 1/5; 19/25] END .............max_depth=7, n_estimators=7; total time=   1.1s\n",
      "[CV 2/5; 19/25] START max_depth=7, n_estimators=7...............................\n",
      "[CV 2/5; 19/25] END .............max_depth=7, n_estimators=7; total time=   1.2s\n",
      "[CV 3/5; 19/25] START max_depth=7, n_estimators=7...............................\n",
      "[CV 3/5; 19/25] END .............max_depth=7, n_estimators=7; total time=   1.1s\n",
      "[CV 4/5; 19/25] START max_depth=7, n_estimators=7...............................\n",
      "[CV 4/5; 19/25] END .............max_depth=7, n_estimators=7; total time=   1.1s\n",
      "[CV 5/5; 19/25] START max_depth=7, n_estimators=7...............................\n",
      "[CV 5/5; 19/25] END .............max_depth=7, n_estimators=7; total time=   1.1s\n",
      "[CV 1/5; 20/25] START max_depth=7, n_estimators=9...............................\n",
      "[CV 1/5; 20/25] END .............max_depth=7, n_estimators=9; total time=   1.4s\n",
      "[CV 2/5; 20/25] START max_depth=7, n_estimators=9...............................\n",
      "[CV 2/5; 20/25] END .............max_depth=7, n_estimators=9; total time=   1.4s\n",
      "[CV 3/5; 20/25] START max_depth=7, n_estimators=9...............................\n",
      "[CV 3/5; 20/25] END .............max_depth=7, n_estimators=9; total time=   1.4s\n",
      "[CV 4/5; 20/25] START max_depth=7, n_estimators=9...............................\n",
      "[CV 4/5; 20/25] END .............max_depth=7, n_estimators=9; total time=   1.4s\n",
      "[CV 5/5; 20/25] START max_depth=7, n_estimators=9...............................\n",
      "[CV 5/5; 20/25] END .............max_depth=7, n_estimators=9; total time=   1.5s\n",
      "[CV 1/5; 21/25] START max_depth=9, n_estimators=1...............................\n",
      "[CV 1/5; 21/25] END .............max_depth=9, n_estimators=1; total time=   0.2s\n",
      "[CV 2/5; 21/25] START max_depth=9, n_estimators=1...............................\n",
      "[CV 2/5; 21/25] END .............max_depth=9, n_estimators=1; total time=   0.2s\n",
      "[CV 3/5; 21/25] START max_depth=9, n_estimators=1...............................\n",
      "[CV 3/5; 21/25] END .............max_depth=9, n_estimators=1; total time=   0.2s\n",
      "[CV 4/5; 21/25] START max_depth=9, n_estimators=1...............................\n",
      "[CV 4/5; 21/25] END .............max_depth=9, n_estimators=1; total time=   0.2s\n",
      "[CV 5/5; 21/25] START max_depth=9, n_estimators=1...............................\n",
      "[CV 5/5; 21/25] END .............max_depth=9, n_estimators=1; total time=   0.2s\n",
      "[CV 1/5; 22/25] START max_depth=9, n_estimators=3...............................\n",
      "[CV 1/5; 22/25] END .............max_depth=9, n_estimators=3; total time=   0.6s\n",
      "[CV 2/5; 22/25] START max_depth=9, n_estimators=3...............................\n",
      "[CV 2/5; 22/25] END .............max_depth=9, n_estimators=3; total time=   0.6s\n",
      "[CV 3/5; 22/25] START max_depth=9, n_estimators=3...............................\n",
      "[CV 3/5; 22/25] END .............max_depth=9, n_estimators=3; total time=   0.6s\n",
      "[CV 4/5; 22/25] START max_depth=9, n_estimators=3...............................\n",
      "[CV 4/5; 22/25] END .............max_depth=9, n_estimators=3; total time=   0.6s\n",
      "[CV 5/5; 22/25] START max_depth=9, n_estimators=3...............................\n",
      "[CV 5/5; 22/25] END .............max_depth=9, n_estimators=3; total time=   0.6s\n",
      "[CV 1/5; 23/25] START max_depth=9, n_estimators=5...............................\n",
      "[CV 1/5; 23/25] END .............max_depth=9, n_estimators=5; total time=   1.0s\n",
      "[CV 2/5; 23/25] START max_depth=9, n_estimators=5...............................\n",
      "[CV 2/5; 23/25] END .............max_depth=9, n_estimators=5; total time=   1.0s\n",
      "[CV 3/5; 23/25] START max_depth=9, n_estimators=5...............................\n",
      "[CV 3/5; 23/25] END .............max_depth=9, n_estimators=5; total time=   1.0s\n",
      "[CV 4/5; 23/25] START max_depth=9, n_estimators=5...............................\n",
      "[CV 4/5; 23/25] END .............max_depth=9, n_estimators=5; total time=   1.0s\n",
      "[CV 5/5; 23/25] START max_depth=9, n_estimators=5...............................\n",
      "[CV 5/5; 23/25] END .............max_depth=9, n_estimators=5; total time=   1.2s\n",
      "[CV 1/5; 24/25] START max_depth=9, n_estimators=7...............................\n",
      "[CV 1/5; 24/25] END .............max_depth=9, n_estimators=7; total time=   1.5s\n",
      "[CV 2/5; 24/25] START max_depth=9, n_estimators=7...............................\n",
      "[CV 2/5; 24/25] END .............max_depth=9, n_estimators=7; total time=   1.5s\n",
      "[CV 3/5; 24/25] START max_depth=9, n_estimators=7...............................\n",
      "[CV 3/5; 24/25] END .............max_depth=9, n_estimators=7; total time=   1.3s\n",
      "[CV 4/5; 24/25] START max_depth=9, n_estimators=7...............................\n",
      "[CV 4/5; 24/25] END .............max_depth=9, n_estimators=7; total time=   1.4s\n",
      "[CV 5/5; 24/25] START max_depth=9, n_estimators=7...............................\n",
      "[CV 5/5; 24/25] END .............max_depth=9, n_estimators=7; total time=   1.3s\n",
      "[CV 1/5; 25/25] START max_depth=9, n_estimators=9...............................\n",
      "[CV 1/5; 25/25] END .............max_depth=9, n_estimators=9; total time=   1.7s\n",
      "[CV 2/5; 25/25] START max_depth=9, n_estimators=9...............................\n",
      "[CV 2/5; 25/25] END .............max_depth=9, n_estimators=9; total time=   1.8s\n",
      "[CV 3/5; 25/25] START max_depth=9, n_estimators=9...............................\n",
      "[CV 3/5; 25/25] END .............max_depth=9, n_estimators=9; total time=   1.7s\n",
      "[CV 4/5; 25/25] START max_depth=9, n_estimators=9...............................\n",
      "[CV 4/5; 25/25] END .............max_depth=9, n_estimators=9; total time=   1.7s\n",
      "[CV 5/5; 25/25] START max_depth=9, n_estimators=9...............................\n",
      "[CV 5/5; 25/25] END .............max_depth=9, n_estimators=9; total time=   1.7s\n"
     ]
    },
    {
     "data": {
      "text/plain": [
       "{'max_depth': 9, 'n_estimators': 9}"
      ]
     },
     "metadata": {},
     "output_type": "display_data"
    },
    {
     "name": "stdout",
     "output_type": "stream",
     "text": [
      "Fitting 5 folds for each of 25 candidates, totalling 125 fits\n",
      "[CV 1/5; 1/25] START max_depth=1, n_estimators=1................................\n",
      "[CV 1/5; 1/25] END ..............max_depth=1, n_estimators=1; total time=   0.0s\n",
      "[CV 2/5; 1/25] START max_depth=1, n_estimators=1................................\n",
      "[CV 2/5; 1/25] END ..............max_depth=1, n_estimators=1; total time=   0.0s\n",
      "[CV 3/5; 1/25] START max_depth=1, n_estimators=1................................\n",
      "[CV 3/5; 1/25] END ..............max_depth=1, n_estimators=1; total time=   0.0s\n",
      "[CV 4/5; 1/25] START max_depth=1, n_estimators=1................................\n",
      "[CV 4/5; 1/25] END ..............max_depth=1, n_estimators=1; total time=   0.0s\n",
      "[CV 5/5; 1/25] START max_depth=1, n_estimators=1................................\n",
      "[CV 5/5; 1/25] END ..............max_depth=1, n_estimators=1; total time=   0.0s\n",
      "[CV 1/5; 2/25] START max_depth=1, n_estimators=3................................\n",
      "[CV 1/5; 2/25] END ..............max_depth=1, n_estimators=3; total time=   0.1s\n",
      "[CV 2/5; 2/25] START max_depth=1, n_estimators=3................................\n",
      "[CV 2/5; 2/25] END ..............max_depth=1, n_estimators=3; total time=   0.1s\n",
      "[CV 3/5; 2/25] START max_depth=1, n_estimators=3................................\n",
      "[CV 3/5; 2/25] END ..............max_depth=1, n_estimators=3; total time=   0.1s\n",
      "[CV 4/5; 2/25] START max_depth=1, n_estimators=3................................\n",
      "[CV 4/5; 2/25] END ..............max_depth=1, n_estimators=3; total time=   0.1s\n",
      "[CV 5/5; 2/25] START max_depth=1, n_estimators=3................................\n",
      "[CV 5/5; 2/25] END ..............max_depth=1, n_estimators=3; total time=   0.1s\n",
      "[CV 1/5; 3/25] START max_depth=1, n_estimators=5................................\n",
      "[CV 1/5; 3/25] END ..............max_depth=1, n_estimators=5; total time=   0.2s\n",
      "[CV 2/5; 3/25] START max_depth=1, n_estimators=5................................\n",
      "[CV 2/5; 3/25] END ..............max_depth=1, n_estimators=5; total time=   0.2s\n",
      "[CV 3/5; 3/25] START max_depth=1, n_estimators=5................................\n",
      "[CV 3/5; 3/25] END ..............max_depth=1, n_estimators=5; total time=   0.2s\n",
      "[CV 4/5; 3/25] START max_depth=1, n_estimators=5................................\n",
      "[CV 4/5; 3/25] END ..............max_depth=1, n_estimators=5; total time=   0.1s\n",
      "[CV 5/5; 3/25] START max_depth=1, n_estimators=5................................\n",
      "[CV 5/5; 3/25] END ..............max_depth=1, n_estimators=5; total time=   0.1s\n",
      "[CV 1/5; 4/25] START max_depth=1, n_estimators=7................................\n",
      "[CV 1/5; 4/25] END ..............max_depth=1, n_estimators=7; total time=   0.2s\n",
      "[CV 2/5; 4/25] START max_depth=1, n_estimators=7................................\n",
      "[CV 2/5; 4/25] END ..............max_depth=1, n_estimators=7; total time=   0.2s\n",
      "[CV 3/5; 4/25] START max_depth=1, n_estimators=7................................\n",
      "[CV 3/5; 4/25] END ..............max_depth=1, n_estimators=7; total time=   0.2s\n",
      "[CV 4/5; 4/25] START max_depth=1, n_estimators=7................................\n",
      "[CV 4/5; 4/25] END ..............max_depth=1, n_estimators=7; total time=   0.2s\n",
      "[CV 5/5; 4/25] START max_depth=1, n_estimators=7................................\n",
      "[CV 5/5; 4/25] END ..............max_depth=1, n_estimators=7; total time=   0.2s\n",
      "[CV 1/5; 5/25] START max_depth=1, n_estimators=9................................\n",
      "[CV 1/5; 5/25] END ..............max_depth=1, n_estimators=9; total time=   0.3s\n",
      "[CV 2/5; 5/25] START max_depth=1, n_estimators=9................................\n",
      "[CV 2/5; 5/25] END ..............max_depth=1, n_estimators=9; total time=   0.3s\n",
      "[CV 3/5; 5/25] START max_depth=1, n_estimators=9................................\n",
      "[CV 3/5; 5/25] END ..............max_depth=1, n_estimators=9; total time=   0.3s\n",
      "[CV 4/5; 5/25] START max_depth=1, n_estimators=9................................\n",
      "[CV 4/5; 5/25] END ..............max_depth=1, n_estimators=9; total time=   0.3s\n",
      "[CV 5/5; 5/25] START max_depth=1, n_estimators=9................................\n",
      "[CV 5/5; 5/25] END ..............max_depth=1, n_estimators=9; total time=   0.3s\n",
      "[CV 1/5; 6/25] START max_depth=3, n_estimators=1................................\n",
      "[CV 1/5; 6/25] END ..............max_depth=3, n_estimators=1; total time=   0.1s\n",
      "[CV 2/5; 6/25] START max_depth=3, n_estimators=1................................\n",
      "[CV 2/5; 6/25] END ..............max_depth=3, n_estimators=1; total time=   0.1s\n",
      "[CV 3/5; 6/25] START max_depth=3, n_estimators=1................................\n",
      "[CV 3/5; 6/25] END ..............max_depth=3, n_estimators=1; total time=   0.1s\n",
      "[CV 4/5; 6/25] START max_depth=3, n_estimators=1................................\n",
      "[CV 4/5; 6/25] END ..............max_depth=3, n_estimators=1; total time=   0.1s\n",
      "[CV 5/5; 6/25] START max_depth=3, n_estimators=1................................\n",
      "[CV 5/5; 6/25] END ..............max_depth=3, n_estimators=1; total time=   0.1s\n",
      "[CV 1/5; 7/25] START max_depth=3, n_estimators=3................................\n",
      "[CV 1/5; 7/25] END ..............max_depth=3, n_estimators=3; total time=   0.3s\n",
      "[CV 2/5; 7/25] START max_depth=3, n_estimators=3................................\n",
      "[CV 2/5; 7/25] END ..............max_depth=3, n_estimators=3; total time=   0.2s\n",
      "[CV 3/5; 7/25] START max_depth=3, n_estimators=3................................\n",
      "[CV 3/5; 7/25] END ..............max_depth=3, n_estimators=3; total time=   0.2s\n",
      "[CV 4/5; 7/25] START max_depth=3, n_estimators=3................................\n",
      "[CV 4/5; 7/25] END ..............max_depth=3, n_estimators=3; total time=   0.2s\n",
      "[CV 5/5; 7/25] START max_depth=3, n_estimators=3................................\n",
      "[CV 5/5; 7/25] END ..............max_depth=3, n_estimators=3; total time=   0.2s\n",
      "[CV 1/5; 8/25] START max_depth=3, n_estimators=5................................\n",
      "[CV 1/5; 8/25] END ..............max_depth=3, n_estimators=5; total time=   0.4s\n",
      "[CV 2/5; 8/25] START max_depth=3, n_estimators=5................................\n",
      "[CV 2/5; 8/25] END ..............max_depth=3, n_estimators=5; total time=   0.4s\n",
      "[CV 3/5; 8/25] START max_depth=3, n_estimators=5................................\n",
      "[CV 3/5; 8/25] END ..............max_depth=3, n_estimators=5; total time=   0.4s\n",
      "[CV 4/5; 8/25] START max_depth=3, n_estimators=5................................\n",
      "[CV 4/5; 8/25] END ..............max_depth=3, n_estimators=5; total time=   0.4s\n",
      "[CV 5/5; 8/25] START max_depth=3, n_estimators=5................................\n",
      "[CV 5/5; 8/25] END ..............max_depth=3, n_estimators=5; total time=   0.4s\n",
      "[CV 1/5; 9/25] START max_depth=3, n_estimators=7................................\n",
      "[CV 1/5; 9/25] END ..............max_depth=3, n_estimators=7; total time=   0.5s\n",
      "[CV 2/5; 9/25] START max_depth=3, n_estimators=7................................\n",
      "[CV 2/5; 9/25] END ..............max_depth=3, n_estimators=7; total time=   0.5s\n",
      "[CV 3/5; 9/25] START max_depth=3, n_estimators=7................................\n",
      "[CV 3/5; 9/25] END ..............max_depth=3, n_estimators=7; total time=   0.5s\n",
      "[CV 4/5; 9/25] START max_depth=3, n_estimators=7................................\n",
      "[CV 4/5; 9/25] END ..............max_depth=3, n_estimators=7; total time=   0.5s\n",
      "[CV 5/5; 9/25] START max_depth=3, n_estimators=7................................\n",
      "[CV 5/5; 9/25] END ..............max_depth=3, n_estimators=7; total time=   0.5s\n",
      "[CV 1/5; 10/25] START max_depth=3, n_estimators=9...............................\n",
      "[CV 1/5; 10/25] END .............max_depth=3, n_estimators=9; total time=   0.7s\n",
      "[CV 2/5; 10/25] START max_depth=3, n_estimators=9...............................\n",
      "[CV 2/5; 10/25] END .............max_depth=3, n_estimators=9; total time=   0.7s\n",
      "[CV 3/5; 10/25] START max_depth=3, n_estimators=9...............................\n",
      "[CV 3/5; 10/25] END .............max_depth=3, n_estimators=9; total time=   0.7s\n",
      "[CV 4/5; 10/25] START max_depth=3, n_estimators=9...............................\n",
      "[CV 4/5; 10/25] END .............max_depth=3, n_estimators=9; total time=   0.7s\n",
      "[CV 5/5; 10/25] START max_depth=3, n_estimators=9...............................\n",
      "[CV 5/5; 10/25] END .............max_depth=3, n_estimators=9; total time=   0.7s\n",
      "[CV 1/5; 11/25] START max_depth=5, n_estimators=1...............................\n",
      "[CV 1/5; 11/25] END .............max_depth=5, n_estimators=1; total time=   0.1s\n",
      "[CV 2/5; 11/25] START max_depth=5, n_estimators=1...............................\n",
      "[CV 2/5; 11/25] END .............max_depth=5, n_estimators=1; total time=   0.1s\n",
      "[CV 3/5; 11/25] START max_depth=5, n_estimators=1...............................\n",
      "[CV 3/5; 11/25] END .............max_depth=5, n_estimators=1; total time=   0.1s\n",
      "[CV 4/5; 11/25] START max_depth=5, n_estimators=1...............................\n",
      "[CV 4/5; 11/25] END .............max_depth=5, n_estimators=1; total time=   0.1s\n",
      "[CV 5/5; 11/25] START max_depth=5, n_estimators=1...............................\n",
      "[CV 5/5; 11/25] END .............max_depth=5, n_estimators=1; total time=   0.1s\n",
      "[CV 1/5; 12/25] START max_depth=5, n_estimators=3...............................\n",
      "[CV 1/5; 12/25] END .............max_depth=5, n_estimators=3; total time=   0.4s\n",
      "[CV 2/5; 12/25] START max_depth=5, n_estimators=3...............................\n",
      "[CV 2/5; 12/25] END .............max_depth=5, n_estimators=3; total time=   0.4s\n",
      "[CV 3/5; 12/25] START max_depth=5, n_estimators=3...............................\n",
      "[CV 3/5; 12/25] END .............max_depth=5, n_estimators=3; total time=   0.4s\n",
      "[CV 4/5; 12/25] START max_depth=5, n_estimators=3...............................\n",
      "[CV 4/5; 12/25] END .............max_depth=5, n_estimators=3; total time=   0.4s\n",
      "[CV 5/5; 12/25] START max_depth=5, n_estimators=3...............................\n",
      "[CV 5/5; 12/25] END .............max_depth=5, n_estimators=3; total time=   0.4s\n",
      "[CV 1/5; 13/25] START max_depth=5, n_estimators=5...............................\n",
      "[CV 1/5; 13/25] END .............max_depth=5, n_estimators=5; total time=   0.6s\n",
      "[CV 2/5; 13/25] START max_depth=5, n_estimators=5...............................\n",
      "[CV 2/5; 13/25] END .............max_depth=5, n_estimators=5; total time=   0.6s\n",
      "[CV 3/5; 13/25] START max_depth=5, n_estimators=5...............................\n",
      "[CV 3/5; 13/25] END .............max_depth=5, n_estimators=5; total time=   0.6s\n",
      "[CV 4/5; 13/25] START max_depth=5, n_estimators=5...............................\n",
      "[CV 4/5; 13/25] END .............max_depth=5, n_estimators=5; total time=   0.6s\n",
      "[CV 5/5; 13/25] START max_depth=5, n_estimators=5...............................\n",
      "[CV 5/5; 13/25] END .............max_depth=5, n_estimators=5; total time=   0.6s\n",
      "[CV 1/5; 14/25] START max_depth=5, n_estimators=7...............................\n",
      "[CV 1/5; 14/25] END .............max_depth=5, n_estimators=7; total time=   0.8s\n",
      "[CV 2/5; 14/25] START max_depth=5, n_estimators=7...............................\n",
      "[CV 2/5; 14/25] END .............max_depth=5, n_estimators=7; total time=   0.8s\n",
      "[CV 3/5; 14/25] START max_depth=5, n_estimators=7...............................\n",
      "[CV 3/5; 14/25] END .............max_depth=5, n_estimators=7; total time=   0.9s\n",
      "[CV 4/5; 14/25] START max_depth=5, n_estimators=7...............................\n",
      "[CV 4/5; 14/25] END .............max_depth=5, n_estimators=7; total time=   0.9s\n",
      "[CV 5/5; 14/25] START max_depth=5, n_estimators=7...............................\n",
      "[CV 5/5; 14/25] END .............max_depth=5, n_estimators=7; total time=   0.9s\n",
      "[CV 1/5; 15/25] START max_depth=5, n_estimators=9...............................\n",
      "[CV 1/5; 15/25] END .............max_depth=5, n_estimators=9; total time=   1.1s\n",
      "[CV 2/5; 15/25] START max_depth=5, n_estimators=9...............................\n",
      "[CV 2/5; 15/25] END .............max_depth=5, n_estimators=9; total time=   1.1s\n",
      "[CV 3/5; 15/25] START max_depth=5, n_estimators=9...............................\n",
      "[CV 3/5; 15/25] END .............max_depth=5, n_estimators=9; total time=   1.1s\n",
      "[CV 4/5; 15/25] START max_depth=5, n_estimators=9...............................\n",
      "[CV 4/5; 15/25] END .............max_depth=5, n_estimators=9; total time=   1.1s\n",
      "[CV 5/5; 15/25] START max_depth=5, n_estimators=9...............................\n",
      "[CV 5/5; 15/25] END .............max_depth=5, n_estimators=9; total time=   1.1s\n",
      "[CV 1/5; 16/25] START max_depth=7, n_estimators=1...............................\n",
      "[CV 1/5; 16/25] END .............max_depth=7, n_estimators=1; total time=   0.2s\n",
      "[CV 2/5; 16/25] START max_depth=7, n_estimators=1...............................\n",
      "[CV 2/5; 16/25] END .............max_depth=7, n_estimators=1; total time=   0.2s\n",
      "[CV 3/5; 16/25] START max_depth=7, n_estimators=1...............................\n",
      "[CV 3/5; 16/25] END .............max_depth=7, n_estimators=1; total time=   0.2s\n",
      "[CV 4/5; 16/25] START max_depth=7, n_estimators=1...............................\n",
      "[CV 4/5; 16/25] END .............max_depth=7, n_estimators=1; total time=   0.2s\n",
      "[CV 5/5; 16/25] START max_depth=7, n_estimators=1...............................\n",
      "[CV 5/5; 16/25] END .............max_depth=7, n_estimators=1; total time=   0.2s\n",
      "[CV 1/5; 17/25] START max_depth=7, n_estimators=3...............................\n",
      "[CV 1/5; 17/25] END .............max_depth=7, n_estimators=3; total time=   0.5s\n",
      "[CV 2/5; 17/25] START max_depth=7, n_estimators=3...............................\n",
      "[CV 2/5; 17/25] END .............max_depth=7, n_estimators=3; total time=   0.5s\n",
      "[CV 3/5; 17/25] START max_depth=7, n_estimators=3...............................\n",
      "[CV 3/5; 17/25] END .............max_depth=7, n_estimators=3; total time=   0.5s\n",
      "[CV 4/5; 17/25] START max_depth=7, n_estimators=3...............................\n",
      "[CV 4/5; 17/25] END .............max_depth=7, n_estimators=3; total time=   0.5s\n",
      "[CV 5/5; 17/25] START max_depth=7, n_estimators=3...............................\n",
      "[CV 5/5; 17/25] END .............max_depth=7, n_estimators=3; total time=   0.5s\n",
      "[CV 1/5; 18/25] START max_depth=7, n_estimators=5...............................\n",
      "[CV 1/5; 18/25] END .............max_depth=7, n_estimators=5; total time=   0.8s\n",
      "[CV 2/5; 18/25] START max_depth=7, n_estimators=5...............................\n",
      "[CV 2/5; 18/25] END .............max_depth=7, n_estimators=5; total time=   0.9s\n",
      "[CV 3/5; 18/25] START max_depth=7, n_estimators=5...............................\n",
      "[CV 3/5; 18/25] END .............max_depth=7, n_estimators=5; total time=   0.9s\n",
      "[CV 4/5; 18/25] START max_depth=7, n_estimators=5...............................\n",
      "[CV 4/5; 18/25] END .............max_depth=7, n_estimators=5; total time=   0.8s\n",
      "[CV 5/5; 18/25] START max_depth=7, n_estimators=5...............................\n",
      "[CV 5/5; 18/25] END .............max_depth=7, n_estimators=5; total time=   0.8s\n",
      "[CV 1/5; 19/25] START max_depth=7, n_estimators=7...............................\n",
      "[CV 1/5; 19/25] END .............max_depth=7, n_estimators=7; total time=   1.1s\n",
      "[CV 2/5; 19/25] START max_depth=7, n_estimators=7...............................\n",
      "[CV 2/5; 19/25] END .............max_depth=7, n_estimators=7; total time=   1.1s\n",
      "[CV 3/5; 19/25] START max_depth=7, n_estimators=7...............................\n",
      "[CV 3/5; 19/25] END .............max_depth=7, n_estimators=7; total time=   1.2s\n",
      "[CV 4/5; 19/25] START max_depth=7, n_estimators=7...............................\n",
      "[CV 4/5; 19/25] END .............max_depth=7, n_estimators=7; total time=   1.3s\n",
      "[CV 5/5; 19/25] START max_depth=7, n_estimators=7...............................\n",
      "[CV 5/5; 19/25] END .............max_depth=7, n_estimators=7; total time=   1.3s\n",
      "[CV 1/5; 20/25] START max_depth=7, n_estimators=9...............................\n",
      "[CV 1/5; 20/25] END .............max_depth=7, n_estimators=9; total time=   1.6s\n",
      "[CV 2/5; 20/25] START max_depth=7, n_estimators=9...............................\n",
      "[CV 2/5; 20/25] END .............max_depth=7, n_estimators=9; total time=   1.5s\n",
      "[CV 3/5; 20/25] START max_depth=7, n_estimators=9...............................\n",
      "[CV 3/5; 20/25] END .............max_depth=7, n_estimators=9; total time=   1.7s\n",
      "[CV 4/5; 20/25] START max_depth=7, n_estimators=9...............................\n",
      "[CV 4/5; 20/25] END .............max_depth=7, n_estimators=9; total time=   1.7s\n",
      "[CV 5/5; 20/25] START max_depth=7, n_estimators=9...............................\n",
      "[CV 5/5; 20/25] END .............max_depth=7, n_estimators=9; total time=   1.6s\n",
      "[CV 1/5; 21/25] START max_depth=9, n_estimators=1...............................\n",
      "[CV 1/5; 21/25] END .............max_depth=9, n_estimators=1; total time=   0.2s\n",
      "[CV 2/5; 21/25] START max_depth=9, n_estimators=1...............................\n",
      "[CV 2/5; 21/25] END .............max_depth=9, n_estimators=1; total time=   0.2s\n",
      "[CV 3/5; 21/25] START max_depth=9, n_estimators=1...............................\n",
      "[CV 3/5; 21/25] END .............max_depth=9, n_estimators=1; total time=   0.2s\n",
      "[CV 4/5; 21/25] START max_depth=9, n_estimators=1...............................\n",
      "[CV 4/5; 21/25] END .............max_depth=9, n_estimators=1; total time=   0.2s\n",
      "[CV 5/5; 21/25] START max_depth=9, n_estimators=1...............................\n",
      "[CV 5/5; 21/25] END .............max_depth=9, n_estimators=1; total time=   0.3s\n",
      "[CV 1/5; 22/25] START max_depth=9, n_estimators=3...............................\n",
      "[CV 1/5; 22/25] END .............max_depth=9, n_estimators=3; total time=   0.8s\n",
      "[CV 2/5; 22/25] START max_depth=9, n_estimators=3...............................\n",
      "[CV 2/5; 22/25] END .............max_depth=9, n_estimators=3; total time=   0.7s\n",
      "[CV 3/5; 22/25] START max_depth=9, n_estimators=3...............................\n",
      "[CV 3/5; 22/25] END .............max_depth=9, n_estimators=3; total time=   0.7s\n",
      "[CV 4/5; 22/25] START max_depth=9, n_estimators=3...............................\n",
      "[CV 4/5; 22/25] END .............max_depth=9, n_estimators=3; total time=   0.7s\n",
      "[CV 5/5; 22/25] START max_depth=9, n_estimators=3...............................\n",
      "[CV 5/5; 22/25] END .............max_depth=9, n_estimators=3; total time=   0.6s\n",
      "[CV 1/5; 23/25] START max_depth=9, n_estimators=5...............................\n",
      "[CV 1/5; 23/25] END .............max_depth=9, n_estimators=5; total time=   1.1s\n",
      "[CV 2/5; 23/25] START max_depth=9, n_estimators=5...............................\n",
      "[CV 2/5; 23/25] END .............max_depth=9, n_estimators=5; total time=   1.1s\n",
      "[CV 3/5; 23/25] START max_depth=9, n_estimators=5...............................\n",
      "[CV 3/5; 23/25] END .............max_depth=9, n_estimators=5; total time=   1.1s\n",
      "[CV 4/5; 23/25] START max_depth=9, n_estimators=5...............................\n",
      "[CV 4/5; 23/25] END .............max_depth=9, n_estimators=5; total time=   1.1s\n",
      "[CV 5/5; 23/25] START max_depth=9, n_estimators=5...............................\n",
      "[CV 5/5; 23/25] END .............max_depth=9, n_estimators=5; total time=   1.2s\n",
      "[CV 1/5; 24/25] START max_depth=9, n_estimators=7...............................\n",
      "[CV 1/5; 24/25] END .............max_depth=9, n_estimators=7; total time=   1.7s\n",
      "[CV 2/5; 24/25] START max_depth=9, n_estimators=7...............................\n",
      "[CV 2/5; 24/25] END .............max_depth=9, n_estimators=7; total time=   1.4s\n",
      "[CV 3/5; 24/25] START max_depth=9, n_estimators=7...............................\n",
      "[CV 3/5; 24/25] END .............max_depth=9, n_estimators=7; total time=   1.4s\n",
      "[CV 4/5; 24/25] START max_depth=9, n_estimators=7...............................\n",
      "[CV 4/5; 24/25] END .............max_depth=9, n_estimators=7; total time=   1.5s\n",
      "[CV 5/5; 24/25] START max_depth=9, n_estimators=7...............................\n",
      "[CV 5/5; 24/25] END .............max_depth=9, n_estimators=7; total time=   1.5s\n",
      "[CV 1/5; 25/25] START max_depth=9, n_estimators=9...............................\n",
      "[CV 1/5; 25/25] END .............max_depth=9, n_estimators=9; total time=   1.8s\n",
      "[CV 2/5; 25/25] START max_depth=9, n_estimators=9...............................\n",
      "[CV 2/5; 25/25] END .............max_depth=9, n_estimators=9; total time=   1.9s\n",
      "[CV 3/5; 25/25] START max_depth=9, n_estimators=9...............................\n",
      "[CV 3/5; 25/25] END .............max_depth=9, n_estimators=9; total time=   1.9s\n",
      "[CV 4/5; 25/25] START max_depth=9, n_estimators=9...............................\n",
      "[CV 4/5; 25/25] END .............max_depth=9, n_estimators=9; total time=   1.8s\n",
      "[CV 5/5; 25/25] START max_depth=9, n_estimators=9...............................\n",
      "[CV 5/5; 25/25] END .............max_depth=9, n_estimators=9; total time=   1.9s\n"
     ]
    },
    {
     "data": {
      "text/plain": [
       "{'max_depth': 1, 'n_estimators': 3}"
      ]
     },
     "metadata": {},
     "output_type": "display_data"
    }
   ],
   "source": [
    "#случайный лес\n",
    "rf_grid_rougher = GridSearchCV(rf, rf_params, scoring = smape_score,  verbose=10 )\n",
    "rf_grid_rougher.fit(features_train, target_train['rougher.output.recovery'])\n",
    "display(rf_grid_rougher.best_params_)\n",
    "\n",
    "rf_grid_final = GridSearchCV(rf, rf_params, scoring = smape_score,  verbose=10 )\n",
    "rf_grid_final.fit(features_train, target_train['final.output.recovery'])\n",
    "display(rf_grid_final.best_params_)"
   ]
  },
  {
   "cell_type": "code",
   "execution_count": 34,
   "metadata": {},
   "outputs": [
    {
     "name": "stdout",
     "output_type": "stream",
     "text": [
      "Лучшие гиперпараметры для моделей:\n",
      "Случайный лес:\n",
      "RandomForestRegressor(max_depth=9, n_estimators=9)\n",
      "RandomForestRegressor(max_depth=1, n_estimators=3)\n",
      "-------------\n",
      "Решающее дерево:\n",
      "DecisionTreeRegressor(max_depth=7)\n",
      "DecisionTreeRegressor(max_depth=1)\n"
     ]
    }
   ],
   "source": [
    "print('Лучшие гиперпараметры для моделей:')\n",
    "print('Случайный лес:')\n",
    "print(rf_grid_rougher.best_estimator_)\n",
    "print(rf_grid_final.best_estimator_)\n",
    "print('-------------')\n",
    "print('Решающее дерево:')\n",
    "print(dt_grid_rougher.best_estimator_)\n",
    "print(dt_grid_final.best_estimator_)"
   ]
  },
  {
   "cell_type": "code",
   "execution_count": 35,
   "metadata": {},
   "outputs": [],
   "source": [
    "smape_rougher_rf = rf_grid_rougher.best_score_\n",
    "smape_final_rf = rf_grid_final.best_score_\n",
    "\n",
    "smape_rougher_dt = dt_grid_rougher.best_score_\n",
    "smape_final_dt = dt_grid_final.best_score_"
   ]
  },
  {
   "cell_type": "code",
   "execution_count": 36,
   "metadata": {},
   "outputs": [
    {
     "name": "stdout",
     "output_type": "stream",
     "text": [
      "rougher\n",
      "Решающее дерево: -6.954811094249631 Случайный лес: -6.275044015721271\n",
      "----------------------------\n",
      "final\n",
      "Решающее дерево: -8.364138872849848 Случайный лес: -8.313442275917058\n"
     ]
    }
   ],
   "source": [
    "print(\"rougher\")\n",
    "print(\"Решающее дерево:\", smape_rougher_dt,\"Случайный лес:\", smape_rougher_rf)\n",
    "print('----------------------------')\n",
    "print(\"final\")\n",
    "print(\"Решающее дерево:\", smape_final_dt,\"Случайный лес:\", smape_final_rf)"
   ]
  },
  {
   "cell_type": "code",
   "execution_count": 37,
   "metadata": {},
   "outputs": [
    {
     "data": {
      "text/plain": [
       "-7.803842710868111"
      ]
     },
     "execution_count": 37,
     "metadata": {},
     "output_type": "execute_result"
    }
   ],
   "source": [
    "#Случайный лес\n",
    "final_smape(smape_rougher_rf, smape_final_rf)"
   ]
  },
  {
   "cell_type": "code",
   "execution_count": 38,
   "metadata": {},
   "outputs": [
    {
     "data": {
      "text/plain": [
       "-8.011806928199793"
      ]
     },
     "execution_count": 38,
     "metadata": {},
     "output_type": "execute_result"
    }
   ],
   "source": [
    "#Решающее дерево\n",
    "final_smape(smape_rougher_dt, smape_final_dt)"
   ]
  },
  {
   "cell_type": "markdown",
   "metadata": {},
   "source": [
    "Не похоже на правдоподобные результаты, хотябы потому, что я не использовал `StandartScaler()`"
   ]
  },
  {
   "cell_type": "code",
   "execution_count": 68,
   "metadata": {},
   "outputs": [],
   "source": [
    "#Получим предсказания для теста\n",
    "test_rougher = rf_grid_rougher.predict(gold_test.loc[:, gold_test.columns != 'date'])\n",
    "test_final = rf_grid_final.predict(gold_test.loc[:, gold_test.columns != 'date'])"
   ]
  },
  {
   "cell_type": "code",
   "execution_count": 69,
   "metadata": {},
   "outputs": [
    {
     "data": {
      "text/plain": [
       "8.730762508153223"
      ]
     },
     "execution_count": 69,
     "metadata": {},
     "output_type": "execute_result"
    }
   ],
   "source": [
    "final_smape(sMAPE(test_target['rougher.output.recovery'],test_rougher),sMAPE(test_target['final.output.recovery'],test_final))"
   ]
  },
  {
   "cell_type": "markdown",
   "metadata": {},
   "source": [
    "### Сравним результаты с константной моделью"
   ]
  },
  {
   "cell_type": "code",
   "execution_count": 70,
   "metadata": {},
   "outputs": [],
   "source": [
    "#Выберем стратегию предсказания - медиану\n",
    "dummy_rougher_mdl = DummyRegressor(strategy=\"median\")\n",
    "dummy_final_mdl = DummyRegressor(strategy=\"median\")"
   ]
  },
  {
   "cell_type": "code",
   "execution_count": 71,
   "metadata": {},
   "outputs": [
    {
     "data": {
      "text/plain": [
       "DummyRegressor(strategy='median')"
      ]
     },
     "execution_count": 71,
     "metadata": {},
     "output_type": "execute_result"
    }
   ],
   "source": [
    "dummy_rougher_mdl.fit(features_train, target_train['rougher.output.recovery'])\n",
    "dummy_final_mdl.fit(features_train, target_train['final.output.recovery'])"
   ]
  },
  {
   "cell_type": "code",
   "execution_count": 72,
   "metadata": {},
   "outputs": [],
   "source": [
    "dummy_rougher = dummy_rougher_mdl.predict(gold_test.loc[:, gold_test.columns != 'date'])\n",
    "dummy_final = dummy_final_mdl.predict(gold_test.loc[:, gold_test.columns != 'date'])"
   ]
  },
  {
   "cell_type": "code",
   "execution_count": 73,
   "metadata": {},
   "outputs": [
    {
     "data": {
      "text/plain": [
       "8.981563153496168"
      ]
     },
     "execution_count": 73,
     "metadata": {},
     "output_type": "execute_result"
    }
   ],
   "source": [
    "final_smape(sMAPE(test_target['rougher.output.recovery'],dummy_rougher),sMAPE(test_target['final.output.recovery'],dummy_final))"
   ]
  },
  {
   "cell_type": "markdown",
   "metadata": {},
   "source": [
    "### Вывод\n",
    "sMAPE на dummy - модели ниже, чем на тестовой выборке. Значит результат на тесте - приемлимый."
   ]
  },
  {
   "cell_type": "markdown",
   "metadata": {},
   "source": [
    "# Выводы\n",
    "Проведена предобработка данных. Проверена правильность расчета обогощения. Обработаны пропуски.\n",
    "\n",
    "Обнаружено, что в тестовом наборе данных отутствуют целевые переменные. Вернули их из полного набора данных методом Merge по переменной `date`.\n",
    "\n",
    "Лучшей моделью для предсказания коэффициента восстановления золота оказалась - `RandomForestRegressor()`. **sMAPE** на тестовом наборе данных составил 8,7. На константной модели sMAPE - 8.9.\n",
    "\n",
    "В любом случае - спасибо за ревью!"
   ]
  }
 ],
 "metadata": {
  "ExecuteTimeLog": [
   {
    "duration": 16,
    "start_time": "2023-02-24T12:48:25.230Z"
   },
   {
    "duration": 5,
    "start_time": "2023-02-24T12:49:12.682Z"
   },
   {
    "duration": 4,
    "start_time": "2023-02-24T12:49:13.105Z"
   },
   {
    "duration": 8,
    "start_time": "2023-02-24T12:49:14.306Z"
   },
   {
    "duration": 12,
    "start_time": "2023-02-24T12:49:44.474Z"
   },
   {
    "duration": 126408,
    "start_time": "2023-02-24T12:50:22.260Z"
   },
   {
    "duration": 4,
    "start_time": "2023-02-24T12:53:42.326Z"
   },
   {
    "duration": 11,
    "start_time": "2023-02-24T12:57:06.357Z"
   },
   {
    "duration": 1639,
    "start_time": "2023-02-24T20:17:34.200Z"
   },
   {
    "duration": 3324,
    "start_time": "2023-02-24T20:17:35.841Z"
   },
   {
    "duration": 55,
    "start_time": "2023-02-24T20:17:39.166Z"
   },
   {
    "duration": 48,
    "start_time": "2023-02-24T20:17:39.227Z"
   },
   {
    "duration": 52,
    "start_time": "2023-02-24T20:17:39.277Z"
   },
   {
    "duration": 6,
    "start_time": "2023-02-24T20:17:39.332Z"
   },
   {
    "duration": 11,
    "start_time": "2023-02-24T20:17:39.339Z"
   },
   {
    "duration": 5,
    "start_time": "2023-02-24T20:17:39.351Z"
   },
   {
    "duration": 8,
    "start_time": "2023-02-24T20:17:39.357Z"
   },
   {
    "duration": 5,
    "start_time": "2023-02-24T20:17:39.367Z"
   },
   {
    "duration": 10,
    "start_time": "2023-02-24T20:17:39.373Z"
   },
   {
    "duration": 14,
    "start_time": "2023-02-24T20:17:39.384Z"
   },
   {
    "duration": 35,
    "start_time": "2023-02-24T20:17:39.420Z"
   },
   {
    "duration": 24,
    "start_time": "2023-02-24T20:17:39.456Z"
   },
   {
    "duration": 12,
    "start_time": "2023-02-24T20:17:39.482Z"
   },
   {
    "duration": 4,
    "start_time": "2023-02-24T20:17:39.495Z"
   },
   {
    "duration": 4687,
    "start_time": "2023-02-24T20:17:39.501Z"
   },
   {
    "duration": 14,
    "start_time": "2023-02-24T20:17:44.209Z"
   },
   {
    "duration": 1261,
    "start_time": "2023-02-24T20:17:44.225Z"
   },
   {
    "duration": 11,
    "start_time": "2023-02-24T20:17:45.488Z"
   },
   {
    "duration": 2096,
    "start_time": "2023-02-24T20:17:45.501Z"
   },
   {
    "duration": 4,
    "start_time": "2023-02-24T20:17:47.598Z"
   },
   {
    "duration": 92,
    "start_time": "2023-02-24T20:17:47.604Z"
   },
   {
    "duration": 4,
    "start_time": "2023-02-24T20:17:47.698Z"
   },
   {
    "duration": 6,
    "start_time": "2023-02-24T20:17:47.704Z"
   },
   {
    "duration": 4,
    "start_time": "2023-02-24T20:17:47.712Z"
   },
   {
    "duration": 24,
    "start_time": "2023-02-24T20:17:47.717Z"
   },
   {
    "duration": 28,
    "start_time": "2023-02-24T20:17:47.746Z"
   },
   {
    "duration": 11,
    "start_time": "2023-02-24T20:17:47.776Z"
   },
   {
    "duration": 6,
    "start_time": "2023-02-24T20:17:47.789Z"
   },
   {
    "duration": 8,
    "start_time": "2023-02-24T20:17:47.796Z"
   },
   {
    "duration": 128455,
    "start_time": "2023-02-24T20:17:47.805Z"
   },
   {
    "duration": 122,
    "start_time": "2023-02-24T20:19:56.262Z"
   },
   {
    "duration": 0,
    "start_time": "2023-02-24T20:19:56.386Z"
   },
   {
    "duration": 0,
    "start_time": "2023-02-24T20:19:56.387Z"
   },
   {
    "duration": 0,
    "start_time": "2023-02-24T20:19:56.388Z"
   },
   {
    "duration": 0,
    "start_time": "2023-02-24T20:19:56.389Z"
   },
   {
    "duration": 0,
    "start_time": "2023-02-24T20:19:56.390Z"
   },
   {
    "duration": 0,
    "start_time": "2023-02-24T20:19:56.391Z"
   },
   {
    "duration": 0,
    "start_time": "2023-02-24T20:19:56.392Z"
   },
   {
    "duration": 155592,
    "start_time": "2023-02-24T20:24:33.563Z"
   },
   {
    "duration": 9,
    "start_time": "2023-02-24T20:28:01.020Z"
   },
   {
    "duration": 2,
    "start_time": "2023-02-24T20:28:03.540Z"
   },
   {
    "duration": 5,
    "start_time": "2023-02-24T20:28:05.404Z"
   },
   {
    "duration": 4,
    "start_time": "2023-02-24T20:28:09.092Z"
   },
   {
    "duration": 4,
    "start_time": "2023-02-24T20:28:11.671Z"
   },
   {
    "duration": 14,
    "start_time": "2023-02-24T20:28:19.199Z"
   },
   {
    "duration": 18,
    "start_time": "2023-02-24T20:28:20.719Z"
   },
   {
    "duration": 15,
    "start_time": "2023-02-24T20:28:32.527Z"
   },
   {
    "duration": 19,
    "start_time": "2023-02-24T20:28:33.906Z"
   },
   {
    "duration": 1354,
    "start_time": "2023-02-24T20:29:04.427Z"
   },
   {
    "duration": 672,
    "start_time": "2023-02-24T20:29:05.783Z"
   },
   {
    "duration": 72,
    "start_time": "2023-02-24T20:29:06.456Z"
   },
   {
    "duration": 46,
    "start_time": "2023-02-24T20:29:06.530Z"
   },
   {
    "duration": 60,
    "start_time": "2023-02-24T20:29:06.578Z"
   },
   {
    "duration": 3,
    "start_time": "2023-02-24T20:29:06.640Z"
   },
   {
    "duration": 10,
    "start_time": "2023-02-24T20:29:06.645Z"
   },
   {
    "duration": 6,
    "start_time": "2023-02-24T20:29:06.657Z"
   },
   {
    "duration": 9,
    "start_time": "2023-02-24T20:29:06.664Z"
   },
   {
    "duration": 6,
    "start_time": "2023-02-24T20:29:06.676Z"
   },
   {
    "duration": 42,
    "start_time": "2023-02-24T20:29:06.683Z"
   },
   {
    "duration": 17,
    "start_time": "2023-02-24T20:29:06.727Z"
   },
   {
    "duration": 24,
    "start_time": "2023-02-24T20:29:06.746Z"
   },
   {
    "duration": 24,
    "start_time": "2023-02-24T20:29:06.771Z"
   },
   {
    "duration": 35,
    "start_time": "2023-02-24T20:29:06.796Z"
   },
   {
    "duration": 5,
    "start_time": "2023-02-24T20:29:06.832Z"
   },
   {
    "duration": 4435,
    "start_time": "2023-02-24T20:29:06.838Z"
   },
   {
    "duration": 9,
    "start_time": "2023-02-24T20:29:11.275Z"
   },
   {
    "duration": 1076,
    "start_time": "2023-02-24T20:29:11.285Z"
   },
   {
    "duration": 12,
    "start_time": "2023-02-24T20:29:12.363Z"
   },
   {
    "duration": 2191,
    "start_time": "2023-02-24T20:29:12.376Z"
   },
   {
    "duration": 4,
    "start_time": "2023-02-24T20:29:14.569Z"
   },
   {
    "duration": 107,
    "start_time": "2023-02-24T20:29:14.575Z"
   },
   {
    "duration": 3,
    "start_time": "2023-02-24T20:29:14.685Z"
   },
   {
    "duration": 18,
    "start_time": "2023-02-24T20:29:14.691Z"
   },
   {
    "duration": 16,
    "start_time": "2023-02-24T20:29:14.712Z"
   },
   {
    "duration": 17,
    "start_time": "2023-02-24T20:29:14.730Z"
   },
   {
    "duration": 14,
    "start_time": "2023-02-24T20:29:14.751Z"
   },
   {
    "duration": 9,
    "start_time": "2023-02-24T20:29:14.767Z"
   },
   {
    "duration": 13,
    "start_time": "2023-02-24T20:29:14.778Z"
   },
   {
    "duration": 10,
    "start_time": "2023-02-24T20:29:14.793Z"
   },
   {
    "duration": 121475,
    "start_time": "2023-02-24T20:29:14.806Z"
   },
   {
    "duration": 154488,
    "start_time": "2023-02-24T20:31:16.284Z"
   },
   {
    "duration": 10,
    "start_time": "2023-02-24T20:33:50.774Z"
   },
   {
    "duration": 4,
    "start_time": "2023-02-24T20:33:50.787Z"
   },
   {
    "duration": 29,
    "start_time": "2023-02-24T20:33:50.793Z"
   },
   {
    "duration": 23,
    "start_time": "2023-02-24T20:33:50.825Z"
   },
   {
    "duration": 13,
    "start_time": "2023-02-24T20:33:50.850Z"
   },
   {
    "duration": 26,
    "start_time": "2023-02-24T20:33:50.865Z"
   },
   {
    "duration": 138,
    "start_time": "2023-02-24T20:33:50.893Z"
   },
   {
    "duration": 5,
    "start_time": "2023-02-24T20:40:53.389Z"
   },
   {
    "duration": 6,
    "start_time": "2023-02-24T20:41:23.551Z"
   },
   {
    "duration": 5,
    "start_time": "2023-02-24T20:41:27.755Z"
   },
   {
    "duration": 5,
    "start_time": "2023-02-24T20:41:36.580Z"
   },
   {
    "duration": 6,
    "start_time": "2023-02-24T20:41:56.762Z"
   },
   {
    "duration": 40,
    "start_time": "2023-02-24T20:42:04.842Z"
   },
   {
    "duration": 26,
    "start_time": "2023-02-24T20:42:40.629Z"
   },
   {
    "duration": 5,
    "start_time": "2023-02-24T20:42:56.564Z"
   },
   {
    "duration": 4,
    "start_time": "2023-02-24T20:43:03.694Z"
   },
   {
    "duration": 5,
    "start_time": "2023-02-24T20:43:10.478Z"
   },
   {
    "duration": 36,
    "start_time": "2023-02-24T20:43:15.801Z"
   },
   {
    "duration": 5,
    "start_time": "2023-02-24T20:43:30.440Z"
   },
   {
    "duration": 29,
    "start_time": "2023-02-24T20:43:35.000Z"
   },
   {
    "duration": 29,
    "start_time": "2023-02-24T20:43:41.013Z"
   },
   {
    "duration": 7,
    "start_time": "2023-02-24T20:51:59.043Z"
   },
   {
    "duration": 34,
    "start_time": "2023-02-24T20:52:06.315Z"
   },
   {
    "duration": 7,
    "start_time": "2023-02-24T20:52:31.453Z"
   },
   {
    "duration": 42,
    "start_time": "2023-02-24T20:52:45.513Z"
   },
   {
    "duration": 38,
    "start_time": "2023-02-24T20:57:25.296Z"
   },
   {
    "duration": 5,
    "start_time": "2023-02-24T20:57:31.946Z"
   },
   {
    "duration": 5,
    "start_time": "2023-02-24T20:57:38.486Z"
   },
   {
    "duration": 31,
    "start_time": "2023-02-24T20:58:28.519Z"
   },
   {
    "duration": 5,
    "start_time": "2023-02-24T20:59:08.805Z"
   },
   {
    "duration": 5,
    "start_time": "2023-02-24T20:59:15.487Z"
   },
   {
    "duration": 7,
    "start_time": "2023-02-24T20:59:23.816Z"
   },
   {
    "duration": 28,
    "start_time": "2023-02-24T20:59:37.290Z"
   },
   {
    "duration": 58,
    "start_time": "2023-02-24T21:01:00.037Z"
   },
   {
    "duration": 16,
    "start_time": "2023-02-24T21:01:14.199Z"
   },
   {
    "duration": 9,
    "start_time": "2023-02-24T21:01:15.471Z"
   },
   {
    "duration": 3,
    "start_time": "2023-02-24T21:13:56.141Z"
   },
   {
    "duration": 7,
    "start_time": "2023-02-24T21:16:18.572Z"
   },
   {
    "duration": 7,
    "start_time": "2023-02-24T21:17:54.581Z"
   },
   {
    "duration": 9,
    "start_time": "2023-02-24T21:18:16.846Z"
   }
  ],
  "kernelspec": {
   "display_name": "Python 3 (ipykernel)",
   "language": "python",
   "name": "python3"
  },
  "language_info": {
   "codemirror_mode": {
    "name": "ipython",
    "version": 3
   },
   "file_extension": ".py",
   "mimetype": "text/x-python",
   "name": "python",
   "nbconvert_exporter": "python",
   "pygments_lexer": "ipython3",
   "version": "3.10.9"
  },
  "toc": {
   "base_numbering": 1,
   "nav_menu": {},
   "number_sections": true,
   "sideBar": true,
   "skip_h1_title": true,
   "title_cell": "Содержание",
   "title_sidebar": "Contents",
   "toc_cell": true,
   "toc_position": {
    "height": "calc(100% - 180px)",
    "left": "10px",
    "top": "150px",
    "width": "165px"
   },
   "toc_section_display": true,
   "toc_window_display": true
  }
 },
 "nbformat": 4,
 "nbformat_minor": 2
}
